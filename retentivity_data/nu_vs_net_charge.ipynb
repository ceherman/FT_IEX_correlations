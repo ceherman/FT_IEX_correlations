{
 "cells": [
  {
   "cell_type": "code",
   "execution_count": 1,
   "id": "40e5c3e0",
   "metadata": {
    "ExecuteTime": {
     "end_time": "2021-11-10T18:19:50.318858Z",
     "start_time": "2021-11-10T18:19:50.302241Z"
    }
   },
   "outputs": [],
   "source": [
    "%load_ext autoreload\n",
    "%autoreload 2"
   ]
  },
  {
   "cell_type": "code",
   "execution_count": 2,
   "id": "c13516cc",
   "metadata": {
    "ExecuteTime": {
     "end_time": "2021-11-10T18:19:56.419217Z",
     "start_time": "2021-11-10T18:19:54.893645Z"
    }
   },
   "outputs": [
    {
     "data": {
      "text/html": [
       "<style>.container { width:100% !important; }</style>"
      ],
      "text/plain": [
       "<IPython.core.display.HTML object>"
      ]
     },
     "metadata": {},
     "output_type": "display_data"
    }
   ],
   "source": [
    "import numpy as np\n",
    "import pandas as pd\n",
    "import matplotlib\n",
    "import matplotlib.pyplot as plt\n",
    "import scipy\n",
    "from scipy import optimize, stats\n",
    "\n",
    "\n",
    "from IPython.core.display import display, HTML, clear_output\n",
    "display(HTML(\"<style>.container { width:100% !important; }</style>\"))\n",
    "\n",
    "import os\n",
    "import sys\n",
    "import multiprocessing as mp\n",
    "\n",
    "from Bio import SeqIO, SeqUtils\n",
    "import math\n",
    "import time"
   ]
  },
  {
   "cell_type": "code",
   "execution_count": 3,
   "id": "265e15d5",
   "metadata": {
    "ExecuteTime": {
     "end_time": "2021-11-10T18:20:00.013278Z",
     "start_time": "2021-11-10T18:19:59.988268Z"
    }
   },
   "outputs": [],
   "source": [
    "sys.path.append(\"./mean_field_electrostatics/v2/\")\n",
    "import base_classes\n",
    "import morbidelli as m\n",
    "import hubbuch as h\n",
    "import hsu\n",
    "import misc_functions as misc\n",
    "\n",
    "sys.path.append(\"/home/chase/codes/python_functions/\")\n",
    "import plotting as my_plot"
   ]
  },
  {
   "cell_type": "markdown",
   "id": "d5566726",
   "metadata": {},
   "source": [
    "# Function for estimating net charge"
   ]
  },
  {
   "cell_type": "code",
   "execution_count": 4,
   "id": "5305f570",
   "metadata": {
    "ExecuteTime": {
     "end_time": "2021-11-10T18:26:23.927090Z",
     "start_time": "2021-11-10T18:26:23.906334Z"
    }
   },
   "outputs": [],
   "source": [
    "def get_charge(pH, seq):\n",
    "    sol = base_classes.solution(pH, ion_str=0.1)\n",
    "    pro = m.protein(sol, seq=seq, dpr=2.0e-10, negative_sign=True)      \n",
    "    return pro.net_charge"
   ]
  },
  {
   "cell_type": "code",
   "execution_count": null,
   "id": "27755a77",
   "metadata": {},
   "outputs": [],
   "source": []
  },
  {
   "cell_type": "markdown",
   "id": "5020b5bb",
   "metadata": {},
   "source": [
    "# SDM parameter correlation"
   ]
  },
  {
   "cell_type": "code",
   "execution_count": 5,
   "id": "37bf117f",
   "metadata": {
    "ExecuteTime": {
     "end_time": "2021-11-10T18:31:03.963815Z",
     "start_time": "2021-11-10T18:31:03.924453Z"
    }
   },
   "outputs": [],
   "source": [
    "df_2_fit_parms = pd.read_csv('./lit_data/two_params_without_my_data.csv')\n",
    "df_2_fit_parms['ln_a'] = np.log(df_2_fit_parms.a)\n",
    "\n",
    "df_lge = pd.read_csv('./lit_data/gradient_data.csv')"
   ]
  },
  {
   "cell_type": "code",
   "execution_count": 6,
   "id": "ac41611d",
   "metadata": {
    "ExecuteTime": {
     "end_time": "2021-11-10T18:31:06.590504Z",
     "start_time": "2021-11-10T18:31:06.382954Z"
    }
   },
   "outputs": [],
   "source": [
    "def instantiate_fig(x=7, y=6):\n",
    "    fig, ax = plt.subplots()\n",
    "    fig.set_size_inches(x, y, forward=True)\n",
    "    font = {'weight' : 'normal', 'size'   : 20}\n",
    "    plt.rc('font', **font)\n",
    "    return fig, ax\n",
    "\n",
    "def set_layout(fig, ax, legend=False):\n",
    "    if legend:\n",
    "        ax.legend(loc='best', handlelength=1, frameon=False)\n",
    "    fig.patch.set_alpha(1)\n",
    "    plt.tight_layout()\n",
    "    return\n",
    "\n",
    "def get_reg_intervals(x, y, alpha=0.05, line_extension=0.0):\n",
    "    slope, intercept = np.polyfit(x, y, 1)  # linear model adjustment\n",
    "    y_model = np.polyval([slope, intercept], x)   # modeling...\n",
    "\n",
    "    x_mean = np.mean(x)\n",
    "    y_mean = np.mean(y)\n",
    "    n = x.size                        # number of samples\n",
    "    m = 2                             # number of parameters\n",
    "    dof = n - m                       # degrees of freedom\n",
    "    t = stats.t.ppf(1.0-alpha/2.0, dof) # Students statistic of interval confidence\n",
    "\n",
    "    residual = y - y_model\n",
    "    std_error = (np.sum(residual**2) / dof)**.5   # Standard deviation of the error\n",
    "\n",
    "    # mean squared error\n",
    "    MSE = 1/n * np.sum( residual**2 )\n",
    "\n",
    "    # to plot the adjusted model\n",
    "    x_line = np.linspace(np.min(x)-line_extension, np.max(x)+line_extension, 1000)\n",
    "    y_line = np.polyval([slope, intercept], x_line)\n",
    "\n",
    "    # intervals\n",
    "    ci = t * std_error * (1/n + (x_line - x_mean)**2 / np.sum((x - x_mean)**2))**.5\n",
    "    pi = t * std_error * (1 + 1/n + (x_line - x_mean)**2 / np.sum((x - x_mean)**2))**.5  \n",
    "    pred_err_var = (std_error**2.0) * (1 + 1/n + (x_line - x_mean)**2 / np.sum((x - x_mean)**2))\n",
    "    \n",
    "    return x_line, y_line, ci, pi, pred_err_var\n",
    "\n",
    "def get_pred_err_var(x, y, x_star):\n",
    "    slope, intercept = np.polyfit(x, y, 1)  \n",
    "    y_model = np.polyval([slope, intercept], x)  \n",
    "    residual = y - y_model\n",
    "\n",
    "    x_mean = np.mean(x)\n",
    "    y_mean = np.mean(y)\n",
    "    n = x.size                       \n",
    "    m = 2                            \n",
    "    dof = n - m   \n",
    "    \n",
    "    pred_err_var = (np.sum(residual**2) / dof) * (1 + 1/n + (x_star - x_mean)**2 / np.sum((x - x_mean)**2))\n",
    "    return pred_err_var\n",
    "    \n",
    "def plot_intervals(x, y, x_line, y_line, ci, pi):\n",
    "    fig, ax = instantiate_fig()\n",
    "    ax.set_xlabel('$a$')\n",
    "    ax.set_ylabel('$b$')\n",
    "    ax.set_xscale('log')\n",
    "    \n",
    "    color = 'blue'\n",
    "    ax.plot(np.exp(x), y, 'o', color = 'royalblue')\n",
    "    ax.plot(np.exp(x_line), y_line, color = 'royalblue', linestyle='--')\n",
    "    ax.fill_between(np.exp(x_line), y_line + pi, y_line - pi, color = 'lightcyan', label = '95% PI')\n",
    "    ax.fill_between(np.exp(x_line), y_line + ci, y_line - ci, color = 'skyblue', label = '95% CI')\n",
    "#     ax.legend(loc='upper right', fontsize=20)\n",
    "\n",
    "    return fig, ax\n",
    "\n",
    "def plot_intervals_reverse(x, y, x_line, y_line, ci, pi):\n",
    "    fig, ax = instantiate_fig()\n",
    "    ax.set_xlabel('$b$')\n",
    "    ax.set_ylabel('$a$')\n",
    "    ax.set_yscale('log')\n",
    "    \n",
    "    color = 'blue'\n",
    "    ax.plot(x, np.exp(y), 'o', color = 'royalblue')\n",
    "    ax.plot(x_line, np.exp(y_line), color = 'royalblue', linestyle='--')\n",
    "    ax.fill_between(x_line, np.exp(y_line + pi), np.exp(y_line - pi), color = 'lightcyan', label = '95% PI')\n",
    "    ax.fill_between(x_line, np.exp(y_line + ci), np.exp(y_line - ci), color = 'skyblue', label = '95% CI')\n",
    "    ax.legend(loc='upper right', fontsize=20)\n",
    "\n",
    "    return fig, ax\n",
    "\n",
    "def plot_intervals_reverse_ln(x, y, x_line, y_line, ci, pi):\n",
    "    fig, ax = instantiate_fig()\n",
    "    ax.set_xlabel('$b$')\n",
    "    ax.set_ylabel('$ln(a)$')\n",
    "    \n",
    "    color = 'blue'\n",
    "    ax.plot(x, y, 'o', color = 'royalblue')\n",
    "    ax.plot(x_line, y_line, color = 'royalblue', linestyle='--')\n",
    "    ax.fill_between(x_line, y_line + pi, y_line - pi, color = 'lightcyan', label = '95% PI')\n",
    "    ax.fill_between(x_line, y_line + ci, y_line - ci, color = 'skyblue', label = '95% CI')\n",
    "    ax.legend(loc='lower left', fontsize=16)\n",
    "\n",
    "    return fig, ax"
   ]
  },
  {
   "cell_type": "code",
   "execution_count": 8,
   "id": "a25e2de5",
   "metadata": {
    "ExecuteTime": {
     "end_time": "2021-11-10T18:31:10.868496Z",
     "start_time": "2021-11-10T18:31:10.084985Z"
    }
   },
   "outputs": [
    {
     "data": {
      "image/png": "[encoded data removed]",
      "text/plain": [
       "<Figure size 504x432 with 1 Axes>"
      ]
     },
     "metadata": {},
     "output_type": "display_data"
    }
   ],
   "source": [
    "fig, ax = instantiate_fig()\n",
    "ax.set_xlabel(r'$\\phi \\alpha$  [mM$^\\nu$]')\n",
    "ax.set_ylabel(r'$\\nu$', rotation=0, labelpad=20)\n",
    "\n",
    "ax.set_xscale('log')\n",
    "ax.set_xlim(np.exp(-2), np.exp(83))\n",
    "ax.set_ylim(0, 17.5)\n",
    "\n",
    "# iex_type_list = ['cex', 'aex']\n",
    "iex_type_list = ['aex', 'cex']\n",
    "\n",
    "for iex_type in iex_type_list:\n",
    "    df = df_2_fit_parms[df_2_fit_parms.iex_type==iex_type]\n",
    "\n",
    "    data = np.zeros((len(df), 2))\n",
    "    data[:,0] = df.ln_a\n",
    "    data[:,1] = -1*df.b\n",
    "\n",
    "    x = data[:,0]\n",
    "    y = data[:,1]\n",
    "\n",
    "    x_line, y_line, ci, pi, pred_err_var = get_reg_intervals(x, y, line_extension=10.0)\n",
    "    \n",
    "    if iex_type == 'aex':\n",
    "        color_1, color_2, color_3 = 'royalblue', 'skyblue', 'lightcyan'\n",
    "        marker = 'o'\n",
    "    elif iex_type == 'cex':\n",
    "        color_1, color_2, color_3 = 'darkorange', 'burlywood', 'bisque'\n",
    "        marker = 'D'\n",
    "    \n",
    "    ax.plot(np.exp(x), y, marker, color = color_1, label=iex_type.upper(), \n",
    "            fillstyle='none', markeredgewidth=1.5)\n",
    "    ax.plot(np.exp(x_line), y_line, color = color_1, linestyle='--')\n",
    "    ax.fill_between(np.exp(x_line), y_line + pi, y_line - pi, color = color_3)\n",
    "    ax.fill_between(np.exp(x_line), y_line + ci, y_line - ci, color = color_2)\n",
    "\n",
    "ax.plot(df_lge.phi_alpha, df_lge.nu, '^', color='black', label='CEX LGE', \n",
    "       fillstyle='none', markeredgewidth=1.5)\n",
    "\n",
    "ax.legend(loc='upper left', handlelength=0.2, frameon=False)\n",
    "set_layout(fig, ax)\n",
    "# fig.savefig(f'./images/manuscript_images/sdm_parameter_correlation.pdf')\n",
    "# fig.savefig('./images/manuscript_images/sdm_parameter_correlation.png', dpi=300)"
   ]
  },
  {
   "cell_type": "code",
   "execution_count": null,
   "id": "36026bb1",
   "metadata": {},
   "outputs": [],
   "source": []
  },
  {
   "cell_type": "code",
   "execution_count": 14,
   "id": "3f452e3c",
   "metadata": {
    "ExecuteTime": {
     "end_time": "2021-11-10T18:34:40.820806Z",
     "start_time": "2021-11-10T18:34:40.317883Z"
    }
   },
   "outputs": [
    {
     "data": {
      "image/png": "[encoded data removed]",
      "text/plain": [
       "<Figure size 504x432 with 1 Axes>"
      ]
     },
     "metadata": {},
     "output_type": "display_data"
    }
   ],
   "source": [
    "fig, ax = instantiate_fig()\n",
    "ax.set_xlabel(r'$\\phi \\alpha$  [mM$^\\nu$]')\n",
    "ax.set_ylabel(r'$\\nu$', rotation=0, labelpad=20)\n",
    "ax.set_xscale('log')\n",
    "ax.set_xlim(1e-1, 2e36)\n",
    "ax.set_ylim(0, 17.5)\n",
    "\n",
    "ax.scatter(np.exp(df_2_fit_parms.ln_a), -1*df_2_fit_parms.b)\n",
    "set_layout(fig, ax)\n"
   ]
  },
  {
   "cell_type": "code",
   "execution_count": null,
   "id": "e6c5dfb1",
   "metadata": {},
   "outputs": [],
   "source": []
  },
  {
   "cell_type": "markdown",
   "id": "5266c216",
   "metadata": {},
   "source": [
    "# New work"
   ]
  },
  {
   "cell_type": "code",
   "execution_count": 29,
   "id": "b507925a",
   "metadata": {
    "ExecuteTime": {
     "end_time": "2021-11-10T19:34:01.443400Z",
     "start_time": "2021-11-10T19:34:01.422407Z"
    }
   },
   "outputs": [],
   "source": [
    "df_2_fit_parms['nu'] = -1*df_2_fit_parms.b"
   ]
  },
  {
   "cell_type": "code",
   "execution_count": 32,
   "id": "73d575b3",
   "metadata": {
    "ExecuteTime": {
     "end_time": "2021-11-10T19:41:31.788119Z",
     "start_time": "2021-11-10T19:41:31.768827Z"
    }
   },
   "outputs": [
    {
     "data": {
      "text/plain": [
       "['FGF-1',\n",
       " 'FGF-2',\n",
       " 'alpha-chymotrypsinogen A',\n",
       " 'alpha-lactalbumin',\n",
       " 'anti-FVII mAb',\n",
       " 'aprotinin',\n",
       " 'cytochrome c',\n",
       " 'lipolase',\n",
       " 'lysozyme',\n",
       " 'mAb basic variant',\n",
       " 'mAb main variant',\n",
       " 'myoglobin',\n",
       " 'pepsinogen']"
      ]
     },
     "execution_count": 32,
     "metadata": {},
     "output_type": "execute_result"
    }
   ],
   "source": [
    "proteins = list(set(df_2_fit_parms.protein))\n",
    "proteins.sort()\n",
    "proteins"
   ]
  },
  {
   "cell_type": "code",
   "execution_count": 33,
   "id": "a05b9d94",
   "metadata": {
    "ExecuteTime": {
     "end_time": "2021-11-10T19:41:37.114154Z",
     "start_time": "2021-11-10T19:41:37.075326Z"
    }
   },
   "outputs": [
    {
     "name": "stdout",
     "output_type": "stream",
     "text": [
      "0 \t ('FGF-1', 7.0, 'DePhillips')\n",
      "1 \t ('FGF-2', 7.0, 'DePhillips')\n",
      "2 \t ('alpha-chymotrypsinogen A', 7.0, 'DePhillips')\n",
      "3 \t ('alpha-lactalbumin', 0.0, 'bai')\n",
      "4 \t ('anti-FVII mAb', 5.5, 'Staby')\n",
      "5 \t ('anti-FVII mAb', 8.0, 'Staby')\n",
      "6 \t ('aprotinin', 5.5, 'Staby')\n",
      "7 \t ('aprotinin', 9.0, 'Staby')\n",
      "8 \t ('cytochrome c', 7.0, 'DePhillips')\n",
      "9 \t ('lipolase', 8.0, 'Staby')\n",
      "10 \t ('lysozyme', 5.5, 'Staby')\n",
      "11 \t ('lysozyme', 7.0, 'DePhillips')\n",
      "12 \t ('mAb basic variant', 6.5, 'kumar')\n",
      "13 \t ('mAb basic variant', 7.0, 'kumar')\n",
      "14 \t ('mAb main variant', 6.5, 'kumar')\n",
      "15 \t ('mAb main variant', 7.0, 'kumar')\n",
      "16 \t ('myoglobin', 5.5, 'Staby')\n",
      "17 \t ('myoglobin', 9.0, 'Staby')\n",
      "18 \t ('pepsinogen', 0.0, 'bai')\n"
     ]
    }
   ],
   "source": [
    "combos = list(set(zip(df_2_fit_parms.protein, df_2_fit_parms.pH, df_2_fit_parms.data_set, )))\n",
    "combos.sort()\n",
    "for i, c in enumerate(combos):\n",
    "    print(i, '\\t', c)"
   ]
  },
  {
   "cell_type": "code",
   "execution_count": null,
   "id": "fce53756",
   "metadata": {},
   "outputs": [],
   "source": []
  },
  {
   "cell_type": "code",
   "execution_count": null,
   "id": "a6e9abbb",
   "metadata": {},
   "outputs": [],
   "source": []
  },
  {
   "cell_type": "code",
   "execution_count": null,
   "id": "4aae3f88",
   "metadata": {},
   "outputs": [],
   "source": []
  },
  {
   "cell_type": "code",
   "execution_count": null,
   "id": "ad0f6840",
   "metadata": {},
   "outputs": [],
   "source": []
  },
  {
   "cell_type": "code",
   "execution_count": null,
   "id": "b356ef58",
   "metadata": {},
   "outputs": [],
   "source": []
  },
  {
   "cell_type": "code",
   "execution_count": null,
   "id": "7089178b",
   "metadata": {},
   "outputs": [],
   "source": []
  },
  {
   "cell_type": "code",
   "execution_count": null,
   "id": "949b4677",
   "metadata": {},
   "outputs": [],
   "source": []
  },
  {
   "cell_type": "code",
   "execution_count": null,
   "id": "b4b01d38",
   "metadata": {},
   "outputs": [],
   "source": []
  },
  {
   "cell_type": "code",
   "execution_count": null,
   "id": "72515005",
   "metadata": {},
   "outputs": [],
   "source": []
  },
  {
   "cell_type": "code",
   "execution_count": null,
   "id": "14abbb99",
   "metadata": {},
   "outputs": [],
   "source": []
  },
  {
   "cell_type": "code",
   "execution_count": null,
   "id": "b090d5e0",
   "metadata": {},
   "outputs": [],
   "source": []
  },
  {
   "cell_type": "code",
   "execution_count": null,
   "id": "bffa959d",
   "metadata": {},
   "outputs": [],
   "source": []
  },
  {
   "cell_type": "code",
   "execution_count": 25,
   "id": "45535632",
   "metadata": {
    "ExecuteTime": {
     "end_time": "2021-11-10T18:39:35.189682Z",
     "start_time": "2021-11-10T18:39:35.154139Z"
    }
   },
   "outputs": [
    {
     "data": {
      "text/html": [
       "<div>\n",
       "<style scoped>\n",
       "    .dataframe tbody tr th:only-of-type {\n",
       "        vertical-align: middle;\n",
       "    }\n",
       "\n",
       "    .dataframe tbody tr th {\n",
       "        vertical-align: top;\n",
       "    }\n",
       "\n",
       "    .dataframe thead th {\n",
       "        text-align: right;\n",
       "    }\n",
       "</style>\n",
       "<table border=\"1\" class=\"dataframe\">\n",
       "  <thead>\n",
       "    <tr style=\"text-align: right;\">\n",
       "      <th></th>\n",
       "      <th>data_set</th>\n",
       "      <th>iex_type</th>\n",
       "      <th>resin</th>\n",
       "      <th>protein</th>\n",
       "      <th>pH</th>\n",
       "      <th>a</th>\n",
       "      <th>b</th>\n",
       "      <th>ln_a</th>\n",
       "      <th>nu</th>\n",
       "    </tr>\n",
       "  </thead>\n",
       "  <tbody>\n",
       "    <tr>\n",
       "      <th>12</th>\n",
       "      <td>bai</td>\n",
       "      <td>aex</td>\n",
       "      <td>Fractogel EMD DEAE (M)</td>\n",
       "      <td>alpha-lactalbumin</td>\n",
       "      <td>0.0</td>\n",
       "      <td>2.750328e+06</td>\n",
       "      <td>-2.820816</td>\n",
       "      <td>14.827231</td>\n",
       "      <td>2.820816</td>\n",
       "    </tr>\n",
       "    <tr>\n",
       "      <th>44</th>\n",
       "      <td>bai</td>\n",
       "      <td>aex</td>\n",
       "      <td>Toyopearl DEAE 650 M</td>\n",
       "      <td>alpha-lactalbumin</td>\n",
       "      <td>0.0</td>\n",
       "      <td>1.393205e+05</td>\n",
       "      <td>-2.856289</td>\n",
       "      <td>11.844533</td>\n",
       "      <td>2.856289</td>\n",
       "    </tr>\n",
       "    <tr>\n",
       "      <th>85</th>\n",
       "      <td>bai</td>\n",
       "      <td>aex</td>\n",
       "      <td>Fractogel EMD DMAE (M)</td>\n",
       "      <td>alpha-lactalbumin</td>\n",
       "      <td>0.0</td>\n",
       "      <td>4.108727e+05</td>\n",
       "      <td>-2.515395</td>\n",
       "      <td>12.926039</td>\n",
       "      <td>2.515395</td>\n",
       "    </tr>\n",
       "    <tr>\n",
       "      <th>94</th>\n",
       "      <td>bai</td>\n",
       "      <td>aex</td>\n",
       "      <td>Toyopearl SuperQ 650m</td>\n",
       "      <td>alpha-lactalbumin</td>\n",
       "      <td>0.0</td>\n",
       "      <td>6.807466e+05</td>\n",
       "      <td>-2.667803</td>\n",
       "      <td>13.430945</td>\n",
       "      <td>2.667803</td>\n",
       "    </tr>\n",
       "    <tr>\n",
       "      <th>148</th>\n",
       "      <td>bai</td>\n",
       "      <td>aex</td>\n",
       "      <td>DEAE Sepharose FF</td>\n",
       "      <td>alpha-lactalbumin</td>\n",
       "      <td>0.0</td>\n",
       "      <td>2.145999e+06</td>\n",
       "      <td>-2.998210</td>\n",
       "      <td>14.579116</td>\n",
       "      <td>2.998210</td>\n",
       "    </tr>\n",
       "    <tr>\n",
       "      <th>219</th>\n",
       "      <td>bai</td>\n",
       "      <td>aex</td>\n",
       "      <td>Q Sepharose FF</td>\n",
       "      <td>alpha-lactalbumin</td>\n",
       "      <td>0.0</td>\n",
       "      <td>7.527438e+07</td>\n",
       "      <td>-3.593757</td>\n",
       "      <td>18.136650</td>\n",
       "      <td>3.593757</td>\n",
       "    </tr>\n",
       "    <tr>\n",
       "      <th>228</th>\n",
       "      <td>bai</td>\n",
       "      <td>aex</td>\n",
       "      <td>Fractogel EMD TMAE</td>\n",
       "      <td>alpha-lactalbumin</td>\n",
       "      <td>0.0</td>\n",
       "      <td>5.847650e+04</td>\n",
       "      <td>-2.274022</td>\n",
       "      <td>10.976380</td>\n",
       "      <td>2.274022</td>\n",
       "    </tr>\n",
       "  </tbody>\n",
       "</table>\n",
       "</div>"
      ],
      "text/plain": [
       "    data_set iex_type                   resin            protein   pH  \\\n",
       "12       bai      aex  Fractogel EMD DEAE (M)  alpha-lactalbumin  0.0   \n",
       "44       bai      aex    Toyopearl DEAE 650 M  alpha-lactalbumin  0.0   \n",
       "85       bai      aex  Fractogel EMD DMAE (M)  alpha-lactalbumin  0.0   \n",
       "94       bai      aex   Toyopearl SuperQ 650m  alpha-lactalbumin  0.0   \n",
       "148      bai      aex       DEAE Sepharose FF  alpha-lactalbumin  0.0   \n",
       "219      bai      aex          Q Sepharose FF  alpha-lactalbumin  0.0   \n",
       "228      bai      aex      Fractogel EMD TMAE  alpha-lactalbumin  0.0   \n",
       "\n",
       "                a         b       ln_a        nu  \n",
       "12   2.750328e+06 -2.820816  14.827231  2.820816  \n",
       "44   1.393205e+05 -2.856289  11.844533  2.856289  \n",
       "85   4.108727e+05 -2.515395  12.926039  2.515395  \n",
       "94   6.807466e+05 -2.667803  13.430945  2.667803  \n",
       "148  2.145999e+06 -2.998210  14.579116  2.998210  \n",
       "219  7.527438e+07 -3.593757  18.136650  3.593757  \n",
       "228  5.847650e+04 -2.274022  10.976380  2.274022  "
      ]
     },
     "execution_count": 25,
     "metadata": {},
     "output_type": "execute_result"
    }
   ],
   "source": [
    "df_2_fit_parms[df_2_fit_parms.protein == 'alpha-lactalbumin']"
   ]
  },
  {
   "cell_type": "code",
   "execution_count": 26,
   "id": "cf0551a9",
   "metadata": {
    "ExecuteTime": {
     "end_time": "2021-11-10T18:40:00.930743Z",
     "start_time": "2021-11-10T18:40:00.900239Z"
    }
   },
   "outputs": [
    {
     "data": {
      "text/html": [
       "<div>\n",
       "<style scoped>\n",
       "    .dataframe tbody tr th:only-of-type {\n",
       "        vertical-align: middle;\n",
       "    }\n",
       "\n",
       "    .dataframe tbody tr th {\n",
       "        vertical-align: top;\n",
       "    }\n",
       "\n",
       "    .dataframe thead th {\n",
       "        text-align: right;\n",
       "    }\n",
       "</style>\n",
       "<table border=\"1\" class=\"dataframe\">\n",
       "  <thead>\n",
       "    <tr style=\"text-align: right;\">\n",
       "      <th></th>\n",
       "      <th>data_set</th>\n",
       "      <th>iex_type</th>\n",
       "      <th>resin</th>\n",
       "      <th>protein</th>\n",
       "      <th>pH</th>\n",
       "      <th>a</th>\n",
       "      <th>b</th>\n",
       "      <th>ln_a</th>\n",
       "      <th>nu</th>\n",
       "    </tr>\n",
       "  </thead>\n",
       "  <tbody>\n",
       "    <tr>\n",
       "      <th>1</th>\n",
       "      <td>bai</td>\n",
       "      <td>aex</td>\n",
       "      <td>Fractogel EMD TMAE</td>\n",
       "      <td>pepsinogen</td>\n",
       "      <td>0.0</td>\n",
       "      <td>7.240285e+09</td>\n",
       "      <td>-3.723251</td>\n",
       "      <td>22.702926</td>\n",
       "      <td>3.723251</td>\n",
       "    </tr>\n",
       "    <tr>\n",
       "      <th>39</th>\n",
       "      <td>bai</td>\n",
       "      <td>aex</td>\n",
       "      <td>Toyopearl DEAE 650 M</td>\n",
       "      <td>pepsinogen</td>\n",
       "      <td>0.0</td>\n",
       "      <td>4.316800e+05</td>\n",
       "      <td>-2.206629</td>\n",
       "      <td>12.975440</td>\n",
       "      <td>2.206629</td>\n",
       "    </tr>\n",
       "    <tr>\n",
       "      <th>88</th>\n",
       "      <td>bai</td>\n",
       "      <td>aex</td>\n",
       "      <td>Toyopearl SuperQ 650m</td>\n",
       "      <td>pepsinogen</td>\n",
       "      <td>0.0</td>\n",
       "      <td>7.897601e+15</td>\n",
       "      <td>-6.379148</td>\n",
       "      <td>36.605335</td>\n",
       "      <td>6.379148</td>\n",
       "    </tr>\n",
       "    <tr>\n",
       "      <th>93</th>\n",
       "      <td>bai</td>\n",
       "      <td>aex</td>\n",
       "      <td>Fractogel EMD DMAE (M)</td>\n",
       "      <td>pepsinogen</td>\n",
       "      <td>0.0</td>\n",
       "      <td>4.803188e+13</td>\n",
       "      <td>-4.895038</td>\n",
       "      <td>31.502886</td>\n",
       "      <td>4.895038</td>\n",
       "    </tr>\n",
       "    <tr>\n",
       "      <th>144</th>\n",
       "      <td>bai</td>\n",
       "      <td>aex</td>\n",
       "      <td>DEAE Sepharose FF</td>\n",
       "      <td>pepsinogen</td>\n",
       "      <td>0.0</td>\n",
       "      <td>9.809377e+08</td>\n",
       "      <td>-3.514762</td>\n",
       "      <td>20.704020</td>\n",
       "      <td>3.514762</td>\n",
       "    </tr>\n",
       "    <tr>\n",
       "      <th>166</th>\n",
       "      <td>bai</td>\n",
       "      <td>aex</td>\n",
       "      <td>Fractogel EMD DEAE (M)</td>\n",
       "      <td>pepsinogen</td>\n",
       "      <td>0.0</td>\n",
       "      <td>6.921611e+15</td>\n",
       "      <td>-5.660599</td>\n",
       "      <td>36.473425</td>\n",
       "      <td>5.660599</td>\n",
       "    </tr>\n",
       "    <tr>\n",
       "      <th>223</th>\n",
       "      <td>bai</td>\n",
       "      <td>aex</td>\n",
       "      <td>Q Sepharose FF</td>\n",
       "      <td>pepsinogen</td>\n",
       "      <td>0.0</td>\n",
       "      <td>8.181205e+12</td>\n",
       "      <td>-4.647687</td>\n",
       "      <td>29.732861</td>\n",
       "      <td>4.647687</td>\n",
       "    </tr>\n",
       "  </tbody>\n",
       "</table>\n",
       "</div>"
      ],
      "text/plain": [
       "    data_set iex_type                   resin     protein   pH             a  \\\n",
       "1        bai      aex      Fractogel EMD TMAE  pepsinogen  0.0  7.240285e+09   \n",
       "39       bai      aex    Toyopearl DEAE 650 M  pepsinogen  0.0  4.316800e+05   \n",
       "88       bai      aex   Toyopearl SuperQ 650m  pepsinogen  0.0  7.897601e+15   \n",
       "93       bai      aex  Fractogel EMD DMAE (M)  pepsinogen  0.0  4.803188e+13   \n",
       "144      bai      aex       DEAE Sepharose FF  pepsinogen  0.0  9.809377e+08   \n",
       "166      bai      aex  Fractogel EMD DEAE (M)  pepsinogen  0.0  6.921611e+15   \n",
       "223      bai      aex          Q Sepharose FF  pepsinogen  0.0  8.181205e+12   \n",
       "\n",
       "            b       ln_a        nu  \n",
       "1   -3.723251  22.702926  3.723251  \n",
       "39  -2.206629  12.975440  2.206629  \n",
       "88  -6.379148  36.605335  6.379148  \n",
       "93  -4.895038  31.502886  4.895038  \n",
       "144 -3.514762  20.704020  3.514762  \n",
       "166 -5.660599  36.473425  5.660599  \n",
       "223 -4.647687  29.732861  4.647687  "
      ]
     },
     "execution_count": 26,
     "metadata": {},
     "output_type": "execute_result"
    }
   ],
   "source": [
    "df_2_fit_parms[df_2_fit_parms.protein == 'pepsinogen']"
   ]
  },
  {
   "cell_type": "code",
   "execution_count": null,
   "id": "4d3032af",
   "metadata": {},
   "outputs": [],
   "source": []
  },
  {
   "cell_type": "code",
   "execution_count": null,
   "id": "9a617190",
   "metadata": {},
   "outputs": [],
   "source": []
  },
  {
   "cell_type": "code",
   "execution_count": null,
   "id": "cc4d149c",
   "metadata": {},
   "outputs": [],
   "source": []
  },
  {
   "cell_type": "code",
   "execution_count": null,
   "id": "1f4af719",
   "metadata": {},
   "outputs": [],
   "source": []
  },
  {
   "cell_type": "code",
   "execution_count": null,
   "id": "a35d5155",
   "metadata": {},
   "outputs": [],
   "source": []
  },
  {
   "cell_type": "code",
   "execution_count": null,
   "id": "eca62129",
   "metadata": {},
   "outputs": [],
   "source": []
  },
  {
   "cell_type": "code",
   "execution_count": null,
   "id": "50712434",
   "metadata": {},
   "outputs": [],
   "source": []
  },
  {
   "cell_type": "code",
   "execution_count": null,
   "id": "e40ea2c7",
   "metadata": {},
   "outputs": [],
   "source": []
  }
 ],
 "metadata": {
  "kernelspec": {
   "display_name": "Python 3 (ipykernel)",
   "language": "python",
   "name": "python3"
  },
  "language_info": {
   "codemirror_mode": {
    "name": "ipython",
    "version": 3
   },
   "file_extension": ".py",
   "mimetype": "text/x-python",
   "name": "python",
   "nbconvert_exporter": "python",
   "pygments_lexer": "ipython3",
   "version": "3.7.12"
  }
 },
 "nbformat": 4,
 "nbformat_minor": 5
}
