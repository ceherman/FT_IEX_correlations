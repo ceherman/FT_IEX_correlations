{
 "cells": [
  {
   "cell_type": "code",
   "execution_count": 1,
   "metadata": {
    "ExecuteTime": {
     "end_time": "2020-11-02T03:11:24.459798Z",
     "start_time": "2020-11-02T03:11:23.595809Z"
    }
   },
   "outputs": [
    {
     "data": {
      "text/html": [
       "<style>.container { width:100% !important; }</style>"
      ],
      "text/plain": [
       "<IPython.core.display.HTML object>"
      ]
     },
     "metadata": {},
     "output_type": "display_data"
    }
   ],
   "source": [
    "%load_ext autoreload\n",
    "%autoreload 2\n",
    "\n",
    "from cadet_imports import *"
   ]
  },
  {
   "cell_type": "code",
   "execution_count": 183,
   "metadata": {
    "ExecuteTime": {
     "end_time": "2020-11-02T14:32:45.793011Z",
     "start_time": "2020-11-02T14:32:45.765565Z"
    }
   },
   "outputs": [],
   "source": [
    "import my_cadet_utils as cad_utils\n",
    "import parameter_correlations as corr"
   ]
  },
  {
   "cell_type": "code",
   "execution_count": 189,
   "metadata": {
    "ExecuteTime": {
     "end_time": "2020-11-02T18:16:24.892086Z",
     "start_time": "2020-11-02T18:16:23.542753Z"
    }
   },
   "outputs": [
    {
     "name": "stderr",
     "output_type": "stream",
     "text": [
      "/home/chase/anaconda3/lib/python3.7/site-packages/scipy/optimize/minpack.py:829: OptimizeWarning: Covariance of the parameters could not be estimated\n",
      "  category=OptimizeWarning)\n"
     ]
    }
   ],
   "source": [
    "resin  = 'phq'\n",
    "salt_c = 100.0\n",
    "keq_vals, ds_vals = corr.get_column_params(resin, salt_c)\n",
    "\n",
    "keq_vals[1] *= 1e-4"
   ]
  },
  {
   "cell_type": "code",
   "execution_count": 190,
   "metadata": {
    "ExecuteTime": {
     "end_time": "2020-11-02T18:16:25.531728Z",
     "start_time": "2020-11-02T18:16:25.512428Z"
    }
   },
   "outputs": [],
   "source": [
    "# corr.plot_keq('phq')"
   ]
  },
  {
   "cell_type": "code",
   "execution_count": 191,
   "metadata": {
    "ExecuteTime": {
     "end_time": "2020-11-02T18:16:25.744790Z",
     "start_time": "2020-11-02T18:16:25.730589Z"
    }
   },
   "outputs": [],
   "source": [
    "# corr.plot_ds('phq')"
   ]
  },
  {
   "cell_type": "code",
   "execution_count": 192,
   "metadata": {
    "ExecuteTime": {
     "end_time": "2020-11-02T18:16:25.907497Z",
     "start_time": "2020-11-02T18:16:25.889247Z"
    }
   },
   "outputs": [],
   "source": [
    "proteins = ['ADH', 'BLG', 'CAT', 'OVA']\n",
    "dp_vals = [1e-11, 2.5e-11, 9.0e-12, 2.2e-11]\n",
    "\n",
    "order  = 1e1\n",
    "masses = [147, 37, 240, 43]\n",
    "c_load = [order/masses[0], order/masses[1], order/masses[2], order/masses[3]]\n",
    "\n",
    "cap_mg     = 100\n",
    "q_m_fac    = cap_mg/(1.0-0.694)\n",
    "# q_m_fac    = cap_mg\n",
    "\n",
    "q_max_vals = np.array([q_m_fac/masses[i] for i in range(4)])\n",
    "ka_vals    = [keq_vals[i]/q_max_vals[i] for i in range(len(q_max_vals))]"
   ]
  },
  {
   "cell_type": "code",
   "execution_count": 193,
   "metadata": {
    "ExecuteTime": {
     "end_time": "2020-11-02T18:16:26.071011Z",
     "start_time": "2020-11-02T18:16:26.052870Z"
    }
   },
   "outputs": [
    {
     "name": "stdout",
     "output_type": "stream",
     "text": [
      "[1.52404466e+00 6.16952761e+04 3.11185642e+01 3.78040453e+01]\n",
      "[6.85545770e-01 6.98513916e+03 2.28534736e+01 4.97425629e+00]\n",
      "[2.22311147 8.83236177 1.36165577 7.5999392 ]\n",
      "[0.06802721 0.27027027 0.04166667 0.23255814]\n",
      "[1.0e-11 2.5e-11 9.0e-12 2.2e-11]\n",
      "[4.91081877e-12 2.51839403e-28 1.33236926e-14 1.04903347e-18]\n"
     ]
    }
   ],
   "source": [
    "\n",
    "print(np.array(keq_vals))\n",
    "print(np.array(ka_vals))\n",
    "print(np.array(q_max_vals))\n",
    "print(np.array(c_load))\n",
    "print(np.array(dp_vals))\n",
    "print(np.array(ds_vals))\n",
    "\n",
    "\n"
   ]
  },
  {
   "cell_type": "code",
   "execution_count": 194,
   "metadata": {
    "ExecuteTime": {
     "end_time": "2020-11-02T18:16:26.635687Z",
     "start_time": "2020-11-02T18:16:26.226888Z"
    }
   },
   "outputs": [
    {
     "name": "stdout",
     "output_type": "stream",
     "text": [
      "Simulation completed successfully\n",
      "Simulation completed successfully\n",
      "Simulation completed successfully\n",
      "Simulation completed successfully\n"
     ]
    }
   ],
   "source": [
    "bulk  = {}\n",
    "solid = {}\n",
    "\n",
    "for i in range(4):\n",
    "    bulk[i], solid[i] = cad_utils.get_mcl_isotherm(ka_vals[i], q_max_vals[i])"
   ]
  },
  {
   "cell_type": "code",
   "execution_count": 195,
   "metadata": {
    "ExecuteTime": {
     "end_time": "2020-11-02T18:16:26.656144Z",
     "start_time": "2020-11-02T18:16:26.637898Z"
    }
   },
   "outputs": [],
   "source": [
    "image_folder = Path().absolute() / 'images'\n"
   ]
  },
  {
   "cell_type": "code",
   "execution_count": 196,
   "metadata": {
    "ExecuteTime": {
     "end_time": "2020-11-02T18:16:26.872932Z",
     "start_time": "2020-11-02T18:16:26.657460Z"
    }
   },
   "outputs": [
    {
     "data": {
      "text/plain": [
       "<matplotlib.legend.Legend at 0x7f6c553ddad0>"
      ]
     },
     "execution_count": 196,
     "metadata": {},
     "output_type": "execute_result"
    },
    {
     "data": {
      "image/png": "[encoded data removed]",
      "text/plain": [
       "<Figure size 504x360 with 1 Axes>"
      ]
     },
     "metadata": {
      "needs_background": "light"
     },
     "output_type": "display_data"
    }
   ],
   "source": [
    "fig, ax = plt.subplots()\n",
    "params  = {'font.weight':'normal', 'font.size':20, 'figure.autolayout':True}\n",
    "plt.rcParams.update(params)\n",
    "plt.xlabel('c [mol/m$^3$]')\n",
    "plt.ylabel('q [mol/m$^3$ solid]')\n",
    "fig.set_size_inches(7, 5, forward=True)\n",
    "# ax.set_xlim(-0.1, 5)\n",
    "\n",
    "for i in range(4):\n",
    "    plt.plot(bulk[i][:, 1], solid[i][:, 1], label=proteins[i])\n",
    "\n",
    "ax.legend(loc='best', frameon=False, handlelength=1.0)\n",
    "# image_file = (image_folder / ('isotherms_si_units_4_orders.png')).as_posix()\n",
    "# plt.savefig(image_file, dpi=300)"
   ]
  },
  {
   "cell_type": "code",
   "execution_count": 205,
   "metadata": {
    "ExecuteTime": {
     "end_time": "2020-11-02T18:21:23.493457Z",
     "start_time": "2020-11-02T18:21:23.091125Z"
    }
   },
   "outputs": [
    {
     "data": {
      "image/png": "[encoded data removed]",
      "text/plain": [
       "<Figure size 504x360 with 1 Axes>"
      ]
     },
     "metadata": {
      "needs_background": "light"
     },
     "output_type": "display_data"
    }
   ],
   "source": [
    "fig, ax = plt.subplots()\n",
    "params  = {'font.weight':'normal', 'font.size':20, 'figure.autolayout':True}\n",
    "plt.rcParams.update(params)\n",
    "plt.xlabel('c [mg/ml]')\n",
    "plt.ylabel('q [mg/ml column]')\n",
    "fig.set_size_inches(7, 5, forward=True)\n",
    "ax.set_xlim(-1e-7, 1e-4)\n",
    "ax.set_ylim(-1e-7, 1e0)\n",
    "\n",
    "\n",
    "for i in range(4):\n",
    "    plt.plot(bulk[i][:, 1]*masses[i], solid[i][:, 1]*masses[i]*(1-0.694), label=proteins[i])\n",
    "\n",
    "ax.legend(loc='best', frameon=False, handlelength=1.0)\n",
    "# image_file = (image_folder / ('isotherms_common_units_4_orders.png')).as_posix()\n",
    "image_file = (image_folder / ('isotherms_common_units.png')).as_posix()\n",
    "plt.savefig(image_file, dpi=300)"
   ]
  },
  {
   "cell_type": "code",
   "execution_count": null,
   "metadata": {},
   "outputs": [],
   "source": []
  },
  {
   "cell_type": "code",
   "execution_count": null,
   "metadata": {},
   "outputs": [],
   "source": []
  },
  {
   "cell_type": "code",
   "execution_count": null,
   "metadata": {},
   "outputs": [],
   "source": []
  },
  {
   "cell_type": "code",
   "execution_count": null,
   "metadata": {},
   "outputs": [],
   "source": []
  },
  {
   "cell_type": "code",
   "execution_count": null,
   "metadata": {},
   "outputs": [],
   "source": []
  }
 ],
 "metadata": {
  "kernelspec": {
   "display_name": "Python 3",
   "language": "python",
   "name": "python3"
  },
  "language_info": {
   "codemirror_mode": {
    "name": "ipython",
    "version": 3
   },
   "file_extension": ".py",
   "mimetype": "text/x-python",
   "name": "python",
   "nbconvert_exporter": "python",
   "pygments_lexer": "ipython3",
   "version": "3.7.4"
  }
 },
 "nbformat": 4,
 "nbformat_minor": 2
}
