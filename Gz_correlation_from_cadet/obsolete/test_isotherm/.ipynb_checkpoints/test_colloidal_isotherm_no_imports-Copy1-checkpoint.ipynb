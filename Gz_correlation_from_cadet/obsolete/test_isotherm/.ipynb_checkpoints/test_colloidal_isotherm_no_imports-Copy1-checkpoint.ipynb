{
 "cells": [
  {
   "cell_type": "code",
   "execution_count": 1,
   "metadata": {
    "ExecuteTime": {
     "end_time": "2021-06-25T19:50:37.999283Z",
     "start_time": "2021-06-25T19:50:37.988126Z"
    },
    "scrolled": true
   },
   "outputs": [
    {
     "data": {
      "text/html": [
       "<style>.container { width:100% !important; }</style>"
      ],
      "text/plain": [
       "<IPython.core.display.HTML object>"
      ]
     },
     "metadata": {},
     "output_type": "display_data"
    }
   ],
   "source": [
    "from IPython.core.display import display, HTML, clear_output\n",
    "display(HTML(\"<style>.container { width:100% !important; }</style>\"))"
   ]
  },
  {
   "cell_type": "markdown",
   "metadata": {},
   "source": [
    "## Imports"
   ]
  },
  {
   "cell_type": "code",
   "execution_count": 2,
   "metadata": {
    "ExecuteTime": {
     "end_time": "2021-06-25T19:50:38.772238Z",
     "start_time": "2021-06-25T19:50:38.401537Z"
    }
   },
   "outputs": [],
   "source": [
    "import platform\n",
    "from pathlib import Path\n",
    "from cadet import Cadet\n",
    "\n",
    "cadet_bin_path = Path.home() / \"codes\"/ \"cadet\" / 'cadet' / 'bin'\n",
    "\n",
    "\n",
    "if platform.system() == 'Windows':\n",
    "    cadet_path = cadet_bin_path / \"cadet-cli.exe\"\n",
    "    lwe_path = cadet_bin_path / \"createLWE.exe\"\n",
    "else:\n",
    "    cadet_path = cadet_bin_path / \"cadet-cli\"\n",
    "    lwe_path = cadet_bin_path / \"createLWE\"\n",
    "\n",
    "if cadet_path.exists() and lwe_path.exists():\n",
    "    Cadet.cadet_path = cadet_path.as_posix()\n",
    "elif cadet_path.exists() and not lwe_path.exists():\n",
    "    print(\"CADET was found but createLWE.exe was not found. \\\n",
    "           Please make sure that none of the files have been moved.\")\n",
    "else:\n",
    "    print(\"CADET could not be found. Please check the bin path\")\n",
    "\n",
    "# Standard imports______________________________________________________________\n",
    "\n",
    "import os\n",
    "import subprocess\n",
    "import time\n",
    "\n",
    "import numpy as np\n",
    "import scipy\n",
    "import pandas as pd # I added as pd\n",
    "import matplotlib as mpl\n",
    "import matplotlib.pyplot as plt\n",
    "from matplotlib.lines import Line2D\n",
    "\n",
    "from addict import Dict\n",
    "import json\n",
    "\n",
    "# Temporary files for simulation objects\n",
    "import tempfile\n",
    "tempfile.tempdir = os.path.join(Path.home())\n",
    "\n",
    "# IPython\n",
    "\n",
    "from IPython.display import Image\n",
    "from ipywidgets import interact, interactive\n",
    "import ipywidgets as widgets\n",
    "\n",
    "import copy\n",
    "\n"
   ]
  },
  {
   "cell_type": "markdown",
   "metadata": {},
   "source": [
    "## Utility functions"
   ]
  },
  {
   "cell_type": "code",
   "execution_count": 3,
   "metadata": {
    "ExecuteTime": {
     "end_time": "2021-06-25T19:50:39.713747Z",
     "start_time": "2021-06-25T19:50:39.696612Z"
    }
   },
   "outputs": [],
   "source": [
    "def run_simulation(cadet, file_name=None):\n",
    "    try:\n",
    "        os.mkdir('./temp_files')\n",
    "    except:\n",
    "        pass\n",
    "\n",
    "    if file_name is None:\n",
    "        f = next(tempfile._get_candidate_names())\n",
    "        cadet.filename = os.path.join(Path().absolute(), 'temp_files', f + '.h5')\n",
    "    else:\n",
    "        cadet.filename = os.path.join(Path().absolute(), 'temp_files', file_name + '.h5')\n",
    "    # save the simulation\n",
    "    cadet.save()\n",
    "\n",
    "    # run the simulation\n",
    "    data = cadet.run()\n",
    "\n",
    "    if data.returncode == 0:\n",
    "        print(\"Simulation completed successfully\")\n",
    "        cadet.load()\n",
    "    else:\n",
    "        print(data)\n",
    "        raise Exception(\"Simulation failed\")\n",
    "\n",
    "    if file_name is None:\n",
    "        os.remove(os.path.join(Path().absolute(), 'temp_files', f + '.h5'))\n",
    "\n",
    "    return cadet\n",
    "\n",
    "# General templates_____________________________________________________________\n",
    "\n",
    "def get_cadet_template(n_units=3, split_components_data=False):\n",
    "    cadet_template = Cadet()\n",
    "\n",
    "    cadet_template.root.input.model.nunits = n_units\n",
    "\n",
    "    # Store solution\n",
    "    cadet_template.root.input['return'].split_components_data = split_components_data\n",
    "    cadet_template.root.input['return'].split_ports_data = 0\n",
    "    cadet_template.root.input['return'].unit_000.write_solution_inlet = 1\n",
    "    cadet_template.root.input['return'].unit_000.write_solution_outlet = 1\n",
    "    cadet_template.root.input['return'].unit_000.write_solution_bulk = 1\n",
    "    cadet_template.root.input['return'].unit_000.write_solution_particle = 1\n",
    "    cadet_template.root.input['return'].unit_000.write_solution_solid = 1\n",
    "    cadet_template.root.input['return'].unit_000.write_solution_flux = 1\n",
    "    cadet_template.root.input['return'].unit_000.write_solution_volume = 1\n",
    "    cadet_template.root.input['return'].unit_000.write_coordinates = 1\n",
    "    cadet_template.root.input['return'].unit_000.write_sens_outlet = 1\n",
    "\n",
    "    for unit in range(n_units):\n",
    "        cadet_template.root.input['return']['unit_{0:03d}'.format(unit)] =\\\n",
    "         cadet_template.root.input['return'].unit_000\n",
    "\n",
    "    set_solver_settings(cadet_template)\n",
    "\n",
    "    return cadet_template\n",
    "\n",
    "def set_solver_settings(cadet_template):\n",
    "    # Tolerances for the time integrator\n",
    "    cadet_template.root.input.solver.time_integrator.abstol = 1e-6\n",
    "    cadet_template.root.input.solver.time_integrator.algtol = 1e-8\n",
    "    cadet_template.root.input.solver.time_integrator.reltol = 1e-6\n",
    "    cadet_template.root.input.solver.time_integrator.init_step_size = 1e-6\n",
    "    cadet_template.root.input.solver.time_integrator.max_steps = 1000000\n",
    "\n",
    "    # Solver settings\n",
    "    cadet_template.root.input.model.solver.gs_type = 1\n",
    "    cadet_template.root.input.model.solver.max_krylov = 0\n",
    "    cadet_template.root.input.model.solver.max_restarts = 10\n",
    "    cadet_template.root.input.model.solver.schur_safety = 1e-8\n",
    "\n",
    "    # Run the simulation on all threads\n",
    "    cadet_template.root.input.solver.nthreads = 1\n",
    "    return"
   ]
  },
  {
   "cell_type": "markdown",
   "metadata": {},
   "source": [
    "# Colloidal isotherm"
   ]
  },
  {
   "cell_type": "code",
   "execution_count": 4,
   "metadata": {
    "ExecuteTime": {
     "end_time": "2021-06-25T19:50:48.222842Z",
     "start_time": "2021-06-25T19:50:41.263168Z"
    }
   },
   "outputs": [
    {
     "ename": "KeyboardInterrupt",
     "evalue": "",
     "output_type": "error",
     "traceback": [
      "\u001b[0;31m---------------------------------------------------------------------------\u001b[0m",
      "\u001b[0;31mKeyboardInterrupt\u001b[0m                         Traceback (most recent call last)",
      "\u001b[0;32m<ipython-input-4-6fbcde12fb2c>\u001b[0m in \u001b[0;36m<module>\u001b[0;34m\u001b[0m\n\u001b[1;32m     57\u001b[0m \u001b[0mlinear_gradient_model\u001b[0m\u001b[0;34m.\u001b[0m\u001b[0mroot\u001b[0m\u001b[0;34m.\u001b[0m\u001b[0minput\u001b[0m\u001b[0;34m.\u001b[0m\u001b[0mmodel\u001b[0m\u001b[0;34m.\u001b[0m\u001b[0munit_001\u001b[0m\u001b[0;34m.\u001b[0m\u001b[0madsorption\u001b[0m \u001b[0;34m=\u001b[0m \u001b[0madsorption_parameters\u001b[0m\u001b[0;34m\u001b[0m\u001b[0;34m\u001b[0m\u001b[0m\n\u001b[1;32m     58\u001b[0m \u001b[0;34m\u001b[0m\u001b[0m\n\u001b[0;32m---> 59\u001b[0;31m \u001b[0mrun_simulation\u001b[0m\u001b[0;34m(\u001b[0m\u001b[0mlinear_gradient_model\u001b[0m\u001b[0;34m,\u001b[0m \u001b[0;34m'colloidal_test'\u001b[0m\u001b[0;34m)\u001b[0m\u001b[0;34m\u001b[0m\u001b[0;34m\u001b[0m\u001b[0m\n\u001b[0m\u001b[1;32m     60\u001b[0m \u001b[0msolution_bulk\u001b[0m  \u001b[0;34m=\u001b[0m \u001b[0mlinear_gradient_model\u001b[0m\u001b[0;34m.\u001b[0m\u001b[0mroot\u001b[0m\u001b[0;34m.\u001b[0m\u001b[0moutput\u001b[0m\u001b[0;34m.\u001b[0m\u001b[0msolution\u001b[0m\u001b[0;34m.\u001b[0m\u001b[0munit_001\u001b[0m\u001b[0;34m.\u001b[0m\u001b[0msolution_bulk\u001b[0m\u001b[0;34m\u001b[0m\u001b[0;34m\u001b[0m\u001b[0m\n\u001b[1;32m     61\u001b[0m \u001b[0msolution_solid\u001b[0m \u001b[0;34m=\u001b[0m \u001b[0mlinear_gradient_model\u001b[0m\u001b[0;34m.\u001b[0m\u001b[0mroot\u001b[0m\u001b[0;34m.\u001b[0m\u001b[0moutput\u001b[0m\u001b[0;34m.\u001b[0m\u001b[0msolution\u001b[0m\u001b[0;34m.\u001b[0m\u001b[0munit_001\u001b[0m\u001b[0;34m.\u001b[0m\u001b[0msolution_solid\u001b[0m\u001b[0;34m\u001b[0m\u001b[0;34m\u001b[0m\u001b[0m\n",
      "\u001b[0;32m<ipython-input-3-b4c0b659f60a>\u001b[0m in \u001b[0;36mrun_simulation\u001b[0;34m(cadet, file_name)\u001b[0m\n\u001b[1;32m     14\u001b[0m \u001b[0;34m\u001b[0m\u001b[0m\n\u001b[1;32m     15\u001b[0m     \u001b[0;31m# run the simulation\u001b[0m\u001b[0;34m\u001b[0m\u001b[0;34m\u001b[0m\u001b[0;34m\u001b[0m\u001b[0m\n\u001b[0;32m---> 16\u001b[0;31m     \u001b[0mdata\u001b[0m \u001b[0;34m=\u001b[0m \u001b[0mcadet\u001b[0m\u001b[0;34m.\u001b[0m\u001b[0mrun\u001b[0m\u001b[0;34m(\u001b[0m\u001b[0;34m)\u001b[0m\u001b[0;34m\u001b[0m\u001b[0;34m\u001b[0m\u001b[0m\n\u001b[0m\u001b[1;32m     17\u001b[0m \u001b[0;34m\u001b[0m\u001b[0m\n\u001b[1;32m     18\u001b[0m     \u001b[0;32mif\u001b[0m \u001b[0mdata\u001b[0m\u001b[0;34m.\u001b[0m\u001b[0mreturncode\u001b[0m \u001b[0;34m==\u001b[0m \u001b[0;36m0\u001b[0m\u001b[0;34m:\u001b[0m\u001b[0;34m\u001b[0m\u001b[0;34m\u001b[0m\u001b[0m\n",
      "\u001b[0;32m~/anaconda3/lib/python3.7/site-packages/cadet/cadet.py\u001b[0m in \u001b[0;36mrun\u001b[0;34m(self, timeout, check)\u001b[0m\n\u001b[1;32m    107\u001b[0m     \u001b[0;32mdef\u001b[0m \u001b[0mrun\u001b[0m\u001b[0;34m(\u001b[0m\u001b[0mself\u001b[0m\u001b[0;34m,\u001b[0m \u001b[0mtimeout\u001b[0m \u001b[0;34m=\u001b[0m \u001b[0;32mNone\u001b[0m\u001b[0;34m,\u001b[0m \u001b[0mcheck\u001b[0m\u001b[0;34m=\u001b[0m\u001b[0;32mNone\u001b[0m\u001b[0;34m)\u001b[0m\u001b[0;34m:\u001b[0m\u001b[0;34m\u001b[0m\u001b[0;34m\u001b[0m\u001b[0m\n\u001b[1;32m    108\u001b[0m         \u001b[0;32mif\u001b[0m \u001b[0mself\u001b[0m\u001b[0;34m.\u001b[0m\u001b[0mfilename\u001b[0m \u001b[0;32mis\u001b[0m \u001b[0;32mnot\u001b[0m \u001b[0;32mNone\u001b[0m\u001b[0;34m:\u001b[0m\u001b[0;34m\u001b[0m\u001b[0;34m\u001b[0m\u001b[0m\n\u001b[0;32m--> 109\u001b[0;31m             \u001b[0mdata\u001b[0m \u001b[0;34m=\u001b[0m \u001b[0msubprocess\u001b[0m\u001b[0;34m.\u001b[0m\u001b[0mrun\u001b[0m\u001b[0;34m(\u001b[0m\u001b[0;34m[\u001b[0m\u001b[0mself\u001b[0m\u001b[0;34m.\u001b[0m\u001b[0mcadet_path\u001b[0m\u001b[0;34m,\u001b[0m \u001b[0mself\u001b[0m\u001b[0;34m.\u001b[0m\u001b[0mfilename\u001b[0m\u001b[0;34m]\u001b[0m\u001b[0;34m,\u001b[0m \u001b[0mtimeout\u001b[0m \u001b[0;34m=\u001b[0m \u001b[0mtimeout\u001b[0m\u001b[0;34m,\u001b[0m \u001b[0mcheck\u001b[0m\u001b[0;34m=\u001b[0m\u001b[0mcheck\u001b[0m\u001b[0;34m,\u001b[0m \u001b[0mcapture_output\u001b[0m\u001b[0;34m=\u001b[0m\u001b[0;32mTrue\u001b[0m\u001b[0;34m)\u001b[0m\u001b[0;34m\u001b[0m\u001b[0;34m\u001b[0m\u001b[0m\n\u001b[0m\u001b[1;32m    110\u001b[0m             \u001b[0mself\u001b[0m\u001b[0;34m.\u001b[0m\u001b[0mreturn_information\u001b[0m \u001b[0;34m=\u001b[0m \u001b[0mdata\u001b[0m\u001b[0;34m\u001b[0m\u001b[0;34m\u001b[0m\u001b[0m\n\u001b[1;32m    111\u001b[0m             \u001b[0;32mreturn\u001b[0m \u001b[0mdata\u001b[0m\u001b[0;34m\u001b[0m\u001b[0;34m\u001b[0m\u001b[0m\n",
      "\u001b[0;32m~/anaconda3/lib/python3.7/subprocess.py\u001b[0m in \u001b[0;36mrun\u001b[0;34m(input, capture_output, timeout, check, *popenargs, **kwargs)\u001b[0m\n\u001b[1;32m    472\u001b[0m     \u001b[0;32mwith\u001b[0m \u001b[0mPopen\u001b[0m\u001b[0;34m(\u001b[0m\u001b[0;34m*\u001b[0m\u001b[0mpopenargs\u001b[0m\u001b[0;34m,\u001b[0m \u001b[0;34m**\u001b[0m\u001b[0mkwargs\u001b[0m\u001b[0;34m)\u001b[0m \u001b[0;32mas\u001b[0m \u001b[0mprocess\u001b[0m\u001b[0;34m:\u001b[0m\u001b[0;34m\u001b[0m\u001b[0;34m\u001b[0m\u001b[0m\n\u001b[1;32m    473\u001b[0m         \u001b[0;32mtry\u001b[0m\u001b[0;34m:\u001b[0m\u001b[0;34m\u001b[0m\u001b[0;34m\u001b[0m\u001b[0m\n\u001b[0;32m--> 474\u001b[0;31m             \u001b[0mstdout\u001b[0m\u001b[0;34m,\u001b[0m \u001b[0mstderr\u001b[0m \u001b[0;34m=\u001b[0m \u001b[0mprocess\u001b[0m\u001b[0;34m.\u001b[0m\u001b[0mcommunicate\u001b[0m\u001b[0;34m(\u001b[0m\u001b[0minput\u001b[0m\u001b[0;34m,\u001b[0m \u001b[0mtimeout\u001b[0m\u001b[0;34m=\u001b[0m\u001b[0mtimeout\u001b[0m\u001b[0;34m)\u001b[0m\u001b[0;34m\u001b[0m\u001b[0;34m\u001b[0m\u001b[0m\n\u001b[0m\u001b[1;32m    475\u001b[0m         \u001b[0;32mexcept\u001b[0m \u001b[0mTimeoutExpired\u001b[0m\u001b[0;34m:\u001b[0m\u001b[0;34m\u001b[0m\u001b[0;34m\u001b[0m\u001b[0m\n\u001b[1;32m    476\u001b[0m             \u001b[0mprocess\u001b[0m\u001b[0;34m.\u001b[0m\u001b[0mkill\u001b[0m\u001b[0;34m(\u001b[0m\u001b[0;34m)\u001b[0m\u001b[0;34m\u001b[0m\u001b[0;34m\u001b[0m\u001b[0m\n",
      "\u001b[0;32m~/anaconda3/lib/python3.7/subprocess.py\u001b[0m in \u001b[0;36mcommunicate\u001b[0;34m(self, input, timeout)\u001b[0m\n\u001b[1;32m    937\u001b[0m \u001b[0;34m\u001b[0m\u001b[0m\n\u001b[1;32m    938\u001b[0m             \u001b[0;32mtry\u001b[0m\u001b[0;34m:\u001b[0m\u001b[0;34m\u001b[0m\u001b[0;34m\u001b[0m\u001b[0m\n\u001b[0;32m--> 939\u001b[0;31m                 \u001b[0mstdout\u001b[0m\u001b[0;34m,\u001b[0m \u001b[0mstderr\u001b[0m \u001b[0;34m=\u001b[0m \u001b[0mself\u001b[0m\u001b[0;34m.\u001b[0m\u001b[0m_communicate\u001b[0m\u001b[0;34m(\u001b[0m\u001b[0minput\u001b[0m\u001b[0;34m,\u001b[0m \u001b[0mendtime\u001b[0m\u001b[0;34m,\u001b[0m \u001b[0mtimeout\u001b[0m\u001b[0;34m)\u001b[0m\u001b[0;34m\u001b[0m\u001b[0;34m\u001b[0m\u001b[0m\n\u001b[0m\u001b[1;32m    940\u001b[0m             \u001b[0;32mexcept\u001b[0m \u001b[0mKeyboardInterrupt\u001b[0m\u001b[0;34m:\u001b[0m\u001b[0;34m\u001b[0m\u001b[0;34m\u001b[0m\u001b[0m\n\u001b[1;32m    941\u001b[0m                 \u001b[0;31m# https://bugs.python.org/issue25942\u001b[0m\u001b[0;34m\u001b[0m\u001b[0;34m\u001b[0m\u001b[0;34m\u001b[0m\u001b[0m\n",
      "\u001b[0;32m~/anaconda3/lib/python3.7/subprocess.py\u001b[0m in \u001b[0;36m_communicate\u001b[0;34m(self, input, endtime, orig_timeout)\u001b[0m\n\u001b[1;32m   1679\u001b[0m                         \u001b[0;32mraise\u001b[0m \u001b[0mTimeoutExpired\u001b[0m\u001b[0;34m(\u001b[0m\u001b[0mself\u001b[0m\u001b[0;34m.\u001b[0m\u001b[0margs\u001b[0m\u001b[0;34m,\u001b[0m \u001b[0morig_timeout\u001b[0m\u001b[0;34m)\u001b[0m\u001b[0;34m\u001b[0m\u001b[0;34m\u001b[0m\u001b[0m\n\u001b[1;32m   1680\u001b[0m \u001b[0;34m\u001b[0m\u001b[0m\n\u001b[0;32m-> 1681\u001b[0;31m                     \u001b[0mready\u001b[0m \u001b[0;34m=\u001b[0m \u001b[0mselector\u001b[0m\u001b[0;34m.\u001b[0m\u001b[0mselect\u001b[0m\u001b[0;34m(\u001b[0m\u001b[0mtimeout\u001b[0m\u001b[0;34m)\u001b[0m\u001b[0;34m\u001b[0m\u001b[0;34m\u001b[0m\u001b[0m\n\u001b[0m\u001b[1;32m   1682\u001b[0m                     \u001b[0mself\u001b[0m\u001b[0;34m.\u001b[0m\u001b[0m_check_timeout\u001b[0m\u001b[0;34m(\u001b[0m\u001b[0mendtime\u001b[0m\u001b[0;34m,\u001b[0m \u001b[0morig_timeout\u001b[0m\u001b[0;34m)\u001b[0m\u001b[0;34m\u001b[0m\u001b[0;34m\u001b[0m\u001b[0m\n\u001b[1;32m   1683\u001b[0m \u001b[0;34m\u001b[0m\u001b[0m\n",
      "\u001b[0;32m~/anaconda3/lib/python3.7/selectors.py\u001b[0m in \u001b[0;36mselect\u001b[0;34m(self, timeout)\u001b[0m\n\u001b[1;32m    413\u001b[0m         \u001b[0mready\u001b[0m \u001b[0;34m=\u001b[0m \u001b[0;34m[\u001b[0m\u001b[0;34m]\u001b[0m\u001b[0;34m\u001b[0m\u001b[0;34m\u001b[0m\u001b[0m\n\u001b[1;32m    414\u001b[0m         \u001b[0;32mtry\u001b[0m\u001b[0;34m:\u001b[0m\u001b[0;34m\u001b[0m\u001b[0;34m\u001b[0m\u001b[0m\n\u001b[0;32m--> 415\u001b[0;31m             \u001b[0mfd_event_list\u001b[0m \u001b[0;34m=\u001b[0m \u001b[0mself\u001b[0m\u001b[0;34m.\u001b[0m\u001b[0m_selector\u001b[0m\u001b[0;34m.\u001b[0m\u001b[0mpoll\u001b[0m\u001b[0;34m(\u001b[0m\u001b[0mtimeout\u001b[0m\u001b[0;34m)\u001b[0m\u001b[0;34m\u001b[0m\u001b[0;34m\u001b[0m\u001b[0m\n\u001b[0m\u001b[1;32m    416\u001b[0m         \u001b[0;32mexcept\u001b[0m \u001b[0mInterruptedError\u001b[0m\u001b[0;34m:\u001b[0m\u001b[0;34m\u001b[0m\u001b[0;34m\u001b[0m\u001b[0m\n\u001b[1;32m    417\u001b[0m             \u001b[0;32mreturn\u001b[0m \u001b[0mready\u001b[0m\u001b[0;34m\u001b[0m\u001b[0;34m\u001b[0m\u001b[0m\n",
      "\u001b[0;31mKeyboardInterrupt\u001b[0m: "
     ]
    }
   ],
   "source": [
    "linear_gradient_model = get_cadet_template(n_units=2)\n",
    "n_comp = 3\n",
    "Q = 1e-3\n",
    "\n",
    "# INLET\n",
    "linear_gradient_model.root.input.model.unit_000.unit_type = 'INLET'\n",
    "linear_gradient_model.root.input.model.unit_000.ncomp = n_comp\n",
    "linear_gradient_model.root.input.model.unit_000.inlet_type = 'PIECEWISE_CUBIC_POLY'\n",
    "\n",
    "# CSTR\n",
    "linear_gradient_model.root.input.model.unit_001.unit_type = 'CSTR'\n",
    "linear_gradient_model.root.input.model.unit_001.use_analytic_jacobian = 0\n",
    "\n",
    "linear_gradient_model.root.input.model.unit_001.ncomp = n_comp\n",
    "linear_gradient_model.root.input.model.unit_001.init_volume = 1e-3\n",
    "linear_gradient_model.root.input.model.unit_001.porosity = 0.7\n",
    "linear_gradient_model.root.input.model.unit_001.init_c = [10.0, 7.0, 0.0]\n",
    "linear_gradient_model.root.input.model.unit_001.init_q = [0.0, 0.0, 0.0]\n",
    "linear_gradient_model.root.input.model.unit_001.flow_rate_filter = Q\n",
    "\n",
    "# Sections and Switches\n",
    "linear_gradient_model.root.input.solver.sections.nsec = 1\n",
    "linear_gradient_model.root.input.solver.sections.section_times = [0.0, 200]\n",
    "\n",
    "linear_gradient_model.root.input.model.unit_000.sec_000.const_coeff = [10.0, 7.0, 0.0]\n",
    "linear_gradient_model.root.input.model.unit_000.sec_000.lin_coeff = [0.0, 0.0, 1.0]\n",
    "\n",
    "linear_gradient_model.root.input.model.connections.nswitches = 1\n",
    "linear_gradient_model.root.input.model.connections.switch_000.section = 0\n",
    "linear_gradient_model.root.input.model.connections.switch_000.connections = [0, 1, -1, -1, Q]\n",
    "\n",
    "adsorption_model = \"MULTI_COMPONENT_COLLOIDAL\"\n",
    "adsorption_parameters = Dict()\n",
    "adsorption_parameters.is_kinetic = True\n",
    "adsorption_parameters.col_phi =  # 4.9e7 # m2 / m3\n",
    "adsorption_parameters.col_kappa_exp =  # 0 # 0.5\n",
    "adsorption_parameters.col_kappa_fact =  # 0.0 # 1.04e8\n",
    "adsorption_parameters.col_kappa_const =  # 2.5 # nm, default to 0\n",
    "adsorption_parameters.col_cordnum =  # 6.0 # hex packing\n",
    "adsorption_parameters.col_logkeq_ph_exp =  # [0.0, 0.0, 0.0]\n",
    "adsorption_parameters.col_logkeq_salt_powexp =  # [0.0, 0.0, 1.4]\n",
    "adsorption_parameters.col_logkeq_salt_powfact =  # [0.0, 0.0, 53430]\n",
    "adsorption_parameters.col_logkeq_salt_expfact =  # [0.0, 0.0, 0.0]\n",
    "adsorption_parameters.col_logkeq_salt_expargmult =  # [0.0, 0.0, 0.0]\n",
    "adsorption_parameters.col_bpp_ph_exp =  # [0.0, 0.0, 0.0]\n",
    "adsorption_parameters.col_bpp_salt_powexp =  # [0.0, 0.0, 37220] \n",
    "adsorption_parameters.col_bpp_salt_powfact =  # [0.0, 0.0, -2.25]\n",
    "adsorption_parameters.col_bpp_salt_expfact =  # [0.0, 0.0, 0.0]\n",
    "adsorption_parameters.col_bpp_salt_expargmult =  # [0.0, 0.0, 0.0]\n",
    "adsorption_parameters.col_radius =  # [1e-9, 1e-9, 4.5e-9] # make nonzero\n",
    "adsorption_parameters.col_kkin =  # [1e10, 1e10, 1e10] # e6 to e12 -- instant equilibration; 0.1 - 0.9 for kinetic effects; doesn't work though\n",
    "adsorption_parameters.col_linear_threshold =  # 1.0e-7\n",
    "adsorption_parameters.col_use_ph =  # True\n",
    "\n",
    "linear_gradient_model.root.input.model.unit_001.nbound = [0, 0, 1]\n",
    "linear_gradient_model.root.input.model.unit_001.adsorption_model = adsorption_model\n",
    "linear_gradient_model.root.input.model.unit_001.adsorption = adsorption_parameters\n",
    "\n",
    "run_simulation(linear_gradient_model, 'colloidal_test')\n",
    "solution_bulk  = linear_gradient_model.root.output.solution.unit_001.solution_bulk\n",
    "solution_solid = linear_gradient_model.root.output.solution.unit_001.solution_solid"
   ]
  },
  {
   "cell_type": "code",
   "execution_count": null,
   "metadata": {
    "ExecuteTime": {
     "start_time": "2021-06-21T19:53:31.445Z"
    }
   },
   "outputs": [],
   "source": [
    "# fig, ax = plt.subplots()\n",
    "# params  = {'font.weight':'normal', 'font.size':20, 'figure.autolayout':True}\n",
    "# plt.rcParams.update(params)\n",
    "# plt.xlabel('c [mol/m$^3$]')\n",
    "# plt.ylabel('q [mol/m$^3$ solid]')\n",
    "# fig.set_size_inches(7, 5, forward=True)\n",
    "\n",
    "# ax.plot(solution_bulk[:,2], solution_solid[:,0])"
   ]
  },
  {
   "cell_type": "code",
   "execution_count": null,
   "metadata": {},
   "outputs": [],
   "source": []
  },
  {
   "cell_type": "code",
   "execution_count": null,
   "metadata": {},
   "outputs": [],
   "source": []
  },
  {
   "cell_type": "code",
   "execution_count": null,
   "metadata": {},
   "outputs": [],
   "source": []
  },
  {
   "cell_type": "code",
   "execution_count": null,
   "metadata": {},
   "outputs": [],
   "source": []
  },
  {
   "cell_type": "code",
   "execution_count": null,
   "metadata": {},
   "outputs": [],
   "source": []
  },
  {
   "cell_type": "code",
   "execution_count": null,
   "metadata": {},
   "outputs": [],
   "source": []
  },
  {
   "cell_type": "code",
   "execution_count": null,
   "metadata": {},
   "outputs": [],
   "source": []
  },
  {
   "cell_type": "code",
   "execution_count": null,
   "metadata": {},
   "outputs": [],
   "source": []
  },
  {
   "cell_type": "code",
   "execution_count": null,
   "metadata": {},
   "outputs": [],
   "source": []
  },
  {
   "cell_type": "code",
   "execution_count": null,
   "metadata": {},
   "outputs": [],
   "source": []
  }
 ],
 "metadata": {
  "kernelspec": {
   "display_name": "Python 3",
   "language": "python",
   "name": "python3"
  },
  "language_info": {
   "codemirror_mode": {
    "name": "ipython",
    "version": 3
   },
   "file_extension": ".py",
   "mimetype": "text/x-python",
   "name": "python",
   "nbconvert_exporter": "python",
   "pygments_lexer": "ipython3",
   "version": "3.7.4"
  }
 },
 "nbformat": 4,
 "nbformat_minor": 2
}
