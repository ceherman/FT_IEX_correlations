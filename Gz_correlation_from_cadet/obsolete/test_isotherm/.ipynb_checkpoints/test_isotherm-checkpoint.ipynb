{
 "cells": [
  {
   "cell_type": "code",
   "execution_count": 1,
   "metadata": {
    "ExecuteTime": {
     "end_time": "2021-06-21T12:49:05.955937Z",
     "start_time": "2021-06-21T12:49:05.935509Z"
    }
   },
   "outputs": [
    {
     "data": {
      "text/html": [
       "<style>.container { width:100% !important; }</style>"
      ],
      "text/plain": [
       "<IPython.core.display.HTML object>"
      ]
     },
     "metadata": {},
     "output_type": "display_data"
    }
   ],
   "source": [
    "from IPython.core.display import display, HTML, clear_output\n",
    "display(HTML(\"<style>.container { width:100% !important; }</style>\"))\n",
    "\n",
    "%load_ext autoreload\n",
    "%autoreload 2"
   ]
  },
  {
   "cell_type": "code",
   "execution_count": 2,
   "metadata": {
    "ExecuteTime": {
     "end_time": "2021-06-21T12:49:07.000899Z",
     "start_time": "2021-06-21T12:49:06.206539Z"
    }
   },
   "outputs": [],
   "source": [
    "import my_cadet_utils as cad_utils\n",
    "from cadet_imports import *"
   ]
  },
  {
   "cell_type": "markdown",
   "metadata": {},
   "source": [
    "# Langmuir isotherm"
   ]
  },
  {
   "cell_type": "code",
   "execution_count": 3,
   "metadata": {
    "ExecuteTime": {
     "end_time": "2021-06-21T12:49:07.160703Z",
     "start_time": "2021-06-21T12:49:07.002184Z"
    }
   },
   "outputs": [
    {
     "name": "stdout",
     "output_type": "stream",
     "text": [
      "Simulation completed successfully\n"
     ]
    }
   ],
   "source": [
    "linear_gradient_model = cad_utils.get_cadet_template(n_units=2)\n",
    "n_comp = 2\n",
    "Q = 1e-3\n",
    "\n",
    "# INLET\n",
    "linear_gradient_model.root.input.model.unit_000.unit_type = 'INLET'\n",
    "linear_gradient_model.root.input.model.unit_000.ncomp = n_comp\n",
    "linear_gradient_model.root.input.model.unit_000.inlet_type = 'PIECEWISE_CUBIC_POLY'\n",
    "\n",
    "# CSTR\n",
    "linear_gradient_model.root.input.model.unit_001.unit_type = 'CSTR'\n",
    "linear_gradient_model.root.input.model.unit_001.use_analytic_jacobian = 0\n",
    "\n",
    "linear_gradient_model.root.input.model.unit_001.ncomp = n_comp\n",
    "linear_gradient_model.root.input.model.unit_001.init_volume = 1e-3\n",
    "linear_gradient_model.root.input.model.unit_001.porosity = 0.694\n",
    "linear_gradient_model.root.input.model.unit_001.init_c = n_comp*[0]\n",
    "linear_gradient_model.root.input.model.unit_001.init_q = n_comp*[0]\n",
    "linear_gradient_model.root.input.model.unit_001.flow_rate_filter = Q\n",
    "\n",
    "# Sections and Switches\n",
    "linear_gradient_model.root.input.solver.sections.nsec = 1\n",
    "linear_gradient_model.root.input.solver.sections.section_times = [0.0, 200]\n",
    "\n",
    "linear_gradient_model.root.input.model.unit_000.sec_000.const_coeff = [0.0, 0]\n",
    "linear_gradient_model.root.input.model.unit_000.sec_000.lin_coeff = [0, 1]\n",
    "\n",
    "linear_gradient_model.root.input.model.connections.nswitches = 1\n",
    "linear_gradient_model.root.input.model.connections.switch_000.section = 0\n",
    "linear_gradient_model.root.input.model.connections.switch_000.connections = [0, 1, -1, -1, Q]\n",
    "\n",
    "adsorption_model = 'MULTI_COMPONENT_LANGMUIR'\n",
    "adsorption_parameters = Dict()\n",
    "adsorption_parameters.is_kinetic = False\n",
    "adsorption_parameters.mcl_ka = [0, 10.0]\n",
    "adsorption_parameters.mcl_kd = [0, 1]\n",
    "adsorption_parameters.mcl_qmax = [0, 100.0]\n",
    "\n",
    "linear_gradient_model.root.input.model.unit_001.nbound = [0, 1]\n",
    "linear_gradient_model.root.input.model.unit_001.adsorption_model = adsorption_model\n",
    "linear_gradient_model.root.input.model.unit_001.adsorption = adsorption_parameters\n",
    "\n",
    "cad_utils.run_simulation(linear_gradient_model)\n",
    "solution_bulk  = linear_gradient_model.root.output.solution.unit_001.solution_bulk\n",
    "solution_solid = linear_gradient_model.root.output.solution.unit_001.solution_solid"
   ]
  },
  {
   "cell_type": "code",
   "execution_count": 5,
   "metadata": {
    "ExecuteTime": {
     "end_time": "2021-06-21T12:49:10.412969Z",
     "start_time": "2021-06-21T12:49:10.259937Z"
    }
   },
   "outputs": [
    {
     "data": {
      "text/plain": [
       "[<matplotlib.lines.Line2D at 0x7fc004de6150>]"
      ]
     },
     "execution_count": 5,
     "metadata": {},
     "output_type": "execute_result"
    },
    {
     "data": {
      "image/png": "[encoded data removed]",
      "text/plain": [
       "<Figure size 504x360 with 1 Axes>"
      ]
     },
     "metadata": {
      "needs_background": "light"
     },
     "output_type": "display_data"
    }
   ],
   "source": [
    "fig, ax = plt.subplots()\n",
    "params  = {'font.weight':'normal', 'font.size':20, 'figure.autolayout':True}\n",
    "plt.rcParams.update(params)\n",
    "plt.xlabel('c [mol/m$^3$]')\n",
    "plt.ylabel('q [mol/m$^3$ solid]')\n",
    "fig.set_size_inches(7, 5, forward=True)\n",
    "# ax.set_xlim(-0.1, 5)\n",
    "\n",
    "ax.plot(solution_bulk[:,1], solution_solid[:,0])"
   ]
  },
  {
   "cell_type": "markdown",
   "metadata": {},
   "source": [
    "# Colloidal isotherm"
   ]
  },
  {
   "cell_type": "code",
   "execution_count": 11,
   "metadata": {
    "ExecuteTime": {
     "end_time": "2021-06-21T13:05:59.030480Z",
     "start_time": "2021-06-21T13:05:58.914623Z"
    }
   },
   "outputs": [
    {
     "name": "stdout",
     "output_type": "stream",
     "text": [
      "CompletedProcess(args=['/home/chase/codes/cadet/cadet/bin/cadet-cli', '/home/chase/my_work/cadet/test_isotherm/temp_files/8w87okpq.h5'], returncode=3, stdout=b\"\\nIntel MKL ERROR: Parameter 5 was incorrect on entry to DGELS.\\n[Error: idasErrorHandler::200] In function 'IDASolve' of module 'IDAS', error code 'IDA_CONV_FAIL':\\nAt t = 0 and h = 9.53674e-13, the corrector convergence failed repeatedly or with |h| = hmin.\\n[Error: integrate::1364] IDASolve returned IDA_CONV_FAIL at t = 0\\n\", stderr=b'SOLVER ERROR: Error in IDASolve: IDA_CONV_FAIL at t = 0.000000\\n')\n"
     ]
    },
    {
     "ename": "Exception",
     "evalue": "Simulation failed",
     "output_type": "error",
     "traceback": [
      "\u001b[0;31m---------------------------------------------------------------------------\u001b[0m",
      "\u001b[0;31mException\u001b[0m                                 Traceback (most recent call last)",
      "\u001b[0;32m<ipython-input-11-7a952bc75582>\u001b[0m in \u001b[0;36m<module>\u001b[0;34m\u001b[0m\n\u001b[1;32m     57\u001b[0m \u001b[0mlinear_gradient_model\u001b[0m\u001b[0;34m.\u001b[0m\u001b[0mroot\u001b[0m\u001b[0;34m.\u001b[0m\u001b[0minput\u001b[0m\u001b[0;34m.\u001b[0m\u001b[0mmodel\u001b[0m\u001b[0;34m.\u001b[0m\u001b[0munit_001\u001b[0m\u001b[0;34m.\u001b[0m\u001b[0madsorption\u001b[0m \u001b[0;34m=\u001b[0m \u001b[0madsorption_parameters\u001b[0m\u001b[0;34m\u001b[0m\u001b[0;34m\u001b[0m\u001b[0m\n\u001b[1;32m     58\u001b[0m \u001b[0;34m\u001b[0m\u001b[0m\n\u001b[0;32m---> 59\u001b[0;31m \u001b[0mcad_utils\u001b[0m\u001b[0;34m.\u001b[0m\u001b[0mrun_simulation\u001b[0m\u001b[0;34m(\u001b[0m\u001b[0mlinear_gradient_model\u001b[0m\u001b[0;34m)\u001b[0m\u001b[0;34m\u001b[0m\u001b[0;34m\u001b[0m\u001b[0m\n\u001b[0m\u001b[1;32m     60\u001b[0m \u001b[0msolution_bulk\u001b[0m  \u001b[0;34m=\u001b[0m \u001b[0mlinear_gradient_model\u001b[0m\u001b[0;34m.\u001b[0m\u001b[0mroot\u001b[0m\u001b[0;34m.\u001b[0m\u001b[0moutput\u001b[0m\u001b[0;34m.\u001b[0m\u001b[0msolution\u001b[0m\u001b[0;34m.\u001b[0m\u001b[0munit_001\u001b[0m\u001b[0;34m.\u001b[0m\u001b[0msolution_bulk\u001b[0m\u001b[0;34m\u001b[0m\u001b[0;34m\u001b[0m\u001b[0m\n\u001b[1;32m     61\u001b[0m \u001b[0msolution_solid\u001b[0m \u001b[0;34m=\u001b[0m \u001b[0mlinear_gradient_model\u001b[0m\u001b[0;34m.\u001b[0m\u001b[0mroot\u001b[0m\u001b[0;34m.\u001b[0m\u001b[0moutput\u001b[0m\u001b[0;34m.\u001b[0m\u001b[0msolution\u001b[0m\u001b[0;34m.\u001b[0m\u001b[0munit_001\u001b[0m\u001b[0;34m.\u001b[0m\u001b[0msolution_solid\u001b[0m\u001b[0;34m\u001b[0m\u001b[0;34m\u001b[0m\u001b[0m\n",
      "\u001b[0;32m~/my_work/cadet/test_isotherm/my_cadet_utils.py\u001b[0m in \u001b[0;36mrun_simulation\u001b[0;34m(cadet, file_name)\u001b[0m\n\u001b[1;32m     25\u001b[0m     \u001b[0;32melse\u001b[0m\u001b[0;34m:\u001b[0m\u001b[0;34m\u001b[0m\u001b[0;34m\u001b[0m\u001b[0m\n\u001b[1;32m     26\u001b[0m         \u001b[0mprint\u001b[0m\u001b[0;34m(\u001b[0m\u001b[0mdata\u001b[0m\u001b[0;34m)\u001b[0m\u001b[0;34m\u001b[0m\u001b[0;34m\u001b[0m\u001b[0m\n\u001b[0;32m---> 27\u001b[0;31m         \u001b[0;32mraise\u001b[0m \u001b[0mException\u001b[0m\u001b[0;34m(\u001b[0m\u001b[0;34m\"Simulation failed\"\u001b[0m\u001b[0;34m)\u001b[0m\u001b[0;34m\u001b[0m\u001b[0;34m\u001b[0m\u001b[0m\n\u001b[0m\u001b[1;32m     28\u001b[0m \u001b[0;34m\u001b[0m\u001b[0m\n\u001b[1;32m     29\u001b[0m     \u001b[0;32mif\u001b[0m \u001b[0mfile_name\u001b[0m \u001b[0;32mis\u001b[0m \u001b[0;32mNone\u001b[0m\u001b[0;34m:\u001b[0m\u001b[0;34m\u001b[0m\u001b[0;34m\u001b[0m\u001b[0m\n",
      "\u001b[0;31mException\u001b[0m: Simulation failed"
     ]
    }
   ],
   "source": [
    "linear_gradient_model = cad_utils.get_cadet_template(n_units=2)\n",
    "n_comp = 2\n",
    "Q = 1e-3\n",
    "\n",
    "# INLET\n",
    "linear_gradient_model.root.input.model.unit_000.unit_type = 'INLET'\n",
    "linear_gradient_model.root.input.model.unit_000.ncomp = n_comp\n",
    "linear_gradient_model.root.input.model.unit_000.inlet_type = 'PIECEWISE_CUBIC_POLY'\n",
    "\n",
    "# CSTR\n",
    "linear_gradient_model.root.input.model.unit_001.unit_type = 'CSTR'\n",
    "linear_gradient_model.root.input.model.unit_001.use_analytic_jacobian = 0\n",
    "\n",
    "linear_gradient_model.root.input.model.unit_001.ncomp = n_comp\n",
    "linear_gradient_model.root.input.model.unit_001.init_volume = 1e-3\n",
    "linear_gradient_model.root.input.model.unit_001.porosity = 0.694\n",
    "linear_gradient_model.root.input.model.unit_001.init_c = n_comp*[0.0]\n",
    "linear_gradient_model.root.input.model.unit_001.init_q = n_comp*[0.0]\n",
    "linear_gradient_model.root.input.model.unit_001.flow_rate_filter = Q\n",
    "\n",
    "# Sections and Switches\n",
    "linear_gradient_model.root.input.solver.sections.nsec = 1\n",
    "linear_gradient_model.root.input.solver.sections.section_times = [0.0, 200]\n",
    "\n",
    "linear_gradient_model.root.input.model.unit_000.sec_000.const_coeff = [0.0, 0.0]\n",
    "linear_gradient_model.root.input.model.unit_000.sec_000.lin_coeff = [0.0, 1]\n",
    "\n",
    "linear_gradient_model.root.input.model.connections.nswitches = 1\n",
    "linear_gradient_model.root.input.model.connections.switch_000.section = 0\n",
    "linear_gradient_model.root.input.model.connections.switch_000.connections = [0, 1, -1, -1, Q]\n",
    "\n",
    "adsorption_model = \"MULTI_COMPONENT_COLLOIDAL\"\n",
    "adsorption_parameters = Dict()\n",
    "adsorption_parameters.is_kinetic = False\n",
    "adsorption_parameters.col_phi = [0, 1]\n",
    "adsorption_parameters.col_kappa_exp = [0, 1]\n",
    "adsorption_parameters.col_kappa_fact = [0, 1]\n",
    "adsorption_parameters.col_kappa_const = [0, 1] # e9\n",
    "adsorption_parameters.col_cordnum = [0, 1]\n",
    "adsorption_parameters.col_logkeq_ph_exp = [0, 1]\n",
    "adsorption_parameters.col_logkeq_salt_powexp = [0, 1]\n",
    "adsorption_parameters.col_logkeq_salt_powfact = [0, 1]\n",
    "adsorption_parameters.col_logkeq_salt_expfact = [0, 1]\n",
    "adsorption_parameters.col_logkeq_salt_expargmult = [0, 1]\n",
    "adsorption_parameters.col_bpp_ph_exp = [0, 1]\n",
    "adsorption_parameters.col_bpp_salt_powexp = [0, 1]\n",
    "adsorption_parameters.col_bpp_salt_powfact = [0, 1]\n",
    "adsorption_parameters.col_bpp_salt_expfact = [0, 1]\n",
    "adsorption_parameters.col_bpp_salt_expargmult = [0, 1]\n",
    "adsorption_parameters.col_radius = [0, 1]\n",
    "adsorption_parameters.col_kkin = [0, 1]\n",
    "adsorption_parameters.col_linear_threshold = 1.0\n",
    "adsorption_parameters.col_use_ph = False\n",
    "\n",
    "linear_gradient_model.root.input.model.unit_001.nbound = [0, 1]\n",
    "linear_gradient_model.root.input.model.unit_001.adsorption_model = adsorption_model\n",
    "linear_gradient_model.root.input.model.unit_001.adsorption = adsorption_parameters\n",
    "\n",
    "cad_utils.run_simulation(linear_gradient_model)\n",
    "solution_bulk  = linear_gradient_model.root.output.solution.unit_001.solution_bulk\n",
    "solution_solid = linear_gradient_model.root.output.solution.unit_001.solution_solid"
   ]
  },
  {
   "cell_type": "code",
   "execution_count": null,
   "metadata": {},
   "outputs": [],
   "source": []
  },
  {
   "cell_type": "code",
   "execution_count": null,
   "metadata": {},
   "outputs": [],
   "source": []
  },
  {
   "cell_type": "code",
   "execution_count": null,
   "metadata": {},
   "outputs": [],
   "source": []
  },
  {
   "cell_type": "code",
   "execution_count": null,
   "metadata": {},
   "outputs": [],
   "source": []
  },
  {
   "cell_type": "code",
   "execution_count": null,
   "metadata": {},
   "outputs": [],
   "source": []
  },
  {
   "cell_type": "code",
   "execution_count": null,
   "metadata": {},
   "outputs": [],
   "source": []
  },
  {
   "cell_type": "code",
   "execution_count": null,
   "metadata": {},
   "outputs": [],
   "source": []
  },
  {
   "cell_type": "code",
   "execution_count": null,
   "metadata": {},
   "outputs": [],
   "source": []
  },
  {
   "cell_type": "markdown",
   "metadata": {},
   "source": [
    "# Isotherm I added - \"test\""
   ]
  },
  {
   "cell_type": "code",
   "execution_count": 59,
   "metadata": {
    "ExecuteTime": {
     "end_time": "2021-02-05T15:35:33.847279Z",
     "start_time": "2021-02-05T15:35:33.830608Z"
    }
   },
   "outputs": [],
   "source": [
    "# linear_gradient_model = cad_utils.get_cadet_template(n_units=2)\n",
    "# n_comp = 1\n",
    "# Q = 1e-3\n",
    "\n",
    "# # INLET\n",
    "# linear_gradient_model.root.input.model.unit_000.unit_type = 'INLET'\n",
    "# linear_gradient_model.root.input.model.unit_000.ncomp = n_comp\n",
    "# linear_gradient_model.root.input.model.unit_000.inlet_type = 'PIECEWISE_CUBIC_POLY'\n",
    "\n",
    "# # CSTR\n",
    "# linear_gradient_model.root.input.model.unit_001.unit_type = 'CSTR'\n",
    "# linear_gradient_model.root.input.model.unit_001.ncomp = n_comp\n",
    "# linear_gradient_model.root.input.model.unit_001.init_volume = 1e-3\n",
    "# linear_gradient_model.root.input.model.unit_001.porosity = 0.694\n",
    "# linear_gradient_model.root.input.model.unit_001.init_c = n_comp*[0.0]\n",
    "# linear_gradient_model.root.input.model.unit_001.init_q = n_comp*[0.0]\n",
    "# linear_gradient_model.root.input.model.unit_001.flow_rate_filter = Q\n",
    "\n",
    "# # Sections and Switches\n",
    "# linear_gradient_model.root.input.solver.sections.nsec = 1\n",
    "# linear_gradient_model.root.input.solver.sections.section_times = [0.0, 50]\n",
    "\n",
    "# linear_gradient_model.root.input.model.unit_000.sec_000.const_coeff = [0.0]\n",
    "# linear_gradient_model.root.input.model.unit_000.sec_000.lin_coeff = [1]\n",
    "\n",
    "# linear_gradient_model.root.input.model.connections.nswitches = 1\n",
    "# linear_gradient_model.root.input.model.connections.switch_000.section = 0\n",
    "# linear_gradient_model.root.input.model.connections.switch_000.connections = [0, 1, -1, -1, Q]\n",
    "\n",
    "# adsorption_model = 'TEST'\n",
    "# adsorption_parameters = Dict()\n",
    "# adsorption_parameters.is_kinetic = False\n",
    "# adsorption_parameters.test_kkin = [1.0e0]\n",
    "# adsorption_parameters.test_keq = [1.0e35]\n",
    "# adsorption_parameters.test_bpp = [1.0]\n",
    "# adsorption_parameters.test_phi = [1.0e7] # 1.0e7\n",
    "# adsorption_parameters.test_kappa = [1.0e9] # 1.0e9\n",
    "# adsorption_parameters.test_a = [1.0e-9] # 1.0e-9\n",
    "\n",
    "# linear_gradient_model.root.input.model.unit_001.nbound = [1]\n",
    "# linear_gradient_model.root.input.model.unit_001.adsorption_model = adsorption_model\n",
    "# linear_gradient_model.root.input.model.unit_001.adsorption = adsorption_parameters\n",
    "\n",
    "# cad_utils.run_simulation(linear_gradient_model)\n",
    "# solution_bulk  = linear_gradient_model.root.output.solution.unit_001.solution_bulk\n",
    "# solution_solid = linear_gradient_model.root.output.solution.unit_001.solution_solid"
   ]
  },
  {
   "cell_type": "code",
   "execution_count": 13,
   "metadata": {
    "ExecuteTime": {
     "end_time": "2021-02-05T16:00:00.948531Z",
     "start_time": "2021-02-05T16:00:00.926832Z"
    }
   },
   "outputs": [],
   "source": [
    "# fig, ax = plt.subplots()\n",
    "# params  = {'font.weight':'normal', 'font.size':20, 'figure.autolayout':True}\n",
    "# plt.rcParams.update(params)\n",
    "# plt.xlabel('c [mol/m$^3$]')\n",
    "# plt.ylabel('q [mol/m$^3$ solid]')\n",
    "# fig.set_size_inches(7, 5, forward=True)\n",
    "\n",
    "# # f = 1.0\n",
    "# # ax.set_xlim(-1.0*f, f)\n",
    "# # ax.set_ylim(-1.0*f, f)\n",
    "\n",
    "# ax.plot(solution_bulk[:,0], solution_solid[:,0], label='CADET')\n",
    "\n",
    "# ax.legend(loc='best', frameon=False, handlelength=1.0)\n",
    "# fig.patch.set_facecolor('white')\n",
    "# # fig.savefig('working_domain.png', dpi=300)"
   ]
  },
  {
   "cell_type": "code",
   "execution_count": null,
   "metadata": {},
   "outputs": [],
   "source": []
  },
  {
   "cell_type": "code",
   "execution_count": null,
   "metadata": {},
   "outputs": [],
   "source": []
  },
  {
   "cell_type": "code",
   "execution_count": null,
   "metadata": {},
   "outputs": [],
   "source": []
  }
 ],
 "metadata": {
  "kernelspec": {
   "display_name": "Python 3",
   "language": "python",
   "name": "python3"
  },
  "language_info": {
   "codemirror_mode": {
    "name": "ipython",
    "version": 3
   },
   "file_extension": ".py",
   "mimetype": "text/x-python",
   "name": "python",
   "nbconvert_exporter": "python",
   "pygments_lexer": "ipython3",
   "version": "3.7.4"
  }
 },
 "nbformat": 4,
 "nbformat_minor": 2
}
