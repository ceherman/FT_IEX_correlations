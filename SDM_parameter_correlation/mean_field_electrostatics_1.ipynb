{
 "cells": [
  {
   "cell_type": "markdown",
   "id": "bdbf0b03",
   "metadata": {},
   "source": [
    "# v1\n",
    "\n",
    "Morbidelli model with manually-input protein mass and net charge, along with resin ligand density"
   ]
  },
  {
   "cell_type": "code",
   "execution_count": 1,
   "id": "aa6d3471",
   "metadata": {
    "ExecuteTime": {
     "end_time": "2021-09-15T20:09:16.255720Z",
     "start_time": "2021-09-15T20:09:16.243525Z"
    }
   },
   "outputs": [],
   "source": [
    "%load_ext autoreload\n",
    "%autoreload 2"
   ]
  },
  {
   "cell_type": "code",
   "execution_count": 2,
   "id": "7a66d74e",
   "metadata": {
    "ExecuteTime": {
     "end_time": "2021-09-15T20:09:17.251576Z",
     "start_time": "2021-09-15T20:09:16.730758Z"
    }
   },
   "outputs": [
    {
     "data": {
      "text/html": [
       "<style>.container { width:100% !important; }</style>"
      ],
      "text/plain": [
       "<IPython.core.display.HTML object>"
      ]
     },
     "metadata": {},
     "output_type": "display_data"
    }
   ],
   "source": [
    "import numpy as np\n",
    "import pandas as pd\n",
    "import matplotlib\n",
    "import matplotlib.pyplot as plt\n",
    "import scipy\n",
    "from scipy import optimize, stats\n",
    "\n",
    "\n",
    "from IPython.core.display import display, HTML, clear_output\n",
    "display(HTML(\"<style>.container { width:100% !important; }</style>\"))\n",
    "\n",
    "import sys\n",
    "import multiprocessing as mp\n"
   ]
  },
  {
   "cell_type": "code",
   "execution_count": 25,
   "id": "49225b10",
   "metadata": {
    "ExecuteTime": {
     "end_time": "2021-09-14T22:50:13.845231Z",
     "start_time": "2021-09-14T22:50:13.826111Z"
    }
   },
   "outputs": [],
   "source": [
    "sys.path.append(\"./mean_field_electrostatics/v1/\")\n",
    "\n",
    "import charged_objects as obj\n",
    "import m_functions as m_fun"
   ]
  },
  {
   "cell_type": "code",
   "execution_count": null,
   "id": "acb451e6",
   "metadata": {},
   "outputs": [],
   "source": []
  },
  {
   "cell_type": "markdown",
   "id": "e0312507",
   "metadata": {},
   "source": [
    "# Plotting functions"
   ]
  },
  {
   "cell_type": "code",
   "execution_count": 26,
   "id": "374dfde7",
   "metadata": {
    "ExecuteTime": {
     "end_time": "2021-09-14T22:50:19.553173Z",
     "start_time": "2021-09-14T22:50:19.529932Z"
    }
   },
   "outputs": [],
   "source": [
    "def instantiate_fig(x=7, y=6):\n",
    "    fig, ax = plt.subplots()\n",
    "    fig.set_size_inches(x, y, forward=True)\n",
    "    font = {'weight' : 'normal', 'size'   : 20}\n",
    "    plt.rc('font', **font)\n",
    "    return fig, ax\n",
    "\n",
    "def set_layout(fig, ax, legend=False):\n",
    "    if legend:\n",
    "        ax.legend(loc='best', handlelength=1, frameon=False)\n",
    "    fig.patch.set_alpha(1)\n",
    "    plt.tight_layout()\n",
    "    return"
   ]
  },
  {
   "cell_type": "markdown",
   "id": "f912279e",
   "metadata": {},
   "source": [
    "# Morbidelli model\n",
    "## Example"
   ]
  },
  {
   "cell_type": "code",
   "execution_count": 27,
   "id": "50dc0b05",
   "metadata": {
    "ExecuteTime": {
     "end_time": "2021-09-14T22:50:20.738296Z",
     "start_time": "2021-09-14T22:50:20.713572Z"
    }
   },
   "outputs": [],
   "source": [
    "def get_is_for_kprime_res(ion_str, kprime_target, surf_area, porosity, dpr, apr, protein, resin):\n",
    "    solution = obj.solution(pH=7.0, ion_str=ion_str, eps=80.1)\n",
    "    kprime   = m_fun.m_get_kprime(surf_area, porosity, dpr, apr, solution, protein, resin)\n",
    "    return abs(np.log10(kprime) - np.log10(kprime_target))\n",
    "\n",
    "def get_is_for_kprime(args):\n",
    "    fit = optimize.minimize_scalar(get_is_for_kprime_res, args=args)\n",
    "    assert fit.success\n",
    "    return fit.x\n",
    "\n",
    "def get_nu_alpha(is_vals, k_targets):\n",
    "    is_vals     = np.array(is_vals)\n",
    "    kprime_vals = np.array(k_targets)\n",
    "    log_is      = np.log(is_vals)\n",
    "    log_kprime  = np.log(kprime_vals)\n",
    "\n",
    "    nu = -1.0*(log_kprime[0] - log_kprime[1])/(log_is[0] - log_is[1])\n",
    "    phi_alpha = kprime_vals[0]/((is_vals[0]*1e3)**(-1.0*nu))\n",
    "    return nu, phi_alpha"
   ]
  },
  {
   "cell_type": "code",
   "execution_count": 28,
   "id": "80ede301",
   "metadata": {
    "ExecuteTime": {
     "end_time": "2021-09-14T22:50:22.700099Z",
     "start_time": "2021-09-14T22:50:21.327955Z"
    }
   },
   "outputs": [
    {
     "name": "stderr",
     "output_type": "stream",
     "text": [
      "./mean_field_electrostatics/charged_objects.py:154: RuntimeWarning: divide by zero encountered in double_scalars\n",
      "  num   = 1 - 1/kap_r + (1 + 1/kap_r)*np.exp(-2.0*kap_r)\n",
      "./mean_field_electrostatics/charged_objects.py:154: RuntimeWarning: invalid value encountered in double_scalars\n",
      "  num   = 1 - 1/kap_r + (1 + 1/kap_r)*np.exp(-2.0*kap_r)\n",
      "./mean_field_electrostatics/charged_objects.py:155: RuntimeWarning: divide by zero encountered in double_scalars\n",
      "  denom = 1 + 1/kap_r - (1 + 1/kap_r)*np.exp(-2.0*kap_r)     # 2016 Guelat:  1/kap_r is (+) {agrees with Hsu and Liu 2009};        2012 Guelat:  1/kap_r is (-)\n",
      "./mean_field_electrostatics/charged_objects.py:155: RuntimeWarning: invalid value encountered in double_scalars\n",
      "  denom = 1 + 1/kap_r - (1 + 1/kap_r)*np.exp(-2.0*kap_r)     # 2016 Guelat:  1/kap_r is (+) {agrees with Hsu and Liu 2009};        2012 Guelat:  1/kap_r is (-)\n",
      "./mean_field_electrostatics/charged_objects.py:100: RuntimeWarning: divide by zero encountered in double_scalars\n",
      "  self.m_charge_dens_dl = solution.m_z*constants().e*self.m_charge_dens/(constants().kT*constants().eps0*solution.eps*solution.kappa)\n",
      "/home/chase/anaconda3/lib/python3.7/site-packages/scipy/optimize/_numdiff.py:497: RuntimeWarning: invalid value encountered in subtract\n",
      "  df = fun(x) - f0\n"
     ]
    }
   ],
   "source": [
    "dpr       = 2.0e-10 # resting distance, m\n",
    "apr       = 8.1e-21 # Hamaker constant, J/mol\n",
    "surf_area = 1.0e6   # accessible surface area, m-1, maybe use 1e7\n",
    "porosity  = 0.7     # accessible particle porosity\n",
    "\n",
    "resin    = obj.resin(name='Example resin', ligand='sulfonate', surf_dens=3.413e-6) \n",
    "protein  = obj.protein(name='Example protein', mass=14300, net_charge=9)\n",
    "\n",
    "k_targets = [100, 0.1]\n",
    "is_vals =[]\n",
    "for k_target in k_targets:\n",
    "    args = (k_target, surf_area, porosity, dpr, apr, protein, resin)\n",
    "    is_val = get_is_for_kprime(args)\n",
    "    is_vals.append(is_val)\n",
    "\n",
    "nu, phi_alpha = get_nu_alpha(is_vals, k_targets)"
   ]
  },
  {
   "cell_type": "code",
   "execution_count": 29,
   "id": "78581869",
   "metadata": {
    "ExecuteTime": {
     "end_time": "2021-09-14T22:50:23.848201Z",
     "start_time": "2021-09-14T22:50:23.363126Z"
    }
   },
   "outputs": [],
   "source": [
    "is_vals_demo     = np.logspace(np.log10(0.03), np.log10(0.5), 25)\n",
    "kprime_vals_demo = []\n",
    "for is_val in is_vals_demo:\n",
    "    solution = obj.solution(pH=7.0, ion_str=is_val, eps=80.1)\n",
    "    kprime   = m_fun.m_get_kprime(surf_area, porosity, dpr, apr, solution, protein, resin)\n",
    "    kprime_vals_demo.append(kprime)"
   ]
  },
  {
   "cell_type": "code",
   "execution_count": 30,
   "id": "a1f40db4",
   "metadata": {
    "ExecuteTime": {
     "end_time": "2021-09-14T22:50:26.953487Z",
     "start_time": "2021-09-14T22:50:26.634904Z"
    }
   },
   "outputs": [
    {
     "data": {
      "image/png": "[encoded data removed]",
      "text/plain": [
       "<Figure size 504x432 with 1 Axes>"
      ]
     },
     "metadata": {},
     "output_type": "display_data"
    }
   ],
   "source": [
    "fig, ax = instantiate_fig()\n",
    "ax.set_xlabel('Ionic Strength [mM]')\n",
    "ax.set_ylabel('$k\\'$', rotation=0)\n",
    "\n",
    "ax.loglog(is_vals_demo*1e3, kprime_vals_demo, 'o-', label='Example')\n",
    "ax.loglog(np.array(is_vals)*1e3, k_targets, 'o-', label='Fit points')\n",
    "set_layout(fig, ax, legend=True)\n",
    "# fig.savefig(f'./images/mean_field_electrostatics/fit_region_negative_sign.png', dpi=300)"
   ]
  },
  {
   "cell_type": "code",
   "execution_count": null,
   "id": "71ccdbdc",
   "metadata": {},
   "outputs": [],
   "source": []
  },
  {
   "cell_type": "code",
   "execution_count": null,
   "id": "51640b5c",
   "metadata": {},
   "outputs": [],
   "source": []
  },
  {
   "cell_type": "markdown",
   "id": "f67674d5",
   "metadata": {},
   "source": [
    "# Varying parameters\n"
   ]
  },
  {
   "cell_type": "code",
   "execution_count": 14,
   "id": "d7e71408",
   "metadata": {
    "ExecuteTime": {
     "end_time": "2021-09-13T20:55:06.575124Z",
     "start_time": "2021-09-13T20:55:06.557087Z"
    }
   },
   "outputs": [],
   "source": [
    "def run(args):\n",
    "    mass, net_charge, surf_dens = args\n",
    "    dpr       = 2.0e-10 # resting distance, m\n",
    "    apr       = 8.1e-21 # Hamaker constant, J/mol\n",
    "    surf_area = 1.0e6   # accessible surface area, m-1, maybe use 1e7\n",
    "    porosity  = 0.7     # accessible particle porosity\n",
    "\n",
    "    resin    = obj.resin(name='Example resin', ligand='sulfonate', surf_dens=surf_dens) # 3.413e-6\n",
    "    protein  = obj.protein(name='Example protein', mass=mass, net_charge=net_charge)\n",
    "\n",
    "    k_targets = [100, 0.1]\n",
    "    is_vals =[]\n",
    "    for k_target in k_targets:\n",
    "        args_1 = (k_target, surf_area, porosity, dpr, apr, protein, resin)\n",
    "        is_val = get_is_for_kprime(args_1)\n",
    "        is_vals.append(is_val)\n",
    "\n",
    "    nu, phi_alpha = get_nu_alpha(is_vals, k_targets)\n",
    "    results = [mass, net_charge, surf_dens, nu, phi_alpha]\n",
    "    return results"
   ]
  },
  {
   "cell_type": "code",
   "execution_count": 15,
   "id": "50939bb1",
   "metadata": {
    "ExecuteTime": {
     "end_time": "2021-09-13T20:57:02.628585Z",
     "start_time": "2021-09-13T20:56:25.912182Z"
    },
    "scrolled": true
   },
   "outputs": [
    {
     "name": "stderr",
     "output_type": "stream",
     "text": [
      "./mean_field_electrostatics/charged_objects.py:154: RuntimeWarning: divide by zero encountered in double_scalars\n",
      "  num   = 1 - 1/kap_r + (1 + 1/kap_r)*np.exp(-2.0*kap_r)\n",
      "./mean_field_electrostatics/charged_objects.py:154: RuntimeWarning: invalid value encountered in double_scalars\n",
      "  num   = 1 - 1/kap_r + (1 + 1/kap_r)*np.exp(-2.0*kap_r)\n",
      "./mean_field_electrostatics/charged_objects.py:155: RuntimeWarning: divide by zero encountered in double_scalars\n",
      "  denom = 1 + 1/kap_r - (1 + 1/kap_r)*np.exp(-2.0*kap_r)     # 2016 Guelat:  1/kap_r is (+) {agrees with Hsu and Liu 2009};        2012 Guelat:  1/kap_r is (-)\n",
      "./mean_field_electrostatics/charged_objects.py:155: RuntimeWarning: invalid value encountered in double_scalars\n",
      "  denom = 1 + 1/kap_r - (1 + 1/kap_r)*np.exp(-2.0*kap_r)     # 2016 Guelat:  1/kap_r is (+) {agrees with Hsu and Liu 2009};        2012 Guelat:  1/kap_r is (-)\n",
      "./mean_field_electrostatics/charged_objects.py:100: RuntimeWarning: divide by zero encountered in double_scalars\n",
      "  self.m_charge_dens_dl = solution.m_z*constants().e*self.m_charge_dens/(constants().kT*constants().eps0*solution.eps*solution.kappa)\n",
      "./mean_field_electrostatics/m_functions.py:30: RuntimeWarning: divide by zero encountered in arctanh\n",
      "  capital_theta = 4.0*np.exp(solution.kappa*dpr/2.0)*np.arctanh(np.exp(-1.0*solution.kappa*dpr/2.0)*np.tanh(theta_0/4.0))\n",
      "/home/chase/anaconda3/lib/python3.7/site-packages/scipy/optimize/_numdiff.py:497: RuntimeWarning: invalid value encountered in subtract\n",
      "  df = fun(x) - f0\n",
      "./mean_field_electrostatics/charged_objects.py:154: RuntimeWarning: divide by zero encountered in double_scalars\n",
      "  num   = 1 - 1/kap_r + (1 + 1/kap_r)*np.exp(-2.0*kap_r)\n",
      "./mean_field_electrostatics/charged_objects.py:154: RuntimeWarning: divide by zero encountered in double_scalars\n",
      "  num   = 1 - 1/kap_r + (1 + 1/kap_r)*np.exp(-2.0*kap_r)\n",
      "./mean_field_electrostatics/charged_objects.py:154: RuntimeWarning: invalid value encountered in double_scalars\n",
      "  num   = 1 - 1/kap_r + (1 + 1/kap_r)*np.exp(-2.0*kap_r)\n",
      "./mean_field_electrostatics/charged_objects.py:154: RuntimeWarning: divide by zero encountered in double_scalars\n",
      "  num   = 1 - 1/kap_r + (1 + 1/kap_r)*np.exp(-2.0*kap_r)\n",
      "./mean_field_electrostatics/charged_objects.py:154: RuntimeWarning: divide by zero encountered in double_scalars\n",
      "  num   = 1 - 1/kap_r + (1 + 1/kap_r)*np.exp(-2.0*kap_r)\n",
      "./mean_field_electrostatics/charged_objects.py:154: RuntimeWarning: divide by zero encountered in double_scalars\n",
      "  num   = 1 - 1/kap_r + (1 + 1/kap_r)*np.exp(-2.0*kap_r)\n",
      "./mean_field_electrostatics/charged_objects.py:154: RuntimeWarning: invalid value encountered in double_scalars\n",
      "  num   = 1 - 1/kap_r + (1 + 1/kap_r)*np.exp(-2.0*kap_r)\n",
      "./mean_field_electrostatics/charged_objects.py:154: RuntimeWarning: divide by zero encountered in double_scalars\n",
      "  num   = 1 - 1/kap_r + (1 + 1/kap_r)*np.exp(-2.0*kap_r)\n",
      "./mean_field_electrostatics/charged_objects.py:155: RuntimeWarning: divide by zero encountered in double_scalars\n",
      "  denom = 1 + 1/kap_r - (1 + 1/kap_r)*np.exp(-2.0*kap_r)     # 2016 Guelat:  1/kap_r is (+) {agrees with Hsu and Liu 2009};        2012 Guelat:  1/kap_r is (-)\n",
      "./mean_field_electrostatics/charged_objects.py:154: RuntimeWarning: invalid value encountered in double_scalars\n",
      "  num   = 1 - 1/kap_r + (1 + 1/kap_r)*np.exp(-2.0*kap_r)\n",
      "./mean_field_electrostatics/charged_objects.py:154: RuntimeWarning: invalid value encountered in double_scalars\n",
      "  num   = 1 - 1/kap_r + (1 + 1/kap_r)*np.exp(-2.0*kap_r)\n",
      "./mean_field_electrostatics/charged_objects.py:154: RuntimeWarning: invalid value encountered in double_scalars\n",
      "  num   = 1 - 1/kap_r + (1 + 1/kap_r)*np.exp(-2.0*kap_r)\n",
      "./mean_field_electrostatics/charged_objects.py:155: RuntimeWarning: divide by zero encountered in double_scalars\n",
      "  denom = 1 + 1/kap_r - (1 + 1/kap_r)*np.exp(-2.0*kap_r)     # 2016 Guelat:  1/kap_r is (+) {agrees with Hsu and Liu 2009};        2012 Guelat:  1/kap_r is (-)\n",
      "./mean_field_electrostatics/charged_objects.py:154: RuntimeWarning: divide by zero encountered in double_scalars\n",
      "  num   = 1 - 1/kap_r + (1 + 1/kap_r)*np.exp(-2.0*kap_r)\n",
      "./mean_field_electrostatics/charged_objects.py:154: RuntimeWarning: invalid value encountered in double_scalars\n",
      "  num   = 1 - 1/kap_r + (1 + 1/kap_r)*np.exp(-2.0*kap_r)\n",
      "./mean_field_electrostatics/charged_objects.py:154: RuntimeWarning: divide by zero encountered in double_scalars\n",
      "  num   = 1 - 1/kap_r + (1 + 1/kap_r)*np.exp(-2.0*kap_r)\n",
      "./mean_field_electrostatics/charged_objects.py:155: RuntimeWarning: divide by zero encountered in double_scalars\n",
      "  denom = 1 + 1/kap_r - (1 + 1/kap_r)*np.exp(-2.0*kap_r)     # 2016 Guelat:  1/kap_r is (+) {agrees with Hsu and Liu 2009};        2012 Guelat:  1/kap_r is (-)\n",
      "./mean_field_electrostatics/charged_objects.py:155: RuntimeWarning: invalid value encountered in double_scalars\n",
      "  denom = 1 + 1/kap_r - (1 + 1/kap_r)*np.exp(-2.0*kap_r)     # 2016 Guelat:  1/kap_r is (+) {agrees with Hsu and Liu 2009};        2012 Guelat:  1/kap_r is (-)\n",
      "./mean_field_electrostatics/charged_objects.py:154: RuntimeWarning: divide by zero encountered in double_scalars\n",
      "  num   = 1 - 1/kap_r + (1 + 1/kap_r)*np.exp(-2.0*kap_r)\n",
      "./mean_field_electrostatics/charged_objects.py:154: RuntimeWarning: divide by zero encountered in double_scalars\n",
      "  num   = 1 - 1/kap_r + (1 + 1/kap_r)*np.exp(-2.0*kap_r)\n",
      "./mean_field_electrostatics/charged_objects.py:154: RuntimeWarning: divide by zero encountered in double_scalars\n",
      "  num   = 1 - 1/kap_r + (1 + 1/kap_r)*np.exp(-2.0*kap_r)\n",
      "./mean_field_electrostatics/charged_objects.py:155: RuntimeWarning: invalid value encountered in double_scalars\n",
      "  denom = 1 + 1/kap_r - (1 + 1/kap_r)*np.exp(-2.0*kap_r)     # 2016 Guelat:  1/kap_r is (+) {agrees with Hsu and Liu 2009};        2012 Guelat:  1/kap_r is (-)\n",
      "./mean_field_electrostatics/charged_objects.py:155: RuntimeWarning: divide by zero encountered in double_scalars\n",
      "  denom = 1 + 1/kap_r - (1 + 1/kap_r)*np.exp(-2.0*kap_r)     # 2016 Guelat:  1/kap_r is (+) {agrees with Hsu and Liu 2009};        2012 Guelat:  1/kap_r is (-)\n",
      "./mean_field_electrostatics/charged_objects.py:154: RuntimeWarning: invalid value encountered in double_scalars\n",
      "  num   = 1 - 1/kap_r + (1 + 1/kap_r)*np.exp(-2.0*kap_r)\n",
      "./mean_field_electrostatics/charged_objects.py:155: RuntimeWarning: divide by zero encountered in double_scalars\n",
      "  denom = 1 + 1/kap_r - (1 + 1/kap_r)*np.exp(-2.0*kap_r)     # 2016 Guelat:  1/kap_r is (+) {agrees with Hsu and Liu 2009};        2012 Guelat:  1/kap_r is (-)\n",
      "./mean_field_electrostatics/charged_objects.py:155: RuntimeWarning: divide by zero encountered in double_scalars\n",
      "  denom = 1 + 1/kap_r - (1 + 1/kap_r)*np.exp(-2.0*kap_r)     # 2016 Guelat:  1/kap_r is (+) {agrees with Hsu and Liu 2009};        2012 Guelat:  1/kap_r is (-)\n",
      "./mean_field_electrostatics/charged_objects.py:154: RuntimeWarning: divide by zero encountered in double_scalars\n",
      "  num   = 1 - 1/kap_r + (1 + 1/kap_r)*np.exp(-2.0*kap_r)\n",
      "./mean_field_electrostatics/charged_objects.py:154: RuntimeWarning: invalid value encountered in double_scalars\n",
      "  num   = 1 - 1/kap_r + (1 + 1/kap_r)*np.exp(-2.0*kap_r)\n",
      "./mean_field_electrostatics/charged_objects.py:155: RuntimeWarning: invalid value encountered in double_scalars\n",
      "  denom = 1 + 1/kap_r - (1 + 1/kap_r)*np.exp(-2.0*kap_r)     # 2016 Guelat:  1/kap_r is (+) {agrees with Hsu and Liu 2009};        2012 Guelat:  1/kap_r is (-)\n",
      "./mean_field_electrostatics/charged_objects.py:100: RuntimeWarning: divide by zero encountered in double_scalars\n",
      "  self.m_charge_dens_dl = solution.m_z*constants().e*self.m_charge_dens/(constants().kT*constants().eps0*solution.eps*solution.kappa)\n",
      "./mean_field_electrostatics/charged_objects.py:154: RuntimeWarning: divide by zero encountered in double_scalars\n",
      "  num   = 1 - 1/kap_r + (1 + 1/kap_r)*np.exp(-2.0*kap_r)\n",
      "./mean_field_electrostatics/charged_objects.py:154: RuntimeWarning: divide by zero encountered in double_scalars\n",
      "  num   = 1 - 1/kap_r + (1 + 1/kap_r)*np.exp(-2.0*kap_r)\n",
      "./mean_field_electrostatics/charged_objects.py:154: RuntimeWarning: invalid value encountered in double_scalars\n",
      "  num   = 1 - 1/kap_r + (1 + 1/kap_r)*np.exp(-2.0*kap_r)\n",
      "./mean_field_electrostatics/charged_objects.py:154: RuntimeWarning: invalid value encountered in double_scalars\n",
      "  num   = 1 - 1/kap_r + (1 + 1/kap_r)*np.exp(-2.0*kap_r)\n"
     ]
    },
    {
     "name": "stderr",
     "output_type": "stream",
     "text": [
      "./mean_field_electrostatics/charged_objects.py:154: RuntimeWarning: invalid value encountered in double_scalars\n",
      "  num   = 1 - 1/kap_r + (1 + 1/kap_r)*np.exp(-2.0*kap_r)\n",
      "./mean_field_electrostatics/charged_objects.py:100: RuntimeWarning: divide by zero encountered in double_scalars\n",
      "  self.m_charge_dens_dl = solution.m_z*constants().e*self.m_charge_dens/(constants().kT*constants().eps0*solution.eps*solution.kappa)\n",
      "./mean_field_electrostatics/charged_objects.py:155: RuntimeWarning: invalid value encountered in double_scalars\n",
      "  denom = 1 + 1/kap_r - (1 + 1/kap_r)*np.exp(-2.0*kap_r)     # 2016 Guelat:  1/kap_r is (+) {agrees with Hsu and Liu 2009};        2012 Guelat:  1/kap_r is (-)\n",
      "./mean_field_electrostatics/charged_objects.py:155: RuntimeWarning: invalid value encountered in double_scalars\n",
      "  denom = 1 + 1/kap_r - (1 + 1/kap_r)*np.exp(-2.0*kap_r)     # 2016 Guelat:  1/kap_r is (+) {agrees with Hsu and Liu 2009};        2012 Guelat:  1/kap_r is (-)\n",
      "./mean_field_electrostatics/charged_objects.py:155: RuntimeWarning: divide by zero encountered in double_scalars\n",
      "  denom = 1 + 1/kap_r - (1 + 1/kap_r)*np.exp(-2.0*kap_r)     # 2016 Guelat:  1/kap_r is (+) {agrees with Hsu and Liu 2009};        2012 Guelat:  1/kap_r is (-)\n",
      "./mean_field_electrostatics/charged_objects.py:155: RuntimeWarning: invalid value encountered in double_scalars\n",
      "  denom = 1 + 1/kap_r - (1 + 1/kap_r)*np.exp(-2.0*kap_r)     # 2016 Guelat:  1/kap_r is (+) {agrees with Hsu and Liu 2009};        2012 Guelat:  1/kap_r is (-)\n",
      "./mean_field_electrostatics/charged_objects.py:154: RuntimeWarning: divide by zero encountered in double_scalars\n",
      "  num   = 1 - 1/kap_r + (1 + 1/kap_r)*np.exp(-2.0*kap_r)\n",
      "./mean_field_electrostatics/charged_objects.py:154: RuntimeWarning: invalid value encountered in double_scalars\n",
      "  num   = 1 - 1/kap_r + (1 + 1/kap_r)*np.exp(-2.0*kap_r)\n",
      "./mean_field_electrostatics/charged_objects.py:155: RuntimeWarning: divide by zero encountered in double_scalars\n",
      "  denom = 1 + 1/kap_r - (1 + 1/kap_r)*np.exp(-2.0*kap_r)     # 2016 Guelat:  1/kap_r is (+) {agrees with Hsu and Liu 2009};        2012 Guelat:  1/kap_r is (-)\n",
      "./mean_field_electrostatics/charged_objects.py:154: RuntimeWarning: divide by zero encountered in double_scalars\n",
      "  num   = 1 - 1/kap_r + (1 + 1/kap_r)*np.exp(-2.0*kap_r)\n",
      "./mean_field_electrostatics/charged_objects.py:100: RuntimeWarning: divide by zero encountered in double_scalars\n",
      "  self.m_charge_dens_dl = solution.m_z*constants().e*self.m_charge_dens/(constants().kT*constants().eps0*solution.eps*solution.kappa)\n",
      "./mean_field_electrostatics/charged_objects.py:154: RuntimeWarning: invalid value encountered in double_scalars\n",
      "  num   = 1 - 1/kap_r + (1 + 1/kap_r)*np.exp(-2.0*kap_r)\n",
      "./mean_field_electrostatics/charged_objects.py:154: RuntimeWarning: invalid value encountered in double_scalars\n",
      "  num   = 1 - 1/kap_r + (1 + 1/kap_r)*np.exp(-2.0*kap_r)\n",
      "./mean_field_electrostatics/charged_objects.py:155: RuntimeWarning: divide by zero encountered in double_scalars\n",
      "  denom = 1 + 1/kap_r - (1 + 1/kap_r)*np.exp(-2.0*kap_r)     # 2016 Guelat:  1/kap_r is (+) {agrees with Hsu and Liu 2009};        2012 Guelat:  1/kap_r is (-)\n",
      "./mean_field_electrostatics/charged_objects.py:154: RuntimeWarning: divide by zero encountered in double_scalars\n",
      "  num   = 1 - 1/kap_r + (1 + 1/kap_r)*np.exp(-2.0*kap_r)\n",
      "./mean_field_electrostatics/charged_objects.py:154: RuntimeWarning: divide by zero encountered in double_scalars\n",
      "  num   = 1 - 1/kap_r + (1 + 1/kap_r)*np.exp(-2.0*kap_r)\n",
      "./mean_field_electrostatics/charged_objects.py:155: RuntimeWarning: divide by zero encountered in double_scalars\n",
      "  denom = 1 + 1/kap_r - (1 + 1/kap_r)*np.exp(-2.0*kap_r)     # 2016 Guelat:  1/kap_r is (+) {agrees with Hsu and Liu 2009};        2012 Guelat:  1/kap_r is (-)\n",
      "/home/chase/anaconda3/lib/python3.7/site-packages/scipy/optimize/_numdiff.py:497: RuntimeWarning: invalid value encountered in subtract\n",
      "  df = fun(x) - f0\n",
      "./mean_field_electrostatics/charged_objects.py:100: RuntimeWarning: divide by zero encountered in double_scalars\n",
      "  self.m_charge_dens_dl = solution.m_z*constants().e*self.m_charge_dens/(constants().kT*constants().eps0*solution.eps*solution.kappa)\n",
      "./mean_field_electrostatics/charged_objects.py:154: RuntimeWarning: divide by zero encountered in double_scalars\n",
      "  num   = 1 - 1/kap_r + (1 + 1/kap_r)*np.exp(-2.0*kap_r)\n",
      "./mean_field_electrostatics/charged_objects.py:155: RuntimeWarning: invalid value encountered in double_scalars\n",
      "  denom = 1 + 1/kap_r - (1 + 1/kap_r)*np.exp(-2.0*kap_r)     # 2016 Guelat:  1/kap_r is (+) {agrees with Hsu and Liu 2009};        2012 Guelat:  1/kap_r is (-)\n",
      "./mean_field_electrostatics/charged_objects.py:155: RuntimeWarning: divide by zero encountered in double_scalars\n",
      "  denom = 1 + 1/kap_r - (1 + 1/kap_r)*np.exp(-2.0*kap_r)     # 2016 Guelat:  1/kap_r is (+) {agrees with Hsu and Liu 2009};        2012 Guelat:  1/kap_r is (-)\n",
      "./mean_field_electrostatics/charged_objects.py:154: RuntimeWarning: invalid value encountered in double_scalars\n",
      "  num   = 1 - 1/kap_r + (1 + 1/kap_r)*np.exp(-2.0*kap_r)\n",
      "./mean_field_electrostatics/charged_objects.py:100: RuntimeWarning: divide by zero encountered in double_scalars\n",
      "  self.m_charge_dens_dl = solution.m_z*constants().e*self.m_charge_dens/(constants().kT*constants().eps0*solution.eps*solution.kappa)\n",
      "./mean_field_electrostatics/charged_objects.py:100: RuntimeWarning: divide by zero encountered in double_scalars\n",
      "  self.m_charge_dens_dl = solution.m_z*constants().e*self.m_charge_dens/(constants().kT*constants().eps0*solution.eps*solution.kappa)\n",
      "/home/chase/anaconda3/lib/python3.7/site-packages/scipy/optimize/_numdiff.py:497: RuntimeWarning: invalid value encountered in subtract\n",
      "  df = fun(x) - f0\n",
      "./mean_field_electrostatics/charged_objects.py:155: RuntimeWarning: divide by zero encountered in double_scalars\n",
      "  denom = 1 + 1/kap_r - (1 + 1/kap_r)*np.exp(-2.0*kap_r)     # 2016 Guelat:  1/kap_r is (+) {agrees with Hsu and Liu 2009};        2012 Guelat:  1/kap_r is (-)\n",
      "./mean_field_electrostatics/charged_objects.py:155: RuntimeWarning: divide by zero encountered in double_scalars\n",
      "  denom = 1 + 1/kap_r - (1 + 1/kap_r)*np.exp(-2.0*kap_r)     # 2016 Guelat:  1/kap_r is (+) {agrees with Hsu and Liu 2009};        2012 Guelat:  1/kap_r is (-)\n",
      "./mean_field_electrostatics/charged_objects.py:155: RuntimeWarning: invalid value encountered in double_scalars\n",
      "  denom = 1 + 1/kap_r - (1 + 1/kap_r)*np.exp(-2.0*kap_r)     # 2016 Guelat:  1/kap_r is (+) {agrees with Hsu and Liu 2009};        2012 Guelat:  1/kap_r is (-)\n",
      "./mean_field_electrostatics/charged_objects.py:155: RuntimeWarning: invalid value encountered in double_scalars\n",
      "  denom = 1 + 1/kap_r - (1 + 1/kap_r)*np.exp(-2.0*kap_r)     # 2016 Guelat:  1/kap_r is (+) {agrees with Hsu and Liu 2009};        2012 Guelat:  1/kap_r is (-)\n",
      "/home/chase/anaconda3/lib/python3.7/site-packages/scipy/optimize/_numdiff.py:497: RuntimeWarning: invalid value encountered in subtract\n",
      "  df = fun(x) - f0\n",
      "./mean_field_electrostatics/charged_objects.py:154: RuntimeWarning: invalid value encountered in double_scalars\n",
      "  num   = 1 - 1/kap_r + (1 + 1/kap_r)*np.exp(-2.0*kap_r)\n",
      "./mean_field_electrostatics/charged_objects.py:154: RuntimeWarning: invalid value encountered in double_scalars\n",
      "  num   = 1 - 1/kap_r + (1 + 1/kap_r)*np.exp(-2.0*kap_r)\n",
      "./mean_field_electrostatics/charged_objects.py:155: RuntimeWarning: invalid value encountered in double_scalars\n",
      "  denom = 1 + 1/kap_r - (1 + 1/kap_r)*np.exp(-2.0*kap_r)     # 2016 Guelat:  1/kap_r is (+) {agrees with Hsu and Liu 2009};        2012 Guelat:  1/kap_r is (-)\n",
      "./mean_field_electrostatics/charged_objects.py:154: RuntimeWarning: invalid value encountered in double_scalars\n",
      "  num   = 1 - 1/kap_r + (1 + 1/kap_r)*np.exp(-2.0*kap_r)\n",
      "./mean_field_electrostatics/charged_objects.py:154: RuntimeWarning: divide by zero encountered in double_scalars\n",
      "  num   = 1 - 1/kap_r + (1 + 1/kap_r)*np.exp(-2.0*kap_r)\n",
      "./mean_field_electrostatics/charged_objects.py:154: RuntimeWarning: invalid value encountered in double_scalars\n",
      "  num   = 1 - 1/kap_r + (1 + 1/kap_r)*np.exp(-2.0*kap_r)\n",
      "./mean_field_electrostatics/charged_objects.py:155: RuntimeWarning: divide by zero encountered in double_scalars\n",
      "  denom = 1 + 1/kap_r - (1 + 1/kap_r)*np.exp(-2.0*kap_r)     # 2016 Guelat:  1/kap_r is (+) {agrees with Hsu and Liu 2009};        2012 Guelat:  1/kap_r is (-)\n"
     ]
    },
    {
     "name": "stderr",
     "output_type": "stream",
     "text": [
      "./mean_field_electrostatics/charged_objects.py:155: RuntimeWarning: divide by zero encountered in double_scalars\n",
      "  denom = 1 + 1/kap_r - (1 + 1/kap_r)*np.exp(-2.0*kap_r)     # 2016 Guelat:  1/kap_r is (+) {agrees with Hsu and Liu 2009};        2012 Guelat:  1/kap_r is (-)\n",
      "/home/chase/anaconda3/lib/python3.7/site-packages/scipy/optimize/_numdiff.py:497: RuntimeWarning: invalid value encountered in subtract\n",
      "  df = fun(x) - f0\n",
      "./mean_field_electrostatics/charged_objects.py:154: RuntimeWarning: divide by zero encountered in double_scalars\n",
      "  num   = 1 - 1/kap_r + (1 + 1/kap_r)*np.exp(-2.0*kap_r)\n",
      "./mean_field_electrostatics/charged_objects.py:100: RuntimeWarning: divide by zero encountered in double_scalars\n",
      "  self.m_charge_dens_dl = solution.m_z*constants().e*self.m_charge_dens/(constants().kT*constants().eps0*solution.eps*solution.kappa)\n",
      "./mean_field_electrostatics/charged_objects.py:155: RuntimeWarning: invalid value encountered in double_scalars\n",
      "  denom = 1 + 1/kap_r - (1 + 1/kap_r)*np.exp(-2.0*kap_r)     # 2016 Guelat:  1/kap_r is (+) {agrees with Hsu and Liu 2009};        2012 Guelat:  1/kap_r is (-)\n",
      "./mean_field_electrostatics/charged_objects.py:154: RuntimeWarning: divide by zero encountered in double_scalars\n",
      "  num   = 1 - 1/kap_r + (1 + 1/kap_r)*np.exp(-2.0*kap_r)\n",
      "./mean_field_electrostatics/charged_objects.py:155: RuntimeWarning: invalid value encountered in double_scalars\n",
      "  denom = 1 + 1/kap_r - (1 + 1/kap_r)*np.exp(-2.0*kap_r)     # 2016 Guelat:  1/kap_r is (+) {agrees with Hsu and Liu 2009};        2012 Guelat:  1/kap_r is (-)\n",
      "./mean_field_electrostatics/charged_objects.py:155: RuntimeWarning: invalid value encountered in double_scalars\n",
      "  denom = 1 + 1/kap_r - (1 + 1/kap_r)*np.exp(-2.0*kap_r)     # 2016 Guelat:  1/kap_r is (+) {agrees with Hsu and Liu 2009};        2012 Guelat:  1/kap_r is (-)\n",
      "./mean_field_electrostatics/charged_objects.py:100: RuntimeWarning: divide by zero encountered in double_scalars\n",
      "  self.m_charge_dens_dl = solution.m_z*constants().e*self.m_charge_dens/(constants().kT*constants().eps0*solution.eps*solution.kappa)\n",
      "/home/chase/anaconda3/lib/python3.7/site-packages/scipy/optimize/_numdiff.py:497: RuntimeWarning: invalid value encountered in subtract\n",
      "  df = fun(x) - f0\n",
      "./mean_field_electrostatics/charged_objects.py:155: RuntimeWarning: divide by zero encountered in double_scalars\n",
      "  denom = 1 + 1/kap_r - (1 + 1/kap_r)*np.exp(-2.0*kap_r)     # 2016 Guelat:  1/kap_r is (+) {agrees with Hsu and Liu 2009};        2012 Guelat:  1/kap_r is (-)\n",
      "./mean_field_electrostatics/charged_objects.py:100: RuntimeWarning: divide by zero encountered in double_scalars\n",
      "  self.m_charge_dens_dl = solution.m_z*constants().e*self.m_charge_dens/(constants().kT*constants().eps0*solution.eps*solution.kappa)\n",
      "./mean_field_electrostatics/charged_objects.py:100: RuntimeWarning: divide by zero encountered in double_scalars\n",
      "  self.m_charge_dens_dl = solution.m_z*constants().e*self.m_charge_dens/(constants().kT*constants().eps0*solution.eps*solution.kappa)\n",
      "/home/chase/anaconda3/lib/python3.7/site-packages/scipy/optimize/_numdiff.py:497: RuntimeWarning: invalid value encountered in subtract\n",
      "  df = fun(x) - f0\n",
      "./mean_field_electrostatics/charged_objects.py:155: RuntimeWarning: divide by zero encountered in double_scalars\n",
      "  denom = 1 + 1/kap_r - (1 + 1/kap_r)*np.exp(-2.0*kap_r)     # 2016 Guelat:  1/kap_r is (+) {agrees with Hsu and Liu 2009};        2012 Guelat:  1/kap_r is (-)\n",
      "./mean_field_electrostatics/charged_objects.py:155: RuntimeWarning: invalid value encountered in double_scalars\n",
      "  denom = 1 + 1/kap_r - (1 + 1/kap_r)*np.exp(-2.0*kap_r)     # 2016 Guelat:  1/kap_r is (+) {agrees with Hsu and Liu 2009};        2012 Guelat:  1/kap_r is (-)\n",
      "./mean_field_electrostatics/charged_objects.py:155: RuntimeWarning: divide by zero encountered in double_scalars\n",
      "  denom = 1 + 1/kap_r - (1 + 1/kap_r)*np.exp(-2.0*kap_r)     # 2016 Guelat:  1/kap_r is (+) {agrees with Hsu and Liu 2009};        2012 Guelat:  1/kap_r is (-)\n",
      "./mean_field_electrostatics/charged_objects.py:154: RuntimeWarning: invalid value encountered in double_scalars\n",
      "  num   = 1 - 1/kap_r + (1 + 1/kap_r)*np.exp(-2.0*kap_r)\n",
      "./mean_field_electrostatics/charged_objects.py:155: RuntimeWarning: divide by zero encountered in double_scalars\n",
      "  denom = 1 + 1/kap_r - (1 + 1/kap_r)*np.exp(-2.0*kap_r)     # 2016 Guelat:  1/kap_r is (+) {agrees with Hsu and Liu 2009};        2012 Guelat:  1/kap_r is (-)\n",
      "./mean_field_electrostatics/charged_objects.py:155: RuntimeWarning: invalid value encountered in double_scalars\n",
      "  denom = 1 + 1/kap_r - (1 + 1/kap_r)*np.exp(-2.0*kap_r)     # 2016 Guelat:  1/kap_r is (+) {agrees with Hsu and Liu 2009};        2012 Guelat:  1/kap_r is (-)\n",
      "./mean_field_electrostatics/charged_objects.py:100: RuntimeWarning: divide by zero encountered in double_scalars\n",
      "  self.m_charge_dens_dl = solution.m_z*constants().e*self.m_charge_dens/(constants().kT*constants().eps0*solution.eps*solution.kappa)\n",
      "./mean_field_electrostatics/charged_objects.py:154: RuntimeWarning: invalid value encountered in double_scalars\n",
      "  num   = 1 - 1/kap_r + (1 + 1/kap_r)*np.exp(-2.0*kap_r)\n",
      "./mean_field_electrostatics/charged_objects.py:154: RuntimeWarning: invalid value encountered in double_scalars\n",
      "  num   = 1 - 1/kap_r + (1 + 1/kap_r)*np.exp(-2.0*kap_r)\n",
      "./mean_field_electrostatics/charged_objects.py:100: RuntimeWarning: divide by zero encountered in double_scalars\n",
      "  self.m_charge_dens_dl = solution.m_z*constants().e*self.m_charge_dens/(constants().kT*constants().eps0*solution.eps*solution.kappa)\n",
      "/home/chase/anaconda3/lib/python3.7/site-packages/scipy/optimize/_numdiff.py:497: RuntimeWarning: invalid value encountered in subtract\n",
      "  df = fun(x) - f0\n",
      "./mean_field_electrostatics/charged_objects.py:154: RuntimeWarning: divide by zero encountered in double_scalars\n",
      "  num   = 1 - 1/kap_r + (1 + 1/kap_r)*np.exp(-2.0*kap_r)\n",
      "/home/chase/anaconda3/lib/python3.7/site-packages/scipy/optimize/_numdiff.py:497: RuntimeWarning: invalid value encountered in subtract\n",
      "  df = fun(x) - f0\n",
      "/home/chase/anaconda3/lib/python3.7/site-packages/scipy/optimize/_numdiff.py:497: RuntimeWarning: invalid value encountered in subtract\n",
      "  df = fun(x) - f0\n",
      "./mean_field_electrostatics/charged_objects.py:155: RuntimeWarning: invalid value encountered in double_scalars\n",
      "  denom = 1 + 1/kap_r - (1 + 1/kap_r)*np.exp(-2.0*kap_r)     # 2016 Guelat:  1/kap_r is (+) {agrees with Hsu and Liu 2009};        2012 Guelat:  1/kap_r is (-)\n",
      "./mean_field_electrostatics/charged_objects.py:155: RuntimeWarning: invalid value encountered in double_scalars\n",
      "  denom = 1 + 1/kap_r - (1 + 1/kap_r)*np.exp(-2.0*kap_r)     # 2016 Guelat:  1/kap_r is (+) {agrees with Hsu and Liu 2009};        2012 Guelat:  1/kap_r is (-)\n",
      "./mean_field_electrostatics/charged_objects.py:100: RuntimeWarning: divide by zero encountered in double_scalars\n",
      "  self.m_charge_dens_dl = solution.m_z*constants().e*self.m_charge_dens/(constants().kT*constants().eps0*solution.eps*solution.kappa)\n",
      "./mean_field_electrostatics/charged_objects.py:155: RuntimeWarning: invalid value encountered in double_scalars\n",
      "  denom = 1 + 1/kap_r - (1 + 1/kap_r)*np.exp(-2.0*kap_r)     # 2016 Guelat:  1/kap_r is (+) {agrees with Hsu and Liu 2009};        2012 Guelat:  1/kap_r is (-)\n",
      "./mean_field_electrostatics/charged_objects.py:155: RuntimeWarning: divide by zero encountered in double_scalars\n",
      "  denom = 1 + 1/kap_r - (1 + 1/kap_r)*np.exp(-2.0*kap_r)     # 2016 Guelat:  1/kap_r is (+) {agrees with Hsu and Liu 2009};        2012 Guelat:  1/kap_r is (-)\n",
      "./mean_field_electrostatics/charged_objects.py:100: RuntimeWarning: divide by zero encountered in double_scalars\n",
      "  self.m_charge_dens_dl = solution.m_z*constants().e*self.m_charge_dens/(constants().kT*constants().eps0*solution.eps*solution.kappa)\n",
      "./mean_field_electrostatics/charged_objects.py:100: RuntimeWarning: divide by zero encountered in double_scalars\n",
      "  self.m_charge_dens_dl = solution.m_z*constants().e*self.m_charge_dens/(constants().kT*constants().eps0*solution.eps*solution.kappa)\n",
      "/home/chase/anaconda3/lib/python3.7/site-packages/scipy/optimize/_numdiff.py:497: RuntimeWarning: invalid value encountered in subtract\n",
      "  df = fun(x) - f0\n",
      "./mean_field_electrostatics/charged_objects.py:155: RuntimeWarning: divide by zero encountered in double_scalars\n",
      "  denom = 1 + 1/kap_r - (1 + 1/kap_r)*np.exp(-2.0*kap_r)     # 2016 Guelat:  1/kap_r is (+) {agrees with Hsu and Liu 2009};        2012 Guelat:  1/kap_r is (-)\n"
     ]
    },
    {
     "name": "stderr",
     "output_type": "stream",
     "text": [
      "/home/chase/anaconda3/lib/python3.7/site-packages/scipy/optimize/_numdiff.py:497: RuntimeWarning: invalid value encountered in subtract\n",
      "  df = fun(x) - f0\n",
      "./mean_field_electrostatics/charged_objects.py:154: RuntimeWarning: invalid value encountered in double_scalars\n",
      "  num   = 1 - 1/kap_r + (1 + 1/kap_r)*np.exp(-2.0*kap_r)\n",
      "/home/chase/anaconda3/lib/python3.7/site-packages/scipy/optimize/_numdiff.py:497: RuntimeWarning: invalid value encountered in subtract\n",
      "  df = fun(x) - f0\n",
      "./mean_field_electrostatics/charged_objects.py:100: RuntimeWarning: divide by zero encountered in double_scalars\n",
      "  self.m_charge_dens_dl = solution.m_z*constants().e*self.m_charge_dens/(constants().kT*constants().eps0*solution.eps*solution.kappa)\n",
      "./mean_field_electrostatics/charged_objects.py:100: RuntimeWarning: divide by zero encountered in double_scalars\n",
      "  self.m_charge_dens_dl = solution.m_z*constants().e*self.m_charge_dens/(constants().kT*constants().eps0*solution.eps*solution.kappa)\n",
      "./mean_field_electrostatics/charged_objects.py:100: RuntimeWarning: divide by zero encountered in double_scalars\n",
      "  self.m_charge_dens_dl = solution.m_z*constants().e*self.m_charge_dens/(constants().kT*constants().eps0*solution.eps*solution.kappa)\n",
      "./mean_field_electrostatics/charged_objects.py:155: RuntimeWarning: invalid value encountered in double_scalars\n",
      "  denom = 1 + 1/kap_r - (1 + 1/kap_r)*np.exp(-2.0*kap_r)     # 2016 Guelat:  1/kap_r is (+) {agrees with Hsu and Liu 2009};        2012 Guelat:  1/kap_r is (-)\n",
      "./mean_field_electrostatics/charged_objects.py:154: RuntimeWarning: divide by zero encountered in double_scalars\n",
      "  num   = 1 - 1/kap_r + (1 + 1/kap_r)*np.exp(-2.0*kap_r)\n",
      "./mean_field_electrostatics/charged_objects.py:155: RuntimeWarning: invalid value encountered in double_scalars\n",
      "  denom = 1 + 1/kap_r - (1 + 1/kap_r)*np.exp(-2.0*kap_r)     # 2016 Guelat:  1/kap_r is (+) {agrees with Hsu and Liu 2009};        2012 Guelat:  1/kap_r is (-)\n",
      "./mean_field_electrostatics/charged_objects.py:155: RuntimeWarning: invalid value encountered in double_scalars\n",
      "  denom = 1 + 1/kap_r - (1 + 1/kap_r)*np.exp(-2.0*kap_r)     # 2016 Guelat:  1/kap_r is (+) {agrees with Hsu and Liu 2009};        2012 Guelat:  1/kap_r is (-)\n",
      "/home/chase/anaconda3/lib/python3.7/site-packages/scipy/optimize/_numdiff.py:497: RuntimeWarning: invalid value encountered in subtract\n",
      "  df = fun(x) - f0\n",
      "./mean_field_electrostatics/charged_objects.py:155: RuntimeWarning: divide by zero encountered in double_scalars\n",
      "  denom = 1 + 1/kap_r - (1 + 1/kap_r)*np.exp(-2.0*kap_r)     # 2016 Guelat:  1/kap_r is (+) {agrees with Hsu and Liu 2009};        2012 Guelat:  1/kap_r is (-)\n",
      "/home/chase/anaconda3/lib/python3.7/site-packages/scipy/optimize/_numdiff.py:497: RuntimeWarning: invalid value encountered in subtract\n",
      "  df = fun(x) - f0\n",
      "./mean_field_electrostatics/m_functions.py:49: RuntimeWarning: invalid value encountered in double_scalars\n",
      "  bracket = (-1.0*(cap_theta_p**2 + fp*cap_theta_r**2)/fp)*np.log(1-fp*np.exp(-2.0*kappa*dpr)) + 4*cap_theta_p*cap_theta_r/np.sqrt(abs(fp))*variable_term\n",
      "/home/chase/anaconda3/lib/python3.7/site-packages/scipy/optimize/_numdiff.py:497: RuntimeWarning: invalid value encountered in subtract\n",
      "  df = fun(x) - f0\n",
      "/home/chase/anaconda3/lib/python3.7/site-packages/scipy/optimize/_numdiff.py:497: RuntimeWarning: invalid value encountered in subtract\n",
      "  df = fun(x) - f0\n",
      "/home/chase/anaconda3/lib/python3.7/site-packages/scipy/optimize/_numdiff.py:497: RuntimeWarning: invalid value encountered in subtract\n",
      "  df = fun(x) - f0\n",
      "./mean_field_electrostatics/charged_objects.py:154: RuntimeWarning: invalid value encountered in double_scalars\n",
      "  num   = 1 - 1/kap_r + (1 + 1/kap_r)*np.exp(-2.0*kap_r)\n",
      "./mean_field_electrostatics/charged_objects.py:100: RuntimeWarning: divide by zero encountered in double_scalars\n",
      "  self.m_charge_dens_dl = solution.m_z*constants().e*self.m_charge_dens/(constants().kT*constants().eps0*solution.eps*solution.kappa)\n",
      "./mean_field_electrostatics/charged_objects.py:155: RuntimeWarning: invalid value encountered in double_scalars\n",
      "  denom = 1 + 1/kap_r - (1 + 1/kap_r)*np.exp(-2.0*kap_r)     # 2016 Guelat:  1/kap_r is (+) {agrees with Hsu and Liu 2009};        2012 Guelat:  1/kap_r is (-)\n",
      "./mean_field_electrostatics/charged_objects.py:100: RuntimeWarning: divide by zero encountered in double_scalars\n",
      "  self.m_charge_dens_dl = solution.m_z*constants().e*self.m_charge_dens/(constants().kT*constants().eps0*solution.eps*solution.kappa)\n",
      "./mean_field_electrostatics/charged_objects.py:100: RuntimeWarning: divide by zero encountered in double_scalars\n",
      "  self.m_charge_dens_dl = solution.m_z*constants().e*self.m_charge_dens/(constants().kT*constants().eps0*solution.eps*solution.kappa)\n",
      "/home/chase/anaconda3/lib/python3.7/site-packages/scipy/optimize/_numdiff.py:497: RuntimeWarning: invalid value encountered in subtract\n",
      "  df = fun(x) - f0\n",
      "./mean_field_electrostatics/charged_objects.py:100: RuntimeWarning: divide by zero encountered in double_scalars\n",
      "  self.m_charge_dens_dl = solution.m_z*constants().e*self.m_charge_dens/(constants().kT*constants().eps0*solution.eps*solution.kappa)\n",
      "/home/chase/anaconda3/lib/python3.7/site-packages/scipy/optimize/_numdiff.py:497: RuntimeWarning: invalid value encountered in subtract\n",
      "  df = fun(x) - f0\n",
      "/home/chase/anaconda3/lib/python3.7/site-packages/scipy/optimize/_numdiff.py:497: RuntimeWarning: invalid value encountered in subtract\n",
      "  df = fun(x) - f0\n",
      "/home/chase/anaconda3/lib/python3.7/site-packages/scipy/optimize/_numdiff.py:497: RuntimeWarning: invalid value encountered in subtract\n",
      "  df = fun(x) - f0\n",
      "./mean_field_electrostatics/charged_objects.py:155: RuntimeWarning: divide by zero encountered in double_scalars\n",
      "  denom = 1 + 1/kap_r - (1 + 1/kap_r)*np.exp(-2.0*kap_r)     # 2016 Guelat:  1/kap_r is (+) {agrees with Hsu and Liu 2009};        2012 Guelat:  1/kap_r is (-)\n",
      "./mean_field_electrostatics/charged_objects.py:155: RuntimeWarning: invalid value encountered in double_scalars\n",
      "  denom = 1 + 1/kap_r - (1 + 1/kap_r)*np.exp(-2.0*kap_r)     # 2016 Guelat:  1/kap_r is (+) {agrees with Hsu and Liu 2009};        2012 Guelat:  1/kap_r is (-)\n",
      "./mean_field_electrostatics/charged_objects.py:155: RuntimeWarning: divide by zero encountered in double_scalars\n",
      "  denom = 1 + 1/kap_r - (1 + 1/kap_r)*np.exp(-2.0*kap_r)     # 2016 Guelat:  1/kap_r is (+) {agrees with Hsu and Liu 2009};        2012 Guelat:  1/kap_r is (-)\n",
      "./mean_field_electrostatics/charged_objects.py:100: RuntimeWarning: divide by zero encountered in double_scalars\n",
      "  self.m_charge_dens_dl = solution.m_z*constants().e*self.m_charge_dens/(constants().kT*constants().eps0*solution.eps*solution.kappa)\n",
      "./mean_field_electrostatics/charged_objects.py:154: RuntimeWarning: divide by zero encountered in double_scalars\n",
      "  num   = 1 - 1/kap_r + (1 + 1/kap_r)*np.exp(-2.0*kap_r)\n",
      "./mean_field_electrostatics/charged_objects.py:155: RuntimeWarning: invalid value encountered in double_scalars\n",
      "  denom = 1 + 1/kap_r - (1 + 1/kap_r)*np.exp(-2.0*kap_r)     # 2016 Guelat:  1/kap_r is (+) {agrees with Hsu and Liu 2009};        2012 Guelat:  1/kap_r is (-)\n",
      "/home/chase/anaconda3/lib/python3.7/site-packages/scipy/optimize/_numdiff.py:497: RuntimeWarning: invalid value encountered in subtract\n",
      "  df = fun(x) - f0\n",
      "./mean_field_electrostatics/charged_objects.py:100: RuntimeWarning: divide by zero encountered in double_scalars\n",
      "  self.m_charge_dens_dl = solution.m_z*constants().e*self.m_charge_dens/(constants().kT*constants().eps0*solution.eps*solution.kappa)\n",
      "./mean_field_electrostatics/charged_objects.py:154: RuntimeWarning: invalid value encountered in double_scalars\n",
      "  num   = 1 - 1/kap_r + (1 + 1/kap_r)*np.exp(-2.0*kap_r)\n",
      "/home/chase/anaconda3/lib/python3.7/site-packages/scipy/optimize/_numdiff.py:497: RuntimeWarning: invalid value encountered in subtract\n",
      "  df = fun(x) - f0\n",
      "./mean_field_electrostatics/charged_objects.py:155: RuntimeWarning: divide by zero encountered in double_scalars\n",
      "  denom = 1 + 1/kap_r - (1 + 1/kap_r)*np.exp(-2.0*kap_r)     # 2016 Guelat:  1/kap_r is (+) {agrees with Hsu and Liu 2009};        2012 Guelat:  1/kap_r is (-)\n",
      "./mean_field_electrostatics/charged_objects.py:155: RuntimeWarning: invalid value encountered in double_scalars\n",
      "  denom = 1 + 1/kap_r - (1 + 1/kap_r)*np.exp(-2.0*kap_r)     # 2016 Guelat:  1/kap_r is (+) {agrees with Hsu and Liu 2009};        2012 Guelat:  1/kap_r is (-)\n"
     ]
    },
    {
     "name": "stderr",
     "output_type": "stream",
     "text": [
      "./mean_field_electrostatics/charged_objects.py:100: RuntimeWarning: divide by zero encountered in double_scalars\n",
      "  self.m_charge_dens_dl = solution.m_z*constants().e*self.m_charge_dens/(constants().kT*constants().eps0*solution.eps*solution.kappa)\n",
      "/home/chase/anaconda3/lib/python3.7/site-packages/scipy/optimize/_numdiff.py:497: RuntimeWarning: invalid value encountered in subtract\n",
      "  df = fun(x) - f0\n",
      "./mean_field_electrostatics/charged_objects.py:154: RuntimeWarning: divide by zero encountered in double_scalars\n",
      "  num   = 1 - 1/kap_r + (1 + 1/kap_r)*np.exp(-2.0*kap_r)\n",
      "./mean_field_electrostatics/charged_objects.py:154: RuntimeWarning: invalid value encountered in double_scalars\n",
      "  num   = 1 - 1/kap_r + (1 + 1/kap_r)*np.exp(-2.0*kap_r)\n",
      "/home/chase/anaconda3/lib/python3.7/site-packages/scipy/optimize/_numdiff.py:497: RuntimeWarning: invalid value encountered in subtract\n",
      "  df = fun(x) - f0\n",
      "./mean_field_electrostatics/charged_objects.py:155: RuntimeWarning: divide by zero encountered in double_scalars\n",
      "  denom = 1 + 1/kap_r - (1 + 1/kap_r)*np.exp(-2.0*kap_r)     # 2016 Guelat:  1/kap_r is (+) {agrees with Hsu and Liu 2009};        2012 Guelat:  1/kap_r is (-)\n",
      "./mean_field_electrostatics/charged_objects.py:155: RuntimeWarning: invalid value encountered in double_scalars\n",
      "  denom = 1 + 1/kap_r - (1 + 1/kap_r)*np.exp(-2.0*kap_r)     # 2016 Guelat:  1/kap_r is (+) {agrees with Hsu and Liu 2009};        2012 Guelat:  1/kap_r is (-)\n",
      "./mean_field_electrostatics/charged_objects.py:100: RuntimeWarning: divide by zero encountered in double_scalars\n",
      "  self.m_charge_dens_dl = solution.m_z*constants().e*self.m_charge_dens/(constants().kT*constants().eps0*solution.eps*solution.kappa)\n",
      "/home/chase/anaconda3/lib/python3.7/site-packages/scipy/optimize/_numdiff.py:497: RuntimeWarning: invalid value encountered in subtract\n",
      "  df = fun(x) - f0\n",
      "./mean_field_electrostatics/charged_objects.py:154: RuntimeWarning: divide by zero encountered in double_scalars\n",
      "  num   = 1 - 1/kap_r + (1 + 1/kap_r)*np.exp(-2.0*kap_r)\n",
      "./mean_field_electrostatics/charged_objects.py:154: RuntimeWarning: divide by zero encountered in double_scalars\n",
      "  num   = 1 - 1/kap_r + (1 + 1/kap_r)*np.exp(-2.0*kap_r)\n",
      "./mean_field_electrostatics/charged_objects.py:154: RuntimeWarning: invalid value encountered in double_scalars\n",
      "  num   = 1 - 1/kap_r + (1 + 1/kap_r)*np.exp(-2.0*kap_r)\n",
      "./mean_field_electrostatics/charged_objects.py:154: RuntimeWarning: divide by zero encountered in double_scalars\n",
      "  num   = 1 - 1/kap_r + (1 + 1/kap_r)*np.exp(-2.0*kap_r)\n",
      "./mean_field_electrostatics/charged_objects.py:154: RuntimeWarning: invalid value encountered in double_scalars\n",
      "  num   = 1 - 1/kap_r + (1 + 1/kap_r)*np.exp(-2.0*kap_r)\n",
      "./mean_field_electrostatics/charged_objects.py:154: RuntimeWarning: invalid value encountered in double_scalars\n",
      "  num   = 1 - 1/kap_r + (1 + 1/kap_r)*np.exp(-2.0*kap_r)\n",
      "./mean_field_electrostatics/charged_objects.py:155: RuntimeWarning: divide by zero encountered in double_scalars\n",
      "  denom = 1 + 1/kap_r - (1 + 1/kap_r)*np.exp(-2.0*kap_r)     # 2016 Guelat:  1/kap_r is (+) {agrees with Hsu and Liu 2009};        2012 Guelat:  1/kap_r is (-)\n",
      "./mean_field_electrostatics/charged_objects.py:155: RuntimeWarning: divide by zero encountered in double_scalars\n",
      "  denom = 1 + 1/kap_r - (1 + 1/kap_r)*np.exp(-2.0*kap_r)     # 2016 Guelat:  1/kap_r is (+) {agrees with Hsu and Liu 2009};        2012 Guelat:  1/kap_r is (-)\n",
      "./mean_field_electrostatics/charged_objects.py:155: RuntimeWarning: invalid value encountered in double_scalars\n",
      "  denom = 1 + 1/kap_r - (1 + 1/kap_r)*np.exp(-2.0*kap_r)     # 2016 Guelat:  1/kap_r is (+) {agrees with Hsu and Liu 2009};        2012 Guelat:  1/kap_r is (-)\n",
      "./mean_field_electrostatics/charged_objects.py:100: RuntimeWarning: divide by zero encountered in double_scalars\n",
      "  self.m_charge_dens_dl = solution.m_z*constants().e*self.m_charge_dens/(constants().kT*constants().eps0*solution.eps*solution.kappa)\n",
      "/home/chase/anaconda3/lib/python3.7/site-packages/scipy/optimize/_numdiff.py:497: RuntimeWarning: invalid value encountered in subtract\n",
      "  df = fun(x) - f0\n",
      "./mean_field_electrostatics/charged_objects.py:155: RuntimeWarning: divide by zero encountered in double_scalars\n",
      "  denom = 1 + 1/kap_r - (1 + 1/kap_r)*np.exp(-2.0*kap_r)     # 2016 Guelat:  1/kap_r is (+) {agrees with Hsu and Liu 2009};        2012 Guelat:  1/kap_r is (-)\n",
      "./mean_field_electrostatics/charged_objects.py:155: RuntimeWarning: invalid value encountered in double_scalars\n",
      "  denom = 1 + 1/kap_r - (1 + 1/kap_r)*np.exp(-2.0*kap_r)     # 2016 Guelat:  1/kap_r is (+) {agrees with Hsu and Liu 2009};        2012 Guelat:  1/kap_r is (-)\n",
      "./mean_field_electrostatics/charged_objects.py:100: RuntimeWarning: divide by zero encountered in double_scalars\n",
      "  self.m_charge_dens_dl = solution.m_z*constants().e*self.m_charge_dens/(constants().kT*constants().eps0*solution.eps*solution.kappa)\n",
      "./mean_field_electrostatics/charged_objects.py:155: RuntimeWarning: invalid value encountered in double_scalars\n",
      "  denom = 1 + 1/kap_r - (1 + 1/kap_r)*np.exp(-2.0*kap_r)     # 2016 Guelat:  1/kap_r is (+) {agrees with Hsu and Liu 2009};        2012 Guelat:  1/kap_r is (-)\n",
      "/home/chase/anaconda3/lib/python3.7/site-packages/scipy/optimize/_numdiff.py:497: RuntimeWarning: invalid value encountered in subtract\n",
      "  df = fun(x) - f0\n",
      "./mean_field_electrostatics/charged_objects.py:100: RuntimeWarning: divide by zero encountered in double_scalars\n",
      "  self.m_charge_dens_dl = solution.m_z*constants().e*self.m_charge_dens/(constants().kT*constants().eps0*solution.eps*solution.kappa)\n",
      "/home/chase/anaconda3/lib/python3.7/site-packages/scipy/optimize/_numdiff.py:497: RuntimeWarning: invalid value encountered in subtract\n",
      "  df = fun(x) - f0\n",
      "/home/chase/anaconda3/lib/python3.7/site-packages/ipykernel_launcher.py:17: RuntimeWarning: divide by zero encountered in double_scalars\n",
      "/home/chase/anaconda3/lib/python3.7/site-packages/ipykernel_launcher.py:17: RuntimeWarning: divide by zero encountered in double_scalars\n",
      "/home/chase/anaconda3/lib/python3.7/site-packages/ipykernel_launcher.py:17: RuntimeWarning: divide by zero encountered in double_scalars\n",
      "./mean_field_electrostatics/m_functions.py:23: RuntimeWarning: divide by zero encountered in true_divide\n",
      "  rhs = 4.0*np.tanh(theta_r0/4.0)/(1.0-(np.tanh(theta_r0/4.0))**2)\n",
      "/home/chase/anaconda3/lib/python3.7/site-packages/ipykernel_launcher.py:17: RuntimeWarning: divide by zero encountered in double_scalars\n",
      "/home/chase/anaconda3/lib/python3.7/site-packages/ipykernel_launcher.py:17: RuntimeWarning: divide by zero encountered in double_scalars\n",
      "/home/chase/anaconda3/lib/python3.7/site-packages/ipykernel_launcher.py:17: RuntimeWarning: divide by zero encountered in double_scalars\n",
      "/home/chase/anaconda3/lib/python3.7/site-packages/ipykernel_launcher.py:17: RuntimeWarning: divide by zero encountered in double_scalars\n",
      "/home/chase/anaconda3/lib/python3.7/site-packages/ipykernel_launcher.py:17: RuntimeWarning: divide by zero encountered in double_scalars\n",
      "/home/chase/anaconda3/lib/python3.7/site-packages/ipykernel_launcher.py:17: RuntimeWarning: divide by zero encountered in double_scalars\n",
      "/home/chase/anaconda3/lib/python3.7/site-packages/ipykernel_launcher.py:17: RuntimeWarning: divide by zero encountered in double_scalars\n",
      "/home/chase/anaconda3/lib/python3.7/site-packages/ipykernel_launcher.py:17: RuntimeWarning: divide by zero encountered in double_scalars\n",
      "/home/chase/anaconda3/lib/python3.7/site-packages/ipykernel_launcher.py:17: RuntimeWarning: divide by zero encountered in double_scalars\n",
      "/home/chase/anaconda3/lib/python3.7/site-packages/ipykernel_launcher.py:17: RuntimeWarning: divide by zero encountered in double_scalars\n",
      "/home/chase/anaconda3/lib/python3.7/site-packages/ipykernel_launcher.py:17: RuntimeWarning: divide by zero encountered in double_scalars\n",
      "/home/chase/anaconda3/lib/python3.7/site-packages/ipykernel_launcher.py:17: RuntimeWarning: divide by zero encountered in double_scalars\n",
      "/home/chase/anaconda3/lib/python3.7/site-packages/ipykernel_launcher.py:17: RuntimeWarning: divide by zero encountered in double_scalars\n",
      "/home/chase/anaconda3/lib/python3.7/site-packages/ipykernel_launcher.py:17: RuntimeWarning: divide by zero encountered in double_scalars\n"
     ]
    },
    {
     "name": "stderr",
     "output_type": "stream",
     "text": [
      "/home/chase/anaconda3/lib/python3.7/site-packages/ipykernel_launcher.py:17: RuntimeWarning: divide by zero encountered in double_scalars\n",
      "/home/chase/anaconda3/lib/python3.7/site-packages/ipykernel_launcher.py:17: RuntimeWarning: divide by zero encountered in double_scalars\n",
      "/home/chase/anaconda3/lib/python3.7/site-packages/ipykernel_launcher.py:17: RuntimeWarning: divide by zero encountered in double_scalars\n",
      "/home/chase/anaconda3/lib/python3.7/site-packages/ipykernel_launcher.py:17: RuntimeWarning: divide by zero encountered in double_scalars\n",
      "/home/chase/anaconda3/lib/python3.7/site-packages/ipykernel_launcher.py:17: RuntimeWarning: divide by zero encountered in double_scalars\n",
      "/home/chase/anaconda3/lib/python3.7/site-packages/ipykernel_launcher.py:17: RuntimeWarning: divide by zero encountered in double_scalars\n",
      "/home/chase/anaconda3/lib/python3.7/site-packages/ipykernel_launcher.py:17: RuntimeWarning: divide by zero encountered in double_scalars\n",
      "/home/chase/anaconda3/lib/python3.7/site-packages/ipykernel_launcher.py:17: RuntimeWarning: divide by zero encountered in double_scalars\n",
      "./mean_field_electrostatics/m_functions.py:30: RuntimeWarning: divide by zero encountered in arctanh\n",
      "  capital_theta = 4.0*np.exp(solution.kappa*dpr/2.0)*np.arctanh(np.exp(-1.0*solution.kappa*dpr/2.0)*np.tanh(theta_0/4.0))\n",
      "./mean_field_electrostatics/m_functions.py:49: RuntimeWarning: invalid value encountered in double_scalars\n",
      "  bracket = (-1.0*(cap_theta_p**2 + fp*cap_theta_r**2)/fp)*np.log(1-fp*np.exp(-2.0*kappa*dpr)) + 4*cap_theta_p*cap_theta_r/np.sqrt(abs(fp))*variable_term\n"
     ]
    }
   ],
   "source": [
    "## All\n",
    "# masses = np.concatenate((np.linspace(500, 5000, 11), np.logspace(np.log10(6000), np.log10(250000), 5)))\n",
    "# charges = np.arange(1, 81, 1)\n",
    "# surf_densities = [2e-6, 3e-6, 4e-6]\n",
    "\n",
    "## More realistic\n",
    "masses = np.logspace(np.log10(5000), np.log10(200000), 7)\n",
    "charges = np.arange(1, 31, 1)\n",
    "surf_densities = [2e-6, 3e-6, 4e-6]\n",
    "\n",
    "args_list = []\n",
    "for m in masses:\n",
    "    for c in charges:\n",
    "        for s in surf_densities:\n",
    "            args_list.append((m, c, s))\n",
    "\n",
    "pool    = mp.Pool(processes = mp.cpu_count()-2)\n",
    "results = pool.map(run, args_list)\n",
    "pool.close()\n",
    "pool.join()\n",
    "\n",
    "df_model = pd.DataFrame(results, columns=['mass', 'net_charge', 'surf_dens', 'nu', 'phi_alpha'])"
   ]
  },
  {
   "cell_type": "code",
   "execution_count": 16,
   "id": "8af83c26",
   "metadata": {
    "ExecuteTime": {
     "end_time": "2021-09-13T20:57:25.588150Z",
     "start_time": "2021-09-13T20:57:25.297749Z"
    }
   },
   "outputs": [
    {
     "data": {
      "text/plain": [
       "(10.0, 1e+34)"
      ]
     },
     "execution_count": 16,
     "metadata": {},
     "output_type": "execute_result"
    },
    {
     "data": {
      "image/png": "[encoded data removed]",
      "text/plain": [
       "<Figure size 504x432 with 1 Axes>"
      ]
     },
     "metadata": {
      "needs_background": "light"
     },
     "output_type": "display_data"
    }
   ],
   "source": [
    "fig, ax = instantiate_fig()\n",
    "ax.set_xlabel(r'$\\phi \\; \\alpha$  [mM$^\\nu$]')\n",
    "ax.set_ylabel(r'$\\nu$', rotation=0, labelpad=20)\n",
    "ax.set_xscale('log')\n",
    "\n",
    "ax.plot(df_model.phi_alpha, df_model.nu, 'o')\n",
    "    \n",
    "ax.set_ylim(0, 17.5)\n",
    "ax.set_xlim(1e1, 1e34)"
   ]
  },
  {
   "cell_type": "code",
   "execution_count": 17,
   "id": "c95911a9",
   "metadata": {
    "ExecuteTime": {
     "end_time": "2021-09-13T20:57:34.400975Z",
     "start_time": "2021-09-13T20:57:34.385768Z"
    }
   },
   "outputs": [],
   "source": [
    "# fig, ax = instantiate_fig()\n",
    "# ax.set_xlabel(r'$\\phi \\; \\alpha$  [mM$^\\nu$]')\n",
    "# ax.set_ylabel(r'$\\nu$', rotation=0, labelpad=20)\n",
    "# ax.set_xscale('log')\n",
    "\n",
    "# for s in surf_densities:\n",
    "#     df_temp = df_model[df_model.surf_dens == s]\n",
    "#     ax.plot(df_temp.phi_alpha, df_temp.nu, 'o')\n",
    "    \n",
    "# ax.set_ylim(0, 17.5)\n",
    "# ax.set_xlim(1e1, 1e34)\n",
    "\n",
    "\n",
    "\n",
    "# fig, ax = instantiate_fig()\n",
    "# ax.set_xlabel(r'$\\phi \\; \\alpha$  [mM$^\\nu$]')\n",
    "# ax.set_ylabel(r'$\\nu$', rotation=0, labelpad=20)\n",
    "# ax.set_xscale('log')\n",
    "\n",
    "# for m in masses:\n",
    "#     df_temp = df_model[df_model.mass == m]\n",
    "#     ax.plot(df_temp.phi_alpha, df_temp.nu, 'o')\n",
    "    \n",
    "# ax.set_ylim(0, 17.5)\n",
    "# ax.set_xlim(1e1, 1e34)\n",
    "\n",
    "\n",
    "\n",
    "# fig, ax = instantiate_fig()\n",
    "# ax.set_xlabel(r'$\\phi \\; \\alpha$  [mM$^\\nu$]')\n",
    "# ax.set_ylabel(r'$\\nu$', rotation=0, labelpad=20)\n",
    "# ax.set_xscale('log')\n",
    "\n",
    "# for c in charges:\n",
    "#     df_temp = df_model[df_model.net_charge == c]\n",
    "#     ax.plot(df_temp.phi_alpha, df_temp.nu, 'o')\n",
    "    \n",
    "# ax.set_ylim(0, 17.5)\n",
    "# ax.set_xlim(1e1, 1e34)"
   ]
  },
  {
   "cell_type": "code",
   "execution_count": null,
   "id": "c0130c96",
   "metadata": {},
   "outputs": [],
   "source": []
  },
  {
   "cell_type": "code",
   "execution_count": null,
   "id": "7ed4a7f2",
   "metadata": {},
   "outputs": [],
   "source": []
  },
  {
   "cell_type": "markdown",
   "id": "d1f63689",
   "metadata": {},
   "source": [
    "## Comparison with data"
   ]
  },
  {
   "cell_type": "code",
   "execution_count": 18,
   "id": "e958ad35",
   "metadata": {
    "ExecuteTime": {
     "end_time": "2021-09-13T20:57:38.219039Z",
     "start_time": "2021-09-13T20:57:38.200763Z"
    }
   },
   "outputs": [],
   "source": [
    "def my_fit_function_ln_keq_2(tis, a, b):\n",
    "    return np.log(a*tis**b)\n",
    "\n",
    "def meta_correlation(a, c, d):\n",
    "    return c*np.log(a) + d\n",
    "\n",
    "def get_meta_residuals(x, a_vals, b_vals):\n",
    "    c = x[0]\n",
    "    d = x[1]\n",
    "    return b_vals - (c*np.log(a_vals) + d)"
   ]
  },
  {
   "cell_type": "code",
   "execution_count": 19,
   "id": "22d314c5",
   "metadata": {
    "ExecuteTime": {
     "end_time": "2021-09-13T20:57:38.736312Z",
     "start_time": "2021-09-13T20:57:38.626076Z"
    }
   },
   "outputs": [],
   "source": [
    "def get_reg_intervals(x, y, alpha=0.05, line_extension=0.0):\n",
    "    slope, intercept = np.polyfit(x, y, 1)  # linear model adjustment\n",
    "    y_model = np.polyval([slope, intercept], x)   # modeling...\n",
    "\n",
    "    x_mean = np.mean(x)\n",
    "    y_mean = np.mean(y)\n",
    "    n = x.size                        # number of samples\n",
    "    m = 2                             # number of parameters\n",
    "    dof = n - m                       # degrees of freedom\n",
    "    t = stats.t.ppf(1.0-alpha/2.0, dof) # Students statistic of interval confidence\n",
    "\n",
    "    residual = y - y_model\n",
    "    std_error = (np.sum(residual**2) / dof)**.5   # Standard deviation of the error\n",
    "\n",
    "    # mean squared error\n",
    "    MSE = 1/n * np.sum( residual**2 )\n",
    "\n",
    "    # to plot the adjusted model\n",
    "    x_line = np.linspace(np.min(x)-line_extension, np.max(x)+line_extension, 1000)\n",
    "    y_line = np.polyval([slope, intercept], x_line)\n",
    "\n",
    "    # intervals\n",
    "    ci = t * std_error * (1/n + (x_line - x_mean)**2 / np.sum((x - x_mean)**2))**.5\n",
    "    pi = t * std_error * (1 + 1/n + (x_line - x_mean)**2 / np.sum((x - x_mean)**2))**.5  \n",
    "    pred_err_var = (std_error**2.0) * (1 + 1/n + (x_line - x_mean)**2 / np.sum((x - x_mean)**2))\n",
    "    \n",
    "    return x_line, y_line, ci, pi, pred_err_var\n",
    "\n",
    "def get_pred_err_var(x, y, x_star):\n",
    "    slope, intercept = np.polyfit(x, y, 1)  \n",
    "    y_model = np.polyval([slope, intercept], x)  \n",
    "    residual = y - y_model\n",
    "\n",
    "    x_mean = np.mean(x)\n",
    "    y_mean = np.mean(y)\n",
    "    n = x.size                       \n",
    "    m = 2                            \n",
    "    dof = n - m   \n",
    "    \n",
    "    pred_err_var = (np.sum(residual**2) / dof) * (1 + 1/n + (x_star - x_mean)**2 / np.sum((x - x_mean)**2))\n",
    "    return pred_err_var\n",
    "    \n",
    "def plot_intervals(x, y, x_line, y_line, ci, pi):\n",
    "    fig, ax = instantiate_fig()\n",
    "    ax.set_xlabel('$a$')\n",
    "    ax.set_ylabel('$b$')\n",
    "    ax.set_xscale('log')\n",
    "    \n",
    "    color = 'blue'\n",
    "    ax.plot(np.exp(x), y, 'o', color = 'royalblue')\n",
    "    ax.plot(np.exp(x_line), y_line, color = 'royalblue', linestyle='--')\n",
    "    ax.fill_between(np.exp(x_line), y_line + pi, y_line - pi, color = 'lightcyan', label = '95% PI')\n",
    "    ax.fill_between(np.exp(x_line), y_line + ci, y_line - ci, color = 'skyblue', label = '95% CI')\n",
    "#     ax.legend(loc='upper right', fontsize=20)\n",
    "\n",
    "    return fig, ax\n",
    "\n",
    "def plot_intervals_reverse(x, y, x_line, y_line, ci, pi):\n",
    "    fig, ax = instantiate_fig()\n",
    "    ax.set_xlabel('$b$')\n",
    "    ax.set_ylabel('$a$')\n",
    "    ax.set_yscale('log')\n",
    "    \n",
    "    color = 'blue'\n",
    "    ax.plot(x, np.exp(y), 'o', color = 'royalblue')\n",
    "    ax.plot(x_line, np.exp(y_line), color = 'royalblue', linestyle='--')\n",
    "    ax.fill_between(x_line, np.exp(y_line + pi), np.exp(y_line - pi), color = 'lightcyan', label = '95% PI')\n",
    "    ax.fill_between(x_line, np.exp(y_line + ci), np.exp(y_line - ci), color = 'skyblue', label = '95% CI')\n",
    "    ax.legend(loc='upper right', fontsize=20)\n",
    "\n",
    "    return fig, ax\n",
    "\n",
    "def plot_intervals_reverse_ln(x, y, x_line, y_line, ci, pi):\n",
    "    fig, ax = instantiate_fig()\n",
    "    ax.set_xlabel('$b$')\n",
    "    ax.set_ylabel('$ln(a)$')\n",
    "    \n",
    "    color = 'blue'\n",
    "    ax.plot(x, y, 'o', color = 'royalblue')\n",
    "    ax.plot(x_line, y_line, color = 'royalblue', linestyle='--')\n",
    "    ax.fill_between(x_line, y_line + pi, y_line - pi, color = 'lightcyan', label = '95% PI')\n",
    "    ax.fill_between(x_line, y_line + ci, y_line - ci, color = 'skyblue', label = '95% CI')\n",
    "    ax.legend(loc='lower left', fontsize=16)\n",
    "\n",
    "    return fig, ax"
   ]
  },
  {
   "cell_type": "code",
   "execution_count": 20,
   "id": "acd70264",
   "metadata": {
    "ExecuteTime": {
     "end_time": "2021-09-13T20:57:39.178524Z",
     "start_time": "2021-09-13T20:57:39.160471Z"
    }
   },
   "outputs": [],
   "source": [
    "# Load data\n",
    "df_all_k = pd.read_csv('./lit_data/all_kprime.csv')\n",
    "df_all_k.fillna(0.0, inplace=True)\n",
    "\n",
    "df_2_fit_parms = pd.read_csv('./lit_data/two_params_all_data.csv')\n",
    "resins = list(set(df_2_fit_parms.resin))\n",
    "resins.sort()\n",
    "\n",
    "df_2_fit_parms['ln_a'] = np.log(df_2_fit_parms.a)\n",
    "data = np.zeros((len(df_2_fit_parms), 2))\n",
    "data[:,0] = df_2_fit_parms.ln_a\n",
    "data[:,1] = df_2_fit_parms.b"
   ]
  },
  {
   "cell_type": "code",
   "execution_count": 22,
   "id": "cfe0af78",
   "metadata": {
    "ExecuteTime": {
     "end_time": "2021-09-13T20:58:03.646014Z",
     "start_time": "2021-09-13T20:58:02.970056Z"
    }
   },
   "outputs": [
    {
     "data": {
      "image/png": "[encoded data removed]",
      "text/plain": [
       "<Figure size 504x432 with 1 Axes>"
      ]
     },
     "metadata": {},
     "output_type": "display_data"
    }
   ],
   "source": [
    "fig, ax = instantiate_fig()\n",
    "ax.set_xlabel(r'$\\phi \\; \\alpha$  [mM$^\\nu$]')\n",
    "ax.set_ylabel(r'$\\nu$', rotation=0, labelpad=20)\n",
    "\n",
    "ax.set_xscale('log')\n",
    "ax.set_xlim(np.exp(-2), np.exp(83))\n",
    "ax.set_ylim(0, 17.5)\n",
    "\n",
    "iex_type_list = ['aex', 'cex']\n",
    "for iex_type in iex_type_list:\n",
    "    df = df_2_fit_parms[df_2_fit_parms.iex_type==iex_type]\n",
    "\n",
    "    data = np.zeros((len(df), 2))\n",
    "    data[:,0] = df.ln_a\n",
    "    data[:,1] = -1*df.b\n",
    "\n",
    "    x = data[:,0]\n",
    "    y = data[:,1]\n",
    "\n",
    "    x_line, y_line, ci, pi, pred_err_var = get_reg_intervals(x, y, line_extension=10.0)\n",
    "    \n",
    "    if iex_type == 'aex':\n",
    "        color_1, color_2, color_3 = 'royalblue', 'skyblue', 'lightcyan'\n",
    "        marker, fillstyle = 'o', 'full'\n",
    "    elif iex_type == 'cex':\n",
    "        color_1, color_2, color_3 = 'darkorange', 'burlywood', 'bisque'\n",
    "        marker, fillstyle = 'D', 'full'\n",
    "    \n",
    "    ax.plot(np.exp(x), y, marker=marker, fillstyle=fillstyle, linewidth=0, color=color_1, label=iex_type.upper())\n",
    "    ax.plot(np.exp(x_line), y_line, color=color_1, linestyle='--')\n",
    "    ax.fill_between(np.exp(x_line), y_line + pi, y_line - pi, color=color_3)\n",
    "    ax.fill_between(np.exp(x_line), y_line + ci, y_line - ci, color=color_2)\n",
    "\n",
    "ax.plot(df_model.phi_alpha, df_model.nu, '^', color='black', label='Model')\n",
    "    \n",
    "ax.legend(loc='upper left', handlelength=0.2, frameon=False)\n",
    "set_layout(fig, ax)\n",
    "# fig.savefig(f'./images/manuscript_images/consolidated_data_correlation_with_model_negative_sign_second_position.pdf')\n",
    "fig.savefig(f'./images/mean_field_electrostatics/consolidated_data_correlation_with_model_negative_sign.png', dpi=300)"
   ]
  },
  {
   "cell_type": "code",
   "execution_count": null,
   "id": "cbd1c686",
   "metadata": {},
   "outputs": [],
   "source": []
  },
  {
   "cell_type": "code",
   "execution_count": null,
   "id": "60621fb4",
   "metadata": {},
   "outputs": [],
   "source": []
  },
  {
   "cell_type": "code",
   "execution_count": null,
   "id": "0976b5d6",
   "metadata": {},
   "outputs": [],
   "source": []
  }
 ],
 "metadata": {
  "kernelspec": {
   "display_name": "Python 3",
   "language": "python",
   "name": "python3"
  },
  "language_info": {
   "codemirror_mode": {
    "name": "ipython",
    "version": 3
   },
   "file_extension": ".py",
   "mimetype": "text/x-python",
   "name": "python",
   "nbconvert_exporter": "python",
   "pygments_lexer": "ipython3",
   "version": "3.7.10"
  }
 },
 "nbformat": 4,
 "nbformat_minor": 5
}
