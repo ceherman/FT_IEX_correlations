{
 "cells": [
  {
   "cell_type": "code",
   "execution_count": 1,
   "metadata": {
    "ExecuteTime": {
     "end_time": "2021-01-14T21:32:42.577954Z",
     "start_time": "2021-01-14T21:32:40.193258Z"
    }
   },
   "outputs": [
    {
     "data": {
      "text/html": [
       "<style>.container { width:100% !important; }</style>"
      ],
      "text/plain": [
       "<IPython.core.display.HTML object>"
      ]
     },
     "metadata": {},
     "output_type": "display_data"
    }
   ],
   "source": [
    "import platform\n",
    "from pathlib import Path\n",
    "\n",
    "import os\n",
    "import subprocess\n",
    "import time\n",
    "\n",
    "import numpy as np\n",
    "import scipy\n",
    "from scipy import optimize\n",
    "import pandas as pd # I added as pd\n",
    "import matplotlib as mpl\n",
    "import matplotlib.pyplot as plt\n",
    "from matplotlib.lines import Line2D\n",
    "\n",
    "from addict import Dict\n",
    "import json\n",
    "\n",
    "# Temporary files for simulation objects\n",
    "import tempfile\n",
    "tempfile.tempdir = os.path.join(Path.home())\n",
    "\n",
    "# IPython\n",
    "from IPython.core.display import display, HTML, clear_output\n",
    "display(HTML(\"<style>.container { width:100% !important; }</style>\"))\n",
    "from IPython.display import Image\n",
    "from ipywidgets import interact, interactive\n",
    "import ipywidgets as widgets\n",
    "\n",
    "import copy"
   ]
  },
  {
   "cell_type": "markdown",
   "metadata": {},
   "source": [
    "# Previous work"
   ]
  },
  {
   "cell_type": "code",
   "execution_count": 2,
   "metadata": {
    "ExecuteTime": {
     "end_time": "2021-01-14T21:32:42.593865Z",
     "start_time": "2021-01-14T21:32:42.581356Z"
    }
   },
   "outputs": [],
   "source": [
    "def first_moment(time, absorbance):\n",
    "    total_num = 0\n",
    "    total_den = 0\n",
    "    for element in range(len(time)):\n",
    "        if element==0:\n",
    "            pass\n",
    "        elif absorbance[element] > 0:\n",
    "            total_num   += absorbance[element]*(time[element] - time[element-1])*time[element]\n",
    "            total_den   += absorbance[element]*(time[element] - time[element-1])\n",
    "    return total_num/total_den"
   ]
  },
  {
   "cell_type": "code",
   "execution_count": 3,
   "metadata": {
    "ExecuteTime": {
     "end_time": "2021-01-14T21:32:42.608836Z",
     "start_time": "2021-01-14T21:32:42.597841Z"
    }
   },
   "outputs": [],
   "source": [
    "# pH 7, 20 mM phosphate\n",
    "\n",
    "def cond_2_tis(cond):\n",
    "    tis = (0.0229207306*(cond**2) + 9.3999636424*cond + 21.2424910935)\n",
    "    return tis\n",
    "\n",
    "def nacl_2_is(nacl):\n",
    "    \"\"\"Convert NaCl [mM] to IS [mM]\"\"\"\n",
    "    return 1e3*(1.019*nacl*1e-3 + 0.041)\n",
    "\n",
    "def is_2_nacl(tis):\n",
    "    \"\"\"Convert IS [mM] to  NaCl [mM]\"\"\"\n",
    "    return 1e3*(tis*1e-3 - 0.041)/1.019"
   ]
  },
  {
   "cell_type": "code",
   "execution_count": 4,
   "metadata": {
    "ExecuteTime": {
     "end_time": "2021-01-14T21:32:48.987351Z",
     "start_time": "2021-01-14T21:32:48.883784Z"
    }
   },
   "outputs": [],
   "source": [
    "# Parameter correlations, pH 7\n",
    "\n",
    "def my_fit_function_keq(tis, a, b, c):\n",
    "    return c*np.exp(a*(tis)**b)\n",
    "\n",
    "def my_fit_function_keq_2(tis, a, b):\n",
    "    return a*tis**b\n",
    "\n",
    "def my_fit_function_ds(keq, a, b):\n",
    "    return np.log(a*keq**b)\n",
    "\n",
    "def get_fit_param_inputs():\n",
    "    data_file    = pd.ExcelFile('aex_pH_7_all_data.xlsx') # Change here\n",
    "    protein_list = ['adh', 'blg', 'cat', 'ova'] \n",
    "    return data_file, protein_list\n",
    "\n",
    "def get_correlation(resin):\n",
    "    data_file, protein_list = get_fit_param_inputs()\n",
    "\n",
    "    keq_fit_params = []\n",
    "    Ds_fit_params = []\n",
    "    if resin != 'phq':\n",
    "        print('Need to inspect data to see if ovalbumin series must be treated \\\n",
    "        separately')\n",
    "\n",
    "    for protein in protein_list:\n",
    "        tab_name = protein + '_' + resin\n",
    "        df = pd.read_excel(data_file, tab_name)\n",
    "        df.dropna(inplace=True)\n",
    "        df_ds_fit = df.copy()\n",
    "\n",
    "        if protein != 'ova':\n",
    "            fit_keq = optimize.curve_fit(my_fit_function_keq, df['IS (M)']*1e3,\n",
    "                      df['Keq'], p0=(0.0, -1.0, 1.0e-2), maxfev=10000)\n",
    "        else:\n",
    "            fit_keq = optimize.curve_fit(my_fit_function_keq_2, df['IS (M)']*1e3,\n",
    "                      df['Keq'], p0=(1.0e-2, 0.0), maxfev=10000)\n",
    "            df_ds_fit.drop(2, inplace=True)\n",
    "\n",
    "        keq_fit_params.append(fit_keq[0])\n",
    "        fit_ds = optimize.curve_fit(my_fit_function_ds, df_ds_fit['Keq'],\n",
    "                 np.log(df_ds_fit['Ds']), p0=(np.exp(-11), -1.5), maxfev=10000)\n",
    "        Ds_fit_params.append(fit_ds[0])\n",
    "\n",
    "    return keq_fit_params, Ds_fit_params\n",
    "\n",
    "def get_column_params(resin, salt_c):\n",
    "    keq_fit_params, Ds_fit_params = get_correlation(resin)\n",
    "\n",
    "    keq_vals = [my_fit_function_keq(salt_c, keq_fit_params[i][0],\n",
    "    keq_fit_params[i][1], keq_fit_params[i][2]) for i in [0, 1, 2]]\n",
    "\n",
    "    keq_vals.append(my_fit_function_keq_2(salt_c, keq_fit_params[3][0],\n",
    "    keq_fit_params[3][1])) # for ovalbumin\n",
    "\n",
    "    ds_vals  = [np.exp(my_fit_function_ds(keq_vals[i], Ds_fit_params[i][0],\n",
    "    Ds_fit_params[i][1])) for i in range(len(keq_fit_params))]\n",
    "\n",
    "    return keq_vals, ds_vals\n",
    "\n",
    "\n",
    "# # Plots_______________________________________________________________________\n",
    "def plot_keq(resin):\n",
    "    keq_fit_params, Ds_fit_params = get_correlation(resin)\n",
    "    data_file, protein_list = get_fit_param_inputs()\n",
    "    tis_new = np.linspace(50, 500, 1000)\n",
    "\n",
    "    params = {'font.weight':'normal', 'font.size':20, 'figure.autolayout':True}\n",
    "    plt.rcParams.update(params)\n",
    "    fig, ax = plt.subplots()\n",
    "    fig.set_size_inches(7, 6, forward=True)\n",
    "    ax.set_xlabel('Ionic Strength [mM]')\n",
    "    ax.set_ylabel(r'K$_{eq}$ [-]')\n",
    "    ax.set_ylim(0.1, 100)\n",
    "\n",
    "    for i, protein in enumerate(protein_list):\n",
    "        tab_name = protein + '_' + resin\n",
    "        df = pd.read_excel(data_file, tab_name)\n",
    "        df.dropna(inplace=True)\n",
    "        fit_params = keq_fit_params[i]\n",
    "\n",
    "        if protein != 'ova':\n",
    "            keq_new = [my_fit_function_keq(tis, fit_params[0], fit_params[1],\n",
    "            fit_params[2]) for tis in tis_new]\n",
    "        else:\n",
    "            keq_new = [my_fit_function_keq_2(tis, fit_params[0],\n",
    "            fit_params[1]) for tis in tis_new]\n",
    "\n",
    "        ax.loglog(df['IS (M)']*1e3, df['Keq'], 'o', label=protein)\n",
    "        ax.loglog(tis_new, keq_new, color=plt.gca().lines[-1].get_color())\n",
    "\n",
    "    ax.legend(loc='best', frameon=False, handlelength=1.0)\n",
    "    plt.show()\n",
    "    return\n",
    "\n",
    "def plot_ds(resin, fig=None, ax=None):\n",
    "    keq_fit_params, Ds_fit_params = get_correlation(resin)\n",
    "    data_file, protein_list = get_fit_param_inputs()\n",
    "    keq_new = np.logspace(-1, 2)\n",
    "\n",
    "    params = {'font.weight':'normal', 'font.size':20, 'figure.autolayout':True}\n",
    "    plt.rcParams.update(params)\n",
    "\n",
    "    if fig == None and ax == None:\n",
    "        fig, ax = plt.subplots()\n",
    "\n",
    "    fig.set_size_inches(7, 6, forward=True)\n",
    "    ax.set_ylabel(r'D$_s$ [m$^2$/s]')\n",
    "    ax.set_xlabel(r'K$_{eq}$ [-]')\n",
    "    ax.set_ylim(1e-18, 1e-8)\n",
    "\n",
    "    for i, protein in enumerate(protein_list):\n",
    "        tab_name = protein + '_' + resin\n",
    "        df = pd.read_excel(data_file, tab_name)\n",
    "        df.dropna(inplace=True)\n",
    "        fit_params = Ds_fit_params[i]\n",
    "        ds_new = [np.exp(my_fit_function_ds(keq, fit_params[0],\n",
    "        fit_params[1])) for keq in keq_new]\n",
    "\n",
    "        ax.loglog(df['Keq'],  df['Ds'], 'o', label=protein)\n",
    "        ax.loglog(keq_new, ds_new, color=plt.gca().lines[-1].get_color())\n",
    "\n",
    "    ax.legend(loc='best', frameon=False, handlelength=1.0)\n",
    "    # plt.show()\n",
    "    return"
   ]
  },
  {
   "cell_type": "code",
   "execution_count": 5,
   "metadata": {
    "ExecuteTime": {
     "end_time": "2020-12-13T14:47:51.962994Z",
     "start_time": "2020-12-13T14:47:48.998655Z"
    }
   },
   "outputs": [
    {
     "name": "stderr",
     "output_type": "stream",
     "text": [
      "C:\\Users\\Chase\\Anaconda3\\lib\\site-packages\\pandas\\core\\series.py:679: RuntimeWarning: overflow encountered in exp\n",
      "  result = getattr(ufunc, method)(*inputs, **kwargs)\n",
      "C:\\Users\\Chase\\Anaconda3\\lib\\site-packages\\pandas\\core\\series.py:679: RuntimeWarning: invalid value encountered in log\n",
      "  result = getattr(ufunc, method)(*inputs, **kwargs)\n",
      "C:\\Users\\Chase\\Anaconda3\\lib\\site-packages\\scipy\\optimize\\minpack.py:808: OptimizeWarning: Covariance of the parameters could not be estimated\n",
      "  category=OptimizeWarning)\n"
     ]
    },
    {
     "data": {
      "image/png": "[encoded data removed]",
      "text/plain": [
       "<Figure size 504x432 with 1 Axes>"
      ]
     },
     "metadata": {
      "needs_background": "light"
     },
     "output_type": "display_data"
    }
   ],
   "source": [
    "plot_keq('phq')"
   ]
  },
  {
   "cell_type": "markdown",
   "metadata": {},
   "source": [
    "# Calculations with catalase"
   ]
  },
  {
   "cell_type": "code",
   "execution_count": 6,
   "metadata": {
    "ExecuteTime": {
     "end_time": "2020-12-13T14:47:53.937378Z",
     "start_time": "2020-12-13T14:47:51.964992Z"
    }
   },
   "outputs": [
    {
     "name": "stderr",
     "output_type": "stream",
     "text": [
      "C:\\Users\\Chase\\Anaconda3\\lib\\site-packages\\pandas\\core\\series.py:679: RuntimeWarning: overflow encountered in exp\n",
      "  result = getattr(ufunc, method)(*inputs, **kwargs)\n",
      "C:\\Users\\Chase\\Anaconda3\\lib\\site-packages\\pandas\\core\\series.py:679: RuntimeWarning: invalid value encountered in log\n",
      "  result = getattr(ufunc, method)(*inputs, **kwargs)\n",
      "C:\\Users\\Chase\\Anaconda3\\lib\\site-packages\\scipy\\optimize\\minpack.py:808: OptimizeWarning: Covariance of the parameters could not be estimated\n",
      "  category=OptimizeWarning)\n"
     ]
    }
   ],
   "source": [
    "keq_fit_params, Ds_fit_params = get_correlation('phq')\n",
    "\n",
    "fit_params = keq_fit_params[2]\n",
    "tis_new = np.linspace(50, 500, 1000)\n",
    "keq_new = [my_fit_function_keq(tis, fit_params[0], fit_params[1],\n",
    "            fit_params[2]) for tis in tis_new]"
   ]
  },
  {
   "cell_type": "code",
   "execution_count": 7,
   "metadata": {
    "ExecuteTime": {
     "end_time": "2020-12-13T14:47:53.952770Z",
     "start_time": "2020-12-13T14:47:53.937378Z"
    }
   },
   "outputs": [],
   "source": [
    "def get_is_from_keq(keq, a, b, c):\n",
    "    return (1.0/a * np.log(keq/c))**(1.0/b)\n",
    "\n",
    "keq_reverse = np.logspace(-1, 2, 1000)\n",
    "tis_reverse = [get_is_from_keq(keq, fit_params[0], fit_params[1],\n",
    "               fit_params[2]) for keq in keq_reverse]"
   ]
  },
  {
   "cell_type": "code",
   "execution_count": 52,
   "metadata": {
    "ExecuteTime": {
     "end_time": "2020-12-14T03:55:20.510539Z",
     "start_time": "2020-12-14T03:55:18.913370Z"
    }
   },
   "outputs": [
    {
     "data": {
      "image/png": "[encoded data removed]",
      "text/plain": [
       "<Figure size 504x432 with 1 Axes>"
      ]
     },
     "metadata": {
      "needs_background": "light"
     },
     "output_type": "display_data"
    }
   ],
   "source": [
    "params = {'font.weight':'normal', 'font.size':20, 'figure.autolayout':True}\n",
    "plt.rcParams.update(params)\n",
    "fig, ax = plt.subplots()\n",
    "fig.set_size_inches(7, 6, forward=True)\n",
    "ax.set_xlabel('Ionic Strength [mM]')\n",
    "ax.set_ylabel(r'K$_{eq}$ [-]')\n",
    "ax.set_ylim(0.1, 100)\n",
    "    \n",
    "data_file, protein_list = get_fit_param_inputs()\n",
    "tab_name = 'cat_phq'\n",
    "df = pd.read_excel(data_file, tab_name)\n",
    "df.dropna(inplace=True)\n",
    "\n",
    "ax.loglog(df['IS (M)']*1e3, df['Keq'], 'o', label='Data')\n",
    "ax.loglog(tis_new, keq_new, color=plt.gca().lines[-1].get_color(), label='forward')\n",
    "ax.loglog(tis_reverse, keq_reverse, 'k--', label='reverse')\n",
    "\n",
    "ax.legend(loc='best', frameon=False, handlelength=1.0)\n",
    "fig.savefig('Keq_IS_catalase_fit.png', dpi=300)"
   ]
  },
  {
   "cell_type": "code",
   "execution_count": 50,
   "metadata": {
    "ExecuteTime": {
     "end_time": "2020-12-14T01:43:52.889781Z",
     "start_time": "2020-12-14T01:43:52.858799Z"
    }
   },
   "outputs": [
    {
     "data": {
      "text/plain": [
       "0    0.460590\n",
       "1    0.761694\n",
       "2    2.762885\n",
       "3    8.764313\n",
       "Name: Keq, dtype: float64"
      ]
     },
     "execution_count": 50,
     "metadata": {},
     "output_type": "execute_result"
    }
   ],
   "source": [
    "df['Keq']"
   ]
  },
  {
   "cell_type": "markdown",
   "metadata": {},
   "source": [
    "# Calculations"
   ]
  },
  {
   "cell_type": "code",
   "execution_count": 49,
   "metadata": {
    "ExecuteTime": {
     "end_time": "2020-12-14T00:26:09.109789Z",
     "start_time": "2020-12-14T00:26:09.091779Z"
    }
   },
   "outputs": [
    {
     "name": "stdout",
     "output_type": "stream",
     "text": [
      "Keq = 100.0\n",
      "%B = 4.7 \n",
      "\n",
      "V_total = 10 ml\n",
      "V_a = 9.511 ml\n",
      "(V_a/2 = 4.76 ml)\n",
      "V_b = 466.8 ul\n",
      "V_protein_stock = 22.1 ul\n"
     ]
    }
   ],
   "source": [
    "keq_desired = [100.0] # [1, 5, 10]\n",
    "is_desired  = [get_is_from_keq(keq, fit_params[0], fit_params[1], fit_params[2]) for keq in keq_desired]\n",
    "nacl_desired = [is_2_nacl(tis) for tis in is_desired]\n",
    "percent_B = [nacl*1e-3*1e2 for nacl in nacl_desired]\n",
    "\n",
    "v_total = 10\n",
    "c_stock = 4.52\n",
    "c_desired = 0.01\n",
    "c_b = 1000\n",
    "\n",
    "v_stock = c_desired / c_stock * v_total\n",
    "v_b = np.array([nacl*1e-3*v_total for nacl in nacl_desired])\n",
    "v_a = [v_total - v_stock - v for v in v_b]\n",
    "\n",
    "print(f'Keq = {keq_desired[0]}')\n",
    "print(f'%B = {percent_B[0]:.1f}', '\\n')\n",
    "print(f'V_total = {v_total} ml')\n",
    "print(f'V_a = {v_a[0]:.3f} ml')\n",
    "print(f'(V_a/2 = {v_a[0]/2.0:.2f} ml)')\n",
    "print(f'V_b = {v_b[0]*1e3:.1f} ul')\n",
    "print(f'V_protein_stock = {v_stock*1e3:.1f} ul')\n"
   ]
  },
  {
   "cell_type": "code",
   "execution_count": null,
   "metadata": {
    "ExecuteTime": {
     "end_time": "2020-12-10T14:13:29.463658Z",
     "start_time": "2020-12-10T14:13:29.457636Z"
    }
   },
   "outputs": [],
   "source": []
  },
  {
   "cell_type": "code",
   "execution_count": null,
   "metadata": {},
   "outputs": [],
   "source": []
  },
  {
   "cell_type": "code",
   "execution_count": 32,
   "metadata": {
    "ExecuteTime": {
     "end_time": "2020-12-13T22:18:01.282848Z",
     "start_time": "2020-12-13T22:18:01.276852Z"
    }
   },
   "outputs": [
    {
     "data": {
      "text/plain": [
       "(137.3426400087, 127.4154995625)"
      ]
     },
     "execution_count": 32,
     "metadata": {},
     "output_type": "execute_result"
    }
   ],
   "source": [
    "# Figure out how to account for dilution with tubing in Superloop/clean the superloop appropriately\n",
    "cond_2_tis(12), cond_2_tis(11)"
   ]
  },
  {
   "cell_type": "code",
   "execution_count": null,
   "metadata": {},
   "outputs": [],
   "source": []
  },
  {
   "cell_type": "code",
   "execution_count": null,
   "metadata": {},
   "outputs": [],
   "source": []
  },
  {
   "cell_type": "code",
   "execution_count": null,
   "metadata": {},
   "outputs": [],
   "source": []
  },
  {
   "cell_type": "code",
   "execution_count": 6,
   "metadata": {
    "ExecuteTime": {
     "end_time": "2021-01-14T21:33:38.848957Z",
     "start_time": "2021-01-14T21:33:38.832971Z"
    }
   },
   "outputs": [
    {
     "data": {
      "text/plain": [
       "[87.34052993130521]"
      ]
     },
     "execution_count": 6,
     "metadata": {},
     "output_type": "execute_result"
    }
   ],
   "source": [
    "is_desired  = [130]\n",
    "nacl_desired = [is_2_nacl(tis) for tis in is_desired]\n",
    "percent_B = [nacl*1e-3*1e2 for nacl in nacl_desired]\n",
    "nacl_desired"
   ]
  },
  {
   "cell_type": "code",
   "execution_count": null,
   "metadata": {},
   "outputs": [],
   "source": []
  },
  {
   "cell_type": "code",
   "execution_count": null,
   "metadata": {},
   "outputs": [],
   "source": []
  },
  {
   "cell_type": "code",
   "execution_count": null,
   "metadata": {},
   "outputs": [],
   "source": []
  },
  {
   "cell_type": "code",
   "execution_count": null,
   "metadata": {},
   "outputs": [],
   "source": []
  },
  {
   "cell_type": "code",
   "execution_count": null,
   "metadata": {},
   "outputs": [],
   "source": []
  },
  {
   "cell_type": "code",
   "execution_count": null,
   "metadata": {},
   "outputs": [],
   "source": []
  },
  {
   "cell_type": "code",
   "execution_count": null,
   "metadata": {},
   "outputs": [],
   "source": []
  },
  {
   "cell_type": "code",
   "execution_count": null,
   "metadata": {},
   "outputs": [],
   "source": []
  }
 ],
 "metadata": {
  "kernelspec": {
   "display_name": "Python 3",
   "language": "python",
   "name": "python3"
  },
  "language_info": {
   "codemirror_mode": {
    "name": "ipython",
    "version": 3
   },
   "file_extension": ".py",
   "mimetype": "text/x-python",
   "name": "python",
   "nbconvert_exporter": "python",
   "pygments_lexer": "ipython3",
   "version": "3.7.6"
  },
  "toc": {
   "base_numbering": 1,
   "nav_menu": {},
   "number_sections": true,
   "sideBar": true,
   "skip_h1_title": false,
   "title_cell": "Table of Contents",
   "title_sidebar": "Contents",
   "toc_cell": false,
   "toc_position": {},
   "toc_section_display": true,
   "toc_window_display": false
  }
 },
 "nbformat": 4,
 "nbformat_minor": 2
}
