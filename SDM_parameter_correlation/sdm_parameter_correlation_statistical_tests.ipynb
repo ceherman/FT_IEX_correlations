{
 "cells": [
  {
   "cell_type": "code",
   "execution_count": 20,
   "id": "218c9975",
   "metadata": {
    "ExecuteTime": {
     "end_time": "2021-10-05T18:51:40.639025Z",
     "start_time": "2021-10-05T18:51:40.632407Z"
    }
   },
   "outputs": [
    {
     "data": {
      "text/html": [
       "<style>.container { width:100% !important; }</style>"
      ],
      "text/plain": [
       "<IPython.core.display.HTML object>"
      ]
     },
     "metadata": {},
     "output_type": "display_data"
    }
   ],
   "source": [
    "# IPython\n",
    "from IPython.core.display import display, HTML, clear_output\n",
    "display(HTML(\"<style>.container { width:100% !important; }</style>\"))\n",
    "\n",
    "import numpy as np\n",
    "import matplotlib.pyplot as plt\n",
    "import scipy.optimize\n",
    "import pandas as pd\n",
    "\n",
    "import statsmodels.api as sm\n",
    "import statsmodels.formula.api as smf"
   ]
  },
  {
   "cell_type": "code",
   "execution_count": null,
   "id": "9a7cdb91",
   "metadata": {},
   "outputs": [],
   "source": []
  },
  {
   "cell_type": "markdown",
   "id": "342a40cd",
   "metadata": {},
   "source": [
    "# Significance of the overall correlation\n",
    "\n",
    "Reference https://www.geeksforgeeks.org/ordinary-least-squares-ols-using-statsmodels/"
   ]
  },
  {
   "cell_type": "code",
   "execution_count": 2,
   "id": "f9fcb6df",
   "metadata": {
    "ExecuteTime": {
     "end_time": "2021-10-05T17:58:33.157551Z",
     "start_time": "2021-10-05T17:58:33.123601Z"
    }
   },
   "outputs": [],
   "source": [
    "df_2_fit_parms = pd.read_csv('./lit_data/two_params_without_my_data.csv')\n",
    "df_2_fit_parms['nu'] = -1.0*df_2_fit_parms['b']\n",
    "df_2_fit_parms['phi_alpha'] = df_2_fit_parms['a']\n",
    "df_2_fit_parms['ln_phi_alpha'] = np.log(df_2_fit_parms['phi_alpha'])"
   ]
  },
  {
   "cell_type": "code",
   "execution_count": 3,
   "id": "98ca5be2",
   "metadata": {
    "ExecuteTime": {
     "end_time": "2021-10-05T17:58:33.853489Z",
     "start_time": "2021-10-05T17:58:33.718081Z"
    }
   },
   "outputs": [],
   "source": [
    "X = df_2_fit_parms['ln_phi_alpha']\n",
    "Y = df_2_fit_parms['nu']\n",
    "\n",
    "X = sm.add_constant(X)\n",
    "model = sm.OLS(Y, X)\n",
    "results = model.fit()"
   ]
  },
  {
   "cell_type": "code",
   "execution_count": 4,
   "id": "dfd44d2a",
   "metadata": {
    "ExecuteTime": {
     "end_time": "2021-10-05T17:58:34.288380Z",
     "start_time": "2021-10-05T17:58:34.273026Z"
    }
   },
   "outputs": [
    {
     "name": "stdout",
     "output_type": "stream",
     "text": [
      "                            OLS Regression Results                            \n",
      "==============================================================================\n",
      "Dep. Variable:                     nu   R-squared:                       0.901\n",
      "Model:                            OLS   Adj. R-squared:                  0.900\n",
      "Method:                 Least Squares   F-statistic:                     2068.\n",
      "Date:                Tue, 05 Oct 2021   Prob (F-statistic):          2.52e-116\n",
      "Time:                        13:58:34   Log-Likelihood:                -285.10\n",
      "No. Observations:                 230   AIC:                             574.2\n",
      "Df Residuals:                     228   BIC:                             581.1\n",
      "Df Model:                           1                                         \n",
      "Covariance Type:            nonrobust                                         \n",
      "================================================================================\n",
      "                   coef    std err          t      P>|t|      [0.025      0.975]\n",
      "--------------------------------------------------------------------------------\n",
      "const            0.5781      0.120      4.821      0.000       0.342       0.814\n",
      "ln_phi_alpha     0.1690      0.004     45.474      0.000       0.162       0.176\n",
      "==============================================================================\n",
      "Omnibus:                       23.448   Durbin-Watson:                   1.985\n",
      "Prob(Omnibus):                  0.000   Jarque-Bera (JB):               45.617\n",
      "Skew:                           0.524   Prob(JB):                     1.24e-10\n",
      "Kurtosis:                       4.914   Cond. No.                         69.9\n",
      "==============================================================================\n",
      "\n",
      "Notes:\n",
      "[1] Standard Errors assume that the covariance matrix of the errors is correctly specified.\n"
     ]
    }
   ],
   "source": [
    "print(results.summary())"
   ]
  },
  {
   "cell_type": "code",
   "execution_count": null,
   "id": "35924c11",
   "metadata": {},
   "outputs": [],
   "source": []
  },
  {
   "cell_type": "markdown",
   "id": "46cae82c",
   "metadata": {},
   "source": [
    "# Difference between CEX and AEX data"
   ]
  },
  {
   "cell_type": "code",
   "execution_count": 18,
   "id": "318414bb",
   "metadata": {
    "ExecuteTime": {
     "end_time": "2021-10-05T18:51:15.670420Z",
     "start_time": "2021-10-05T18:51:15.641278Z"
    }
   },
   "outputs": [
    {
     "name": "stdout",
     "output_type": "stream",
     "text": [
      "                            OLS Regression Results                            \n",
      "==============================================================================\n",
      "Dep. Variable:                     nu   R-squared:                       0.938\n",
      "Model:                            OLS   Adj. R-squared:                  0.937\n",
      "Method:                 Least Squares   F-statistic:                     1144.\n",
      "Date:                Tue, 05 Oct 2021   Prob (F-statistic):          2.82e-136\n",
      "Time:                        14:51:15   Log-Likelihood:                -230.56\n",
      "No. Observations:                 230   AIC:                             469.1\n",
      "Df Residuals:                     226   BIC:                             482.9\n",
      "Df Model:                           3                                         \n",
      "Covariance Type:            nonrobust                                         \n",
      "================================================================================================\n",
      "                                   coef    std err          t      P>|t|      [0.025      0.975]\n",
      "------------------------------------------------------------------------------------------------\n",
      "Intercept                        0.6064      0.123      4.935      0.000       0.364       0.849\n",
      "iex_type[T.cex]                  0.2894      0.196      1.475      0.142      -0.097       0.676\n",
      "ln_phi_alpha                     0.1845      0.004     49.789      0.000       0.177       0.192\n",
      "ln_phi_alpha:iex_type[T.cex]    -0.0399      0.006     -6.535      0.000      -0.052      -0.028\n",
      "==============================================================================\n",
      "Omnibus:                       39.965   Durbin-Watson:                   1.863\n",
      "Prob(Omnibus):                  0.000   Jarque-Bera (JB):               73.043\n",
      "Skew:                           0.902   Prob(JB):                     1.38e-16\n",
      "Kurtosis:                       5.091   Cond. No.                         182.\n",
      "==============================================================================\n",
      "\n",
      "Notes:\n",
      "[1] Standard Errors assume that the covariance matrix of the errors is correctly specified.\n"
     ]
    }
   ],
   "source": [
    "mod = smf.ols(formula='nu ~ ln_phi_alpha * iex_type', data=df_2_fit_parms)\n",
    "\n",
    "res = mod.fit()\n",
    "print(res.summary())"
   ]
  },
  {
   "cell_type": "code",
   "execution_count": null,
   "id": "c74da30e",
   "metadata": {},
   "outputs": [],
   "source": []
  },
  {
   "cell_type": "markdown",
   "id": "5cb056ef",
   "metadata": {},
   "source": [
    "My notes:\n",
    "- Using R-style formulas in statsmodels:  https://www.statsmodels.org/dev/example_formulas.html\n",
    "- Categorical encoding in statsmodels:  https://www.statsmodels.org/stable/examples/notebooks/generated/contrasts.html\n",
    "    - I blieve the default is treatment (dummy) coding \n",
    "    - This looks like one-hot encoding above some baseline that represents the first treatment\n",
    "    - So here, the Intercept and ln_phi_alpha are for the aex data\n",
    "    - The iex_type[T.cex] is a term added onto the aex intercept, which is insignificant, so the intercepts don't differ\n",
    "    - However, the term that modifies the aex slope (ln_phi_alpha:iex_type[T.cex]) is significant, so the two slopes do significantly differ"
   ]
  },
  {
   "cell_type": "code",
   "execution_count": null,
   "id": "c0467b52",
   "metadata": {},
   "outputs": [],
   "source": []
  },
  {
   "cell_type": "markdown",
   "id": "bf7392ae",
   "metadata": {},
   "source": [
    "# Note the types of Python programs I have used"
   ]
  },
  {
   "cell_type": "code",
   "execution_count": 21,
   "id": "da2d6ed7",
   "metadata": {
    "ExecuteTime": {
     "end_time": "2021-10-05T18:51:44.661471Z",
     "start_time": "2021-10-05T18:51:44.657119Z"
    }
   },
   "outputs": [
    {
     "data": {
      "text/plain": [
       "(function, function, method)"
      ]
     },
     "execution_count": 21,
     "metadata": {},
     "output_type": "execute_result"
    }
   ],
   "source": [
    "type(scipy.optimize.differential_evolution), type(scipy.optimize.least_squares), type(smf.ols)"
   ]
  },
  {
   "cell_type": "markdown",
   "id": "54591b0e",
   "metadata": {},
   "source": [
    "From the python documentation:\n",
    "\n",
    "\"It’s important to keep in mind that all packages are modules, but not all modules are packages. Or put another way, packages are just a special kind of module. Specifically, any module that contains a \\__path__ attribute is considered a package.\"\n",
    "\n"
   ]
  },
  {
   "cell_type": "code",
   "execution_count": 36,
   "id": "e3f70613",
   "metadata": {
    "ExecuteTime": {
     "end_time": "2021-10-05T19:17:19.327645Z",
     "start_time": "2021-10-05T19:17:19.323293Z"
    }
   },
   "outputs": [
    {
     "data": {
      "text/plain": [
       "(True, True)"
      ]
     },
     "execution_count": 36,
     "metadata": {},
     "output_type": "execute_result"
    }
   ],
   "source": [
    "import scipy\n",
    "import statsmodels\n",
    "\n",
    "'__path__' in dir(statsmodels), '__path__' in dir(scipy)"
   ]
  },
  {
   "cell_type": "code",
   "execution_count": null,
   "id": "9ba7a661",
   "metadata": {},
   "outputs": [],
   "source": []
  }
 ],
 "metadata": {
  "kernelspec": {
   "display_name": "Python 3 (ipykernel)",
   "language": "python",
   "name": "python3"
  },
  "language_info": {
   "codemirror_mode": {
    "name": "ipython",
    "version": 3
   },
   "file_extension": ".py",
   "mimetype": "text/x-python",
   "name": "python",
   "nbconvert_exporter": "python",
   "pygments_lexer": "ipython3",
   "version": "3.7.12"
  }
 },
 "nbformat": 4,
 "nbformat_minor": 5
}
