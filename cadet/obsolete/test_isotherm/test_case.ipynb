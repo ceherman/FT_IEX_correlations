{
 "cells": [
  {
   "cell_type": "code",
   "execution_count": 1,
   "metadata": {
    "ExecuteTime": {
     "end_time": "2021-06-21T19:32:53.849490Z",
     "start_time": "2021-06-21T19:32:53.824964Z"
    }
   },
   "outputs": [
    {
     "data": {
      "text/html": [
       "<style>.container { width:100% !important; }</style>"
      ],
      "text/plain": [
       "<IPython.core.display.HTML object>"
      ]
     },
     "metadata": {},
     "output_type": "display_data"
    }
   ],
   "source": [
    "from IPython.core.display import display, HTML, clear_output\n",
    "display(HTML(\"<style>.container { width:100% !important; }</style>\"))\n",
    "\n",
    "%load_ext autoreload\n",
    "%autoreload 2"
   ]
  },
  {
   "cell_type": "code",
   "execution_count": 2,
   "metadata": {
    "ExecuteTime": {
     "end_time": "2021-06-21T19:32:55.187449Z",
     "start_time": "2021-06-21T19:32:54.341729Z"
    }
   },
   "outputs": [],
   "source": [
    "import my_cadet_utils as cad_utils\n",
    "from cadet_imports import *"
   ]
  },
  {
   "cell_type": "markdown",
   "metadata": {},
   "source": [
    "# Langmuir isotherm"
   ]
  },
  {
   "cell_type": "code",
   "execution_count": 3,
   "metadata": {
    "ExecuteTime": {
     "end_time": "2021-06-21T19:32:55.319921Z",
     "start_time": "2021-06-21T19:32:55.188790Z"
    }
   },
   "outputs": [
    {
     "name": "stdout",
     "output_type": "stream",
     "text": [
      "Simulation completed successfully\n"
     ]
    }
   ],
   "source": [
    "linear_gradient_model = cad_utils.get_cadet_template(n_units=2)\n",
    "n_comp = 2\n",
    "Q = 1e-3\n",
    "\n",
    "# INLET\n",
    "linear_gradient_model.root.input.model.unit_000.unit_type = 'INLET'\n",
    "linear_gradient_model.root.input.model.unit_000.ncomp = n_comp\n",
    "linear_gradient_model.root.input.model.unit_000.inlet_type = 'PIECEWISE_CUBIC_POLY'\n",
    "\n",
    "# CSTR\n",
    "linear_gradient_model.root.input.model.unit_001.unit_type = 'CSTR'\n",
    "linear_gradient_model.root.input.model.unit_001.use_analytic_jacobian = 0\n",
    "\n",
    "linear_gradient_model.root.input.model.unit_001.ncomp = n_comp\n",
    "linear_gradient_model.root.input.model.unit_001.init_volume = 1e-3\n",
    "linear_gradient_model.root.input.model.unit_001.porosity = 0.694\n",
    "linear_gradient_model.root.input.model.unit_001.init_c = n_comp*[0]\n",
    "linear_gradient_model.root.input.model.unit_001.init_q = n_comp*[0]\n",
    "linear_gradient_model.root.input.model.unit_001.flow_rate_filter = Q\n",
    "\n",
    "# Sections and Switches\n",
    "linear_gradient_model.root.input.solver.sections.nsec = 1\n",
    "linear_gradient_model.root.input.solver.sections.section_times = [0.0, 200]\n",
    "\n",
    "linear_gradient_model.root.input.model.unit_000.sec_000.const_coeff = [0.0, 0]\n",
    "linear_gradient_model.root.input.model.unit_000.sec_000.lin_coeff = [0, 1]\n",
    "\n",
    "linear_gradient_model.root.input.model.connections.nswitches = 1\n",
    "linear_gradient_model.root.input.model.connections.switch_000.section = 0\n",
    "linear_gradient_model.root.input.model.connections.switch_000.connections = [0, 1, -1, -1, Q]\n",
    "\n",
    "adsorption_model = 'MULTI_COMPONENT_LANGMUIR'\n",
    "adsorption_parameters = Dict()\n",
    "adsorption_parameters.is_kinetic = False\n",
    "adsorption_parameters.mcl_ka = [0, 1.0e2]\n",
    "adsorption_parameters.mcl_kd = [0, 1]\n",
    "adsorption_parameters.mcl_qmax = [0, 100.0]\n",
    "\n",
    "linear_gradient_model.root.input.model.unit_001.nbound = [0, 1]\n",
    "linear_gradient_model.root.input.model.unit_001.adsorption_model = adsorption_model\n",
    "linear_gradient_model.root.input.model.unit_001.adsorption = adsorption_parameters\n",
    "\n",
    "cad_utils.run_simulation(linear_gradient_model, 'test_case')\n",
    "solution_bulk  = linear_gradient_model.root.output.solution.unit_001.solution_bulk\n",
    "solution_solid = linear_gradient_model.root.output.solution.unit_001.solution_solid"
   ]
  },
  {
   "cell_type": "code",
   "execution_count": 5,
   "metadata": {
    "ExecuteTime": {
     "end_time": "2021-06-21T19:32:58.023977Z",
     "start_time": "2021-06-21T19:32:57.866882Z"
    }
   },
   "outputs": [
    {
     "data": {
      "text/plain": [
       "[<matplotlib.lines.Line2D at 0x7f8c24351f90>]"
      ]
     },
     "execution_count": 5,
     "metadata": {},
     "output_type": "execute_result"
    },
    {
     "data": {
      "image/png": "[encoded data removed]",
      "text/plain": [
       "<Figure size 504x360 with 1 Axes>"
      ]
     },
     "metadata": {
      "needs_background": "light"
     },
     "output_type": "display_data"
    }
   ],
   "source": [
    "fig, ax = plt.subplots()\n",
    "params  = {'font.weight':'normal', 'font.size':20, 'figure.autolayout':True}\n",
    "plt.rcParams.update(params)\n",
    "plt.xlabel('c [mol/m$^3$]')\n",
    "plt.ylabel('q [mol/m$^3$ solid]')\n",
    "fig.set_size_inches(7, 5, forward=True)\n",
    "# ax.set_xlim(-0.1, 5)\n",
    "\n",
    "ax.plot(solution_bulk[:,1], solution_solid[:,0])"
   ]
  },
  {
   "cell_type": "code",
   "execution_count": 12,
   "metadata": {
    "ExecuteTime": {
     "end_time": "2021-06-21T19:34:38.378318Z",
     "start_time": "2021-06-21T19:34:38.358235Z"
    }
   },
   "outputs": [
    {
     "data": {
      "text/plain": [
       "dict_keys(['solution_bulk', 'solution_inlet', 'solution_outlet', 'solution_solid', 'solution_volume'])"
      ]
     },
     "execution_count": 12,
     "metadata": {},
     "output_type": "execute_result"
    }
   ],
   "source": [
    "linear_gradient_model.root.output.solution.unit_001.keys()"
   ]
  },
  {
   "cell_type": "code",
   "execution_count": null,
   "metadata": {},
   "outputs": [],
   "source": []
  },
  {
   "cell_type": "markdown",
   "metadata": {},
   "source": [
    "# Loading simulation"
   ]
  },
  {
   "cell_type": "code",
   "execution_count": 10,
   "metadata": {
    "ExecuteTime": {
     "end_time": "2021-06-21T17:52:57.817504Z",
     "start_time": "2021-06-21T17:52:57.781193Z"
    }
   },
   "outputs": [],
   "source": [
    "linear_gradient_model = Cadet()\n",
    "linear_gradient_model.filename = os.path.join(Path().absolute(), 'temp_files', 'test_case.h5')\n",
    "linear_gradient_model.load()\n",
    "\n",
    "solution_bulk  = linear_gradient_model.root.output.solution.unit_001.solution_bulk\n",
    "solution_solid = linear_gradient_model.root.output.solution.unit_001.solution_solid"
   ]
  },
  {
   "cell_type": "code",
   "execution_count": 11,
   "metadata": {
    "ExecuteTime": {
     "end_time": "2021-06-21T17:52:58.071743Z",
     "start_time": "2021-06-21T17:52:57.918794Z"
    }
   },
   "outputs": [
    {
     "data": {
      "text/plain": [
       "[<matplotlib.lines.Line2D at 0x7f53b0015e90>]"
      ]
     },
     "execution_count": 11,
     "metadata": {},
     "output_type": "execute_result"
    },
    {
     "data": {
      "image/png": "[encoded data removed]",
      "text/plain": [
       "<Figure size 504x360 with 1 Axes>"
      ]
     },
     "metadata": {
      "needs_background": "light"
     },
     "output_type": "display_data"
    }
   ],
   "source": [
    "fig, ax = plt.subplots()\n",
    "params  = {'font.weight':'normal', 'font.size':20, 'figure.autolayout':True}\n",
    "plt.rcParams.update(params)\n",
    "plt.xlabel('c [mol/m$^3$]')\n",
    "plt.ylabel('q [mol/m$^3$ solid]')\n",
    "fig.set_size_inches(7, 5, forward=True)\n",
    "# ax.set_xlim(-0.1, 5)\n",
    "\n",
    "ax.plot(solution_bulk[:,1], solution_solid[:,0])"
   ]
  },
  {
   "cell_type": "code",
   "execution_count": null,
   "metadata": {
    "ExecuteTime": {
     "end_time": "2021-06-21T17:53:21.464850Z",
     "start_time": "2021-06-21T17:53:21.447168Z"
    }
   },
   "outputs": [],
   "source": []
  },
  {
   "cell_type": "code",
   "execution_count": null,
   "metadata": {},
   "outputs": [],
   "source": []
  },
  {
   "cell_type": "code",
   "execution_count": null,
   "metadata": {},
   "outputs": [],
   "source": []
  },
  {
   "cell_type": "code",
   "execution_count": null,
   "metadata": {},
   "outputs": [],
   "source": []
  },
  {
   "cell_type": "code",
   "execution_count": 19,
   "metadata": {
    "ExecuteTime": {
     "end_time": "2021-06-21T17:56:26.376117Z",
     "start_time": "2021-06-21T17:56:26.360983Z"
    }
   },
   "outputs": [],
   "source": [
    "from addict import Dict\n",
    "import h5py\n",
    "import cadet"
   ]
  },
  {
   "cell_type": "code",
   "execution_count": 15,
   "metadata": {
    "ExecuteTime": {
     "end_time": "2021-06-21T17:54:25.046721Z",
     "start_time": "2021-06-21T17:54:25.025220Z"
    }
   },
   "outputs": [
    {
     "ename": "AttributeError",
     "evalue": "module 'cadet' has no attribute 'recursively_load'",
     "output_type": "error",
     "traceback": [
      "\u001b[0;31m---------------------------------------------------------------------------\u001b[0m",
      "\u001b[0;31mAttributeError\u001b[0m                            Traceback (most recent call last)",
      "\u001b[0;32m<ipython-input-15-cc3255e433d9>\u001b[0m in \u001b[0;36m<module>\u001b[0;34m\u001b[0m\n\u001b[1;32m      1\u001b[0m \u001b[0;32mwith\u001b[0m \u001b[0mh5py\u001b[0m\u001b[0;34m.\u001b[0m\u001b[0mFile\u001b[0m\u001b[0;34m(\u001b[0m\u001b[0;34m'./temp_files/test_case.h5'\u001b[0m\u001b[0;34m,\u001b[0m \u001b[0;34m'r'\u001b[0m\u001b[0;34m)\u001b[0m \u001b[0;32mas\u001b[0m \u001b[0mh5file\u001b[0m\u001b[0;34m:\u001b[0m\u001b[0;34m\u001b[0m\u001b[0;34m\u001b[0m\u001b[0m\n\u001b[0;32m----> 2\u001b[0;31m     \u001b[0mdata\u001b[0m \u001b[0;34m=\u001b[0m \u001b[0mDict\u001b[0m\u001b[0;34m(\u001b[0m\u001b[0mcadet\u001b[0m\u001b[0;34m.\u001b[0m\u001b[0mrecursively_load\u001b[0m\u001b[0;34m(\u001b[0m\u001b[0mh5file\u001b[0m\u001b[0;34m,\u001b[0m \u001b[0;34m'/'\u001b[0m\u001b[0;34m)\u001b[0m\u001b[0;34m)\u001b[0m\u001b[0;34m\u001b[0m\u001b[0;34m\u001b[0m\u001b[0m\n\u001b[0m",
      "\u001b[0;31mAttributeError\u001b[0m: module 'cadet' has no attribute 'recursively_load'"
     ]
    }
   ],
   "source": [
    "with h5py.File('./temp_files/test_case.h5', 'r') as h5file:\n",
    "    data = Dict(cadet.recursively_load(h5file, '/'))"
   ]
  },
  {
   "cell_type": "code",
   "execution_count": null,
   "metadata": {},
   "outputs": [],
   "source": []
  },
  {
   "cell_type": "code",
   "execution_count": null,
   "metadata": {},
   "outputs": [],
   "source": []
  }
 ],
 "metadata": {
  "kernelspec": {
   "display_name": "Python 3",
   "language": "python",
   "name": "python3"
  },
  "language_info": {
   "codemirror_mode": {
    "name": "ipython",
    "version": 3
   },
   "file_extension": ".py",
   "mimetype": "text/x-python",
   "name": "python",
   "nbconvert_exporter": "python",
   "pygments_lexer": "ipython3",
   "version": "3.7.4"
  }
 },
 "nbformat": 4,
 "nbformat_minor": 2
}
