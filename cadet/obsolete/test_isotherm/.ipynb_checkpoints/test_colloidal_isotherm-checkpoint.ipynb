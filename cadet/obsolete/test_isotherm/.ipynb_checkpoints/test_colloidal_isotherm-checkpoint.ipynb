{
 "cells": [
  {
   "cell_type": "code",
   "execution_count": 5,
   "metadata": {
    "ExecuteTime": {
     "end_time": "2021-06-21T18:55:20.741398Z",
     "start_time": "2021-06-21T18:55:20.719982Z"
    }
   },
   "outputs": [
    {
     "data": {
      "text/html": [
       "<style>.container { width:100% !important; }</style>"
      ],
      "text/plain": [
       "<IPython.core.display.HTML object>"
      ]
     },
     "metadata": {},
     "output_type": "display_data"
    },
    {
     "name": "stdout",
     "output_type": "stream",
     "text": [
      "The autoreload extension is already loaded. To reload it, use:\n",
      "  %reload_ext autoreload\n"
     ]
    }
   ],
   "source": [
    "from IPython.core.display import display, HTML, clear_output\n",
    "display(HTML(\"<style>.container { width:100% !important; }</style>\"))\n",
    "\n",
    "%load_ext autoreload\n",
    "%autoreload 2"
   ]
  },
  {
   "cell_type": "code",
   "execution_count": 6,
   "metadata": {
    "ExecuteTime": {
     "end_time": "2021-06-21T18:55:21.225625Z",
     "start_time": "2021-06-21T18:55:21.208576Z"
    }
   },
   "outputs": [],
   "source": [
    "import my_cadet_utils as cad_utils\n",
    "from cadet_imports import *"
   ]
  },
  {
   "cell_type": "markdown",
   "metadata": {},
   "source": [
    "# Colloidal isotherm"
   ]
  },
  {
   "cell_type": "code",
   "execution_count": 21,
   "metadata": {
    "ExecuteTime": {
     "end_time": "2021-06-21T19:09:07.251843Z",
     "start_time": "2021-06-21T19:09:07.126982Z"
    }
   },
   "outputs": [
    {
     "name": "stdout",
     "output_type": "stream",
     "text": [
      "CompletedProcess(args=['/home/chase/codes/cadet/cadet/bin/cadet-cli', '/home/chase/my_work/cadet/test_isotherm/temp_files/colloidal_test.h5'], returncode=3, stdout=b\"[Error: idasErrorHandler::200] In function 'IDASolve' of module 'IDAS', error code 'IDA_ILL_INPUT':\\ntout too close to t0 to start integration.\\n[Error: integrate::1364] IDASolve returned IDA_ILL_INPUT at t = 0\\n\", stderr=b'SOLVER ERROR: Error in IDASolve: IDA_ILL_INPUT at t = 0.000000\\n')\n"
     ]
    },
    {
     "ename": "Exception",
     "evalue": "Simulation failed",
     "output_type": "error",
     "traceback": [
      "\u001b[0;31m---------------------------------------------------------------------------\u001b[0m",
      "\u001b[0;31mException\u001b[0m                                 Traceback (most recent call last)",
      "\u001b[0;32m<ipython-input-21-ea9063b1134a>\u001b[0m in \u001b[0;36m<module>\u001b[0;34m\u001b[0m\n\u001b[1;32m     57\u001b[0m \u001b[0mlinear_gradient_model\u001b[0m\u001b[0;34m.\u001b[0m\u001b[0mroot\u001b[0m\u001b[0;34m.\u001b[0m\u001b[0minput\u001b[0m\u001b[0;34m.\u001b[0m\u001b[0mmodel\u001b[0m\u001b[0;34m.\u001b[0m\u001b[0munit_001\u001b[0m\u001b[0;34m.\u001b[0m\u001b[0madsorption\u001b[0m \u001b[0;34m=\u001b[0m \u001b[0madsorption_parameters\u001b[0m\u001b[0;34m\u001b[0m\u001b[0;34m\u001b[0m\u001b[0m\n\u001b[1;32m     58\u001b[0m \u001b[0;34m\u001b[0m\u001b[0m\n\u001b[0;32m---> 59\u001b[0;31m \u001b[0mcad_utils\u001b[0m\u001b[0;34m.\u001b[0m\u001b[0mrun_simulation\u001b[0m\u001b[0;34m(\u001b[0m\u001b[0mlinear_gradient_model\u001b[0m\u001b[0;34m,\u001b[0m \u001b[0;34m'colloidal_test'\u001b[0m\u001b[0;34m)\u001b[0m\u001b[0;34m\u001b[0m\u001b[0;34m\u001b[0m\u001b[0m\n\u001b[0m\u001b[1;32m     60\u001b[0m \u001b[0msolution_bulk\u001b[0m  \u001b[0;34m=\u001b[0m \u001b[0mlinear_gradient_model\u001b[0m\u001b[0;34m.\u001b[0m\u001b[0mroot\u001b[0m\u001b[0;34m.\u001b[0m\u001b[0moutput\u001b[0m\u001b[0;34m.\u001b[0m\u001b[0msolution\u001b[0m\u001b[0;34m.\u001b[0m\u001b[0munit_001\u001b[0m\u001b[0;34m.\u001b[0m\u001b[0msolution_bulk\u001b[0m\u001b[0;34m\u001b[0m\u001b[0;34m\u001b[0m\u001b[0m\n\u001b[1;32m     61\u001b[0m \u001b[0msolution_solid\u001b[0m \u001b[0;34m=\u001b[0m \u001b[0mlinear_gradient_model\u001b[0m\u001b[0;34m.\u001b[0m\u001b[0mroot\u001b[0m\u001b[0;34m.\u001b[0m\u001b[0moutput\u001b[0m\u001b[0;34m.\u001b[0m\u001b[0msolution\u001b[0m\u001b[0;34m.\u001b[0m\u001b[0munit_001\u001b[0m\u001b[0;34m.\u001b[0m\u001b[0msolution_solid\u001b[0m\u001b[0;34m\u001b[0m\u001b[0;34m\u001b[0m\u001b[0m\n",
      "\u001b[0;32m~/my_work/cadet/test_isotherm/my_cadet_utils.py\u001b[0m in \u001b[0;36mrun_simulation\u001b[0;34m(cadet, file_name)\u001b[0m\n\u001b[1;32m     25\u001b[0m     \u001b[0;32melse\u001b[0m\u001b[0;34m:\u001b[0m\u001b[0;34m\u001b[0m\u001b[0;34m\u001b[0m\u001b[0m\n\u001b[1;32m     26\u001b[0m         \u001b[0mprint\u001b[0m\u001b[0;34m(\u001b[0m\u001b[0mdata\u001b[0m\u001b[0;34m)\u001b[0m\u001b[0;34m\u001b[0m\u001b[0;34m\u001b[0m\u001b[0m\n\u001b[0;32m---> 27\u001b[0;31m         \u001b[0;32mraise\u001b[0m \u001b[0mException\u001b[0m\u001b[0;34m(\u001b[0m\u001b[0;34m\"Simulation failed\"\u001b[0m\u001b[0;34m)\u001b[0m\u001b[0;34m\u001b[0m\u001b[0;34m\u001b[0m\u001b[0m\n\u001b[0m\u001b[1;32m     28\u001b[0m \u001b[0;34m\u001b[0m\u001b[0m\n\u001b[1;32m     29\u001b[0m     \u001b[0;32mif\u001b[0m \u001b[0mfile_name\u001b[0m \u001b[0;32mis\u001b[0m \u001b[0;32mNone\u001b[0m\u001b[0;34m:\u001b[0m\u001b[0;34m\u001b[0m\u001b[0;34m\u001b[0m\u001b[0m\n",
      "\u001b[0;31mException\u001b[0m: Simulation failed"
     ]
    }
   ],
   "source": [
    "linear_gradient_model = cad_utils.get_cadet_template(n_units=2)\n",
    "n_comp = 3\n",
    "Q = 1e-3\n",
    "\n",
    "# INLET\n",
    "linear_gradient_model.root.input.model.unit_000.unit_type = 'INLET'\n",
    "linear_gradient_model.root.input.model.unit_000.ncomp = n_comp\n",
    "linear_gradient_model.root.input.model.unit_000.inlet_type = 'PIECEWISE_CUBIC_POLY'\n",
    "\n",
    "# CSTR\n",
    "linear_gradient_model.root.input.model.unit_001.unit_type = 'CSTR'\n",
    "linear_gradient_model.root.input.model.unit_001.use_analytic_jacobian = 0\n",
    "\n",
    "linear_gradient_model.root.input.model.unit_001.ncomp = n_comp\n",
    "linear_gradient_model.root.input.model.unit_001.init_volume = 1e-3\n",
    "linear_gradient_model.root.input.model.unit_001.porosity = 0.694\n",
    "linear_gradient_model.root.input.model.unit_001.init_c = n_comp*[0.0]\n",
    "linear_gradient_model.root.input.model.unit_001.init_q = n_comp*[0.0]\n",
    "linear_gradient_model.root.input.model.unit_001.flow_rate_filter = Q\n",
    "\n",
    "# Sections and Switches\n",
    "linear_gradient_model.root.input.solver.sections.nsec = 1\n",
    "linear_gradient_model.root.input.solver.sections.section_times = [0.0, 0.0, 200]\n",
    "\n",
    "linear_gradient_model.root.input.model.unit_000.sec_000.const_coeff = n_comp*[0.0]\n",
    "linear_gradient_model.root.input.model.unit_000.sec_000.lin_coeff = [0.0, 0.0, 1.0]\n",
    "\n",
    "linear_gradient_model.root.input.model.connections.nswitches = 1\n",
    "linear_gradient_model.root.input.model.connections.switch_000.section = 0\n",
    "linear_gradient_model.root.input.model.connections.switch_000.connections = [0, 1, -1, -1, Q]\n",
    "\n",
    "adsorption_model = \"MULTI_COMPONENT_COLLOIDAL\"\n",
    "adsorption_parameters = Dict()\n",
    "adsorption_parameters.is_kinetic = True\n",
    "adsorption_parameters.col_phi = 0.56\n",
    "adsorption_parameters.col_kappa_exp = 1.8\n",
    "adsorption_parameters.col_kappa_fact = 1e7\n",
    "adsorption_parameters.col_kappa_const = 1.2\n",
    "adsorption_parameters.col_cordnum = 4.0\n",
    "adsorption_parameters.col_logkeq_ph_exp = [0.0, 0.0, 1.3]\n",
    "adsorption_parameters.col_logkeq_salt_powexp = [0.0, 0.0, 1.4]\n",
    "adsorption_parameters.col_logkeq_salt_powfact = [0.0, 0.0, 1.7]\n",
    "adsorption_parameters.col_logkeq_salt_expfact = [0.0, 0.0, 2.1]\n",
    "adsorption_parameters.col_logkeq_salt_expargmult = [0.0, 0.0, 2.5]\n",
    "adsorption_parameters.col_bpp_ph_exp = [0.0, 0.0, 2.5]\n",
    "adsorption_parameters.col_bpp_salt_powexp = [0.0, 0.0, 1.1]\n",
    "adsorption_parameters.col_bpp_salt_powfact = [0.0, 0.0, 2.9]\n",
    "adsorption_parameters.col_bpp_salt_expfact = [0.0, 0.0, 1.3]\n",
    "adsorption_parameters.col_bpp_salt_expargmult = [0.0, 0.0, 3.0]\n",
    "adsorption_parameters.col_radius = [0.0, 0.0, 1.1e-8]\n",
    "adsorption_parameters.col_kkin = [0.0, 0.0, 0.9]\n",
    "adsorption_parameters.col_linear_threshold = 1.0e-8\n",
    "adsorption_parameters.col_use_ph = False\n",
    "\n",
    "linear_gradient_model.root.input.model.unit_001.nbound = [0, 0, 1]\n",
    "linear_gradient_model.root.input.model.unit_001.adsorption_model = adsorption_model\n",
    "linear_gradient_model.root.input.model.unit_001.adsorption = adsorption_parameters\n",
    "\n",
    "cad_utils.run_simulation(linear_gradient_model, 'colloidal_test')\n",
    "solution_bulk  = linear_gradient_model.root.output.solution.unit_001.solution_bulk\n",
    "solution_solid = linear_gradient_model.root.output.solution.unit_001.solution_solid"
   ]
  },
  {
   "cell_type": "code",
   "execution_count": null,
   "metadata": {
    "ExecuteTime": {
     "end_time": "2021-06-21T14:59:05.304463Z",
     "start_time": "2021-06-21T14:59:04.558Z"
    }
   },
   "outputs": [],
   "source": [
    "fig, ax = plt.subplots()\n",
    "params  = {'font.weight':'normal', 'font.size':20, 'figure.autolayout':True}\n",
    "plt.rcParams.update(params)\n",
    "plt.xlabel('c [mol/m$^3$]')\n",
    "plt.ylabel('q [mol/m$^3$ solid]')\n",
    "fig.set_size_inches(7, 5, forward=True)\n",
    "# ax.set_xlim(-0.1, 5)\n",
    "\n",
    "ax.plot(solution_bulk[:,1], solution_solid[:,0])"
   ]
  },
  {
   "cell_type": "code",
   "execution_count": null,
   "metadata": {},
   "outputs": [],
   "source": []
  },
  {
   "cell_type": "code",
   "execution_count": null,
   "metadata": {},
   "outputs": [],
   "source": []
  },
  {
   "cell_type": "code",
   "execution_count": null,
   "metadata": {},
   "outputs": [],
   "source": []
  },
  {
   "cell_type": "code",
   "execution_count": null,
   "metadata": {},
   "outputs": [],
   "source": []
  },
  {
   "cell_type": "code",
   "execution_count": null,
   "metadata": {},
   "outputs": [],
   "source": []
  },
  {
   "cell_type": "code",
   "execution_count": null,
   "metadata": {},
   "outputs": [],
   "source": []
  },
  {
   "cell_type": "code",
   "execution_count": null,
   "metadata": {},
   "outputs": [],
   "source": []
  },
  {
   "cell_type": "code",
   "execution_count": null,
   "metadata": {},
   "outputs": [],
   "source": []
  },
  {
   "cell_type": "code",
   "execution_count": null,
   "metadata": {},
   "outputs": [],
   "source": []
  },
  {
   "cell_type": "code",
   "execution_count": null,
   "metadata": {},
   "outputs": [],
   "source": []
  }
 ],
 "metadata": {
  "kernelspec": {
   "display_name": "Python 3",
   "language": "python",
   "name": "python3"
  },
  "language_info": {
   "codemirror_mode": {
    "name": "ipython",
    "version": 3
   },
   "file_extension": ".py",
   "mimetype": "text/x-python",
   "name": "python",
   "nbconvert_exporter": "python",
   "pygments_lexer": "ipython3",
   "version": "3.7.4"
  }
 },
 "nbformat": 4,
 "nbformat_minor": 2
}
